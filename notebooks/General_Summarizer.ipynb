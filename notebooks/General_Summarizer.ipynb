{
  "nbformat": 4,
  "nbformat_minor": 0,
  "metadata": {
    "colab": {
      "name": "General Summarizer.ipynb",
      "provenance": [],
      "collapsed_sections": []
    },
    "kernelspec": {
      "name": "python3",
      "display_name": "Python 3"
    },
    "accelerator": "GPU",
    "widgets": {
      "application/vnd.jupyter.widget-state+json": {
        "6741695c351649fa9973a8cbdd4f1483": {
          "model_module": "@jupyter-widgets/controls",
          "model_name": "HBoxModel",
          "state": {
            "_view_name": "HBoxView",
            "_dom_classes": [],
            "_model_name": "HBoxModel",
            "_view_module": "@jupyter-widgets/controls",
            "_model_module_version": "1.5.0",
            "_view_count": null,
            "_view_module_version": "1.5.0",
            "box_style": "",
            "layout": "IPY_MODEL_8d04faeabec9428bac5e6e5d4081cf44",
            "_model_module": "@jupyter-widgets/controls",
            "children": [
              "IPY_MODEL_c9ef086823b9473b99c6a13066840c2f",
              "IPY_MODEL_03b8eb5037334d6b9114bc23a266a61d"
            ]
          }
        },
        "8d04faeabec9428bac5e6e5d4081cf44": {
          "model_module": "@jupyter-widgets/base",
          "model_name": "LayoutModel",
          "state": {
            "_view_name": "LayoutView",
            "grid_template_rows": null,
            "right": null,
            "justify_content": null,
            "_view_module": "@jupyter-widgets/base",
            "overflow": null,
            "_model_module_version": "1.2.0",
            "_view_count": null,
            "flex_flow": null,
            "width": null,
            "min_width": null,
            "border": null,
            "align_items": null,
            "bottom": null,
            "_model_module": "@jupyter-widgets/base",
            "top": null,
            "grid_column": null,
            "overflow_y": null,
            "overflow_x": null,
            "grid_auto_flow": null,
            "grid_area": null,
            "grid_template_columns": null,
            "flex": null,
            "_model_name": "LayoutModel",
            "justify_items": null,
            "grid_row": null,
            "max_height": null,
            "align_content": null,
            "visibility": null,
            "align_self": null,
            "height": null,
            "min_height": null,
            "padding": null,
            "grid_auto_rows": null,
            "grid_gap": null,
            "max_width": null,
            "order": null,
            "_view_module_version": "1.2.0",
            "grid_template_areas": null,
            "object_position": null,
            "object_fit": null,
            "grid_auto_columns": null,
            "margin": null,
            "display": null,
            "left": null
          }
        },
        "c9ef086823b9473b99c6a13066840c2f": {
          "model_module": "@jupyter-widgets/controls",
          "model_name": "FloatProgressModel",
          "state": {
            "_view_name": "ProgressView",
            "style": "IPY_MODEL_d378ed136cd04cdcbe826201cc8c82ef",
            "_dom_classes": [],
            "description": "Downloading: 100%",
            "_model_name": "FloatProgressModel",
            "bar_style": "success",
            "max": 1030,
            "_view_module": "@jupyter-widgets/controls",
            "_model_module_version": "1.5.0",
            "value": 1030,
            "_view_count": null,
            "_view_module_version": "1.5.0",
            "orientation": "horizontal",
            "min": 0,
            "description_tooltip": null,
            "_model_module": "@jupyter-widgets/controls",
            "layout": "IPY_MODEL_124d59d0bd644da4afa594ed97cd7e14"
          }
        },
        "03b8eb5037334d6b9114bc23a266a61d": {
          "model_module": "@jupyter-widgets/controls",
          "model_name": "HTMLModel",
          "state": {
            "_view_name": "HTMLView",
            "style": "IPY_MODEL_93ef851b5aa6448b8cb05f9f50db02d8",
            "_dom_classes": [],
            "description": "",
            "_model_name": "HTMLModel",
            "placeholder": "​",
            "_view_module": "@jupyter-widgets/controls",
            "_model_module_version": "1.5.0",
            "value": " 1.03k/1.03k [00:01&lt;00:00, 615B/s]",
            "_view_count": null,
            "_view_module_version": "1.5.0",
            "description_tooltip": null,
            "_model_module": "@jupyter-widgets/controls",
            "layout": "IPY_MODEL_b3ee62dfc0304c8b97aa2bd92f5ed4b8"
          }
        },
        "d378ed136cd04cdcbe826201cc8c82ef": {
          "model_module": "@jupyter-widgets/controls",
          "model_name": "ProgressStyleModel",
          "state": {
            "_view_name": "StyleView",
            "_model_name": "ProgressStyleModel",
            "description_width": "initial",
            "_view_module": "@jupyter-widgets/base",
            "_model_module_version": "1.5.0",
            "_view_count": null,
            "_view_module_version": "1.2.0",
            "bar_color": null,
            "_model_module": "@jupyter-widgets/controls"
          }
        },
        "124d59d0bd644da4afa594ed97cd7e14": {
          "model_module": "@jupyter-widgets/base",
          "model_name": "LayoutModel",
          "state": {
            "_view_name": "LayoutView",
            "grid_template_rows": null,
            "right": null,
            "justify_content": null,
            "_view_module": "@jupyter-widgets/base",
            "overflow": null,
            "_model_module_version": "1.2.0",
            "_view_count": null,
            "flex_flow": null,
            "width": null,
            "min_width": null,
            "border": null,
            "align_items": null,
            "bottom": null,
            "_model_module": "@jupyter-widgets/base",
            "top": null,
            "grid_column": null,
            "overflow_y": null,
            "overflow_x": null,
            "grid_auto_flow": null,
            "grid_area": null,
            "grid_template_columns": null,
            "flex": null,
            "_model_name": "LayoutModel",
            "justify_items": null,
            "grid_row": null,
            "max_height": null,
            "align_content": null,
            "visibility": null,
            "align_self": null,
            "height": null,
            "min_height": null,
            "padding": null,
            "grid_auto_rows": null,
            "grid_gap": null,
            "max_width": null,
            "order": null,
            "_view_module_version": "1.2.0",
            "grid_template_areas": null,
            "object_position": null,
            "object_fit": null,
            "grid_auto_columns": null,
            "margin": null,
            "display": null,
            "left": null
          }
        },
        "93ef851b5aa6448b8cb05f9f50db02d8": {
          "model_module": "@jupyter-widgets/controls",
          "model_name": "DescriptionStyleModel",
          "state": {
            "_view_name": "StyleView",
            "_model_name": "DescriptionStyleModel",
            "description_width": "",
            "_view_module": "@jupyter-widgets/base",
            "_model_module_version": "1.5.0",
            "_view_count": null,
            "_view_module_version": "1.2.0",
            "_model_module": "@jupyter-widgets/controls"
          }
        },
        "b3ee62dfc0304c8b97aa2bd92f5ed4b8": {
          "model_module": "@jupyter-widgets/base",
          "model_name": "LayoutModel",
          "state": {
            "_view_name": "LayoutView",
            "grid_template_rows": null,
            "right": null,
            "justify_content": null,
            "_view_module": "@jupyter-widgets/base",
            "overflow": null,
            "_model_module_version": "1.2.0",
            "_view_count": null,
            "flex_flow": null,
            "width": null,
            "min_width": null,
            "border": null,
            "align_items": null,
            "bottom": null,
            "_model_module": "@jupyter-widgets/base",
            "top": null,
            "grid_column": null,
            "overflow_y": null,
            "overflow_x": null,
            "grid_auto_flow": null,
            "grid_area": null,
            "grid_template_columns": null,
            "flex": null,
            "_model_name": "LayoutModel",
            "justify_items": null,
            "grid_row": null,
            "max_height": null,
            "align_content": null,
            "visibility": null,
            "align_self": null,
            "height": null,
            "min_height": null,
            "padding": null,
            "grid_auto_rows": null,
            "grid_gap": null,
            "max_width": null,
            "order": null,
            "_view_module_version": "1.2.0",
            "grid_template_areas": null,
            "object_position": null,
            "object_fit": null,
            "grid_auto_columns": null,
            "margin": null,
            "display": null,
            "left": null
          }
        },
        "fc2c47917f1645a8876c6feb8979545b": {
          "model_module": "@jupyter-widgets/controls",
          "model_name": "HBoxModel",
          "state": {
            "_view_name": "HBoxView",
            "_dom_classes": [],
            "_model_name": "HBoxModel",
            "_view_module": "@jupyter-widgets/controls",
            "_model_module_version": "1.5.0",
            "_view_count": null,
            "_view_module_version": "1.5.0",
            "box_style": "",
            "layout": "IPY_MODEL_2959a03d6f794ef28a0c680c3ac234b5",
            "_model_module": "@jupyter-widgets/controls",
            "children": [
              "IPY_MODEL_5a53f5b966704722948237948e4150ae",
              "IPY_MODEL_99b9529c7cff4fa29dcc90e3b2618c37"
            ]
          }
        },
        "2959a03d6f794ef28a0c680c3ac234b5": {
          "model_module": "@jupyter-widgets/base",
          "model_name": "LayoutModel",
          "state": {
            "_view_name": "LayoutView",
            "grid_template_rows": null,
            "right": null,
            "justify_content": null,
            "_view_module": "@jupyter-widgets/base",
            "overflow": null,
            "_model_module_version": "1.2.0",
            "_view_count": null,
            "flex_flow": null,
            "width": null,
            "min_width": null,
            "border": null,
            "align_items": null,
            "bottom": null,
            "_model_module": "@jupyter-widgets/base",
            "top": null,
            "grid_column": null,
            "overflow_y": null,
            "overflow_x": null,
            "grid_auto_flow": null,
            "grid_area": null,
            "grid_template_columns": null,
            "flex": null,
            "_model_name": "LayoutModel",
            "justify_items": null,
            "grid_row": null,
            "max_height": null,
            "align_content": null,
            "visibility": null,
            "align_self": null,
            "height": null,
            "min_height": null,
            "padding": null,
            "grid_auto_rows": null,
            "grid_gap": null,
            "max_width": null,
            "order": null,
            "_view_module_version": "1.2.0",
            "grid_template_areas": null,
            "object_position": null,
            "object_fit": null,
            "grid_auto_columns": null,
            "margin": null,
            "display": null,
            "left": null
          }
        },
        "5a53f5b966704722948237948e4150ae": {
          "model_module": "@jupyter-widgets/controls",
          "model_name": "FloatProgressModel",
          "state": {
            "_view_name": "ProgressView",
            "style": "IPY_MODEL_fb016abd8b9f4e23b0d68913f38d9a15",
            "_dom_classes": [],
            "description": "Downloading: 100%",
            "_model_name": "FloatProgressModel",
            "bar_style": "success",
            "max": 898822,
            "_view_module": "@jupyter-widgets/controls",
            "_model_module_version": "1.5.0",
            "value": 898822,
            "_view_count": null,
            "_view_module_version": "1.5.0",
            "orientation": "horizontal",
            "min": 0,
            "description_tooltip": null,
            "_model_module": "@jupyter-widgets/controls",
            "layout": "IPY_MODEL_e8abf97215fb4660948c6391ec7bef5b"
          }
        },
        "99b9529c7cff4fa29dcc90e3b2618c37": {
          "model_module": "@jupyter-widgets/controls",
          "model_name": "HTMLModel",
          "state": {
            "_view_name": "HTMLView",
            "style": "IPY_MODEL_2467af3f84674ff3b209ee31e90608cb",
            "_dom_classes": [],
            "description": "",
            "_model_name": "HTMLModel",
            "placeholder": "​",
            "_view_module": "@jupyter-widgets/controls",
            "_model_module_version": "1.5.0",
            "value": " 899k/899k [00:08&lt;00:00, 108kB/s]",
            "_view_count": null,
            "_view_module_version": "1.5.0",
            "description_tooltip": null,
            "_model_module": "@jupyter-widgets/controls",
            "layout": "IPY_MODEL_7108999cb0ef48de9a194c7914fc765c"
          }
        },
        "fb016abd8b9f4e23b0d68913f38d9a15": {
          "model_module": "@jupyter-widgets/controls",
          "model_name": "ProgressStyleModel",
          "state": {
            "_view_name": "StyleView",
            "_model_name": "ProgressStyleModel",
            "description_width": "initial",
            "_view_module": "@jupyter-widgets/base",
            "_model_module_version": "1.5.0",
            "_view_count": null,
            "_view_module_version": "1.2.0",
            "bar_color": null,
            "_model_module": "@jupyter-widgets/controls"
          }
        },
        "e8abf97215fb4660948c6391ec7bef5b": {
          "model_module": "@jupyter-widgets/base",
          "model_name": "LayoutModel",
          "state": {
            "_view_name": "LayoutView",
            "grid_template_rows": null,
            "right": null,
            "justify_content": null,
            "_view_module": "@jupyter-widgets/base",
            "overflow": null,
            "_model_module_version": "1.2.0",
            "_view_count": null,
            "flex_flow": null,
            "width": null,
            "min_width": null,
            "border": null,
            "align_items": null,
            "bottom": null,
            "_model_module": "@jupyter-widgets/base",
            "top": null,
            "grid_column": null,
            "overflow_y": null,
            "overflow_x": null,
            "grid_auto_flow": null,
            "grid_area": null,
            "grid_template_columns": null,
            "flex": null,
            "_model_name": "LayoutModel",
            "justify_items": null,
            "grid_row": null,
            "max_height": null,
            "align_content": null,
            "visibility": null,
            "align_self": null,
            "height": null,
            "min_height": null,
            "padding": null,
            "grid_auto_rows": null,
            "grid_gap": null,
            "max_width": null,
            "order": null,
            "_view_module_version": "1.2.0",
            "grid_template_areas": null,
            "object_position": null,
            "object_fit": null,
            "grid_auto_columns": null,
            "margin": null,
            "display": null,
            "left": null
          }
        },
        "2467af3f84674ff3b209ee31e90608cb": {
          "model_module": "@jupyter-widgets/controls",
          "model_name": "DescriptionStyleModel",
          "state": {
            "_view_name": "StyleView",
            "_model_name": "DescriptionStyleModel",
            "description_width": "",
            "_view_module": "@jupyter-widgets/base",
            "_model_module_version": "1.5.0",
            "_view_count": null,
            "_view_module_version": "1.2.0",
            "_model_module": "@jupyter-widgets/controls"
          }
        },
        "7108999cb0ef48de9a194c7914fc765c": {
          "model_module": "@jupyter-widgets/base",
          "model_name": "LayoutModel",
          "state": {
            "_view_name": "LayoutView",
            "grid_template_rows": null,
            "right": null,
            "justify_content": null,
            "_view_module": "@jupyter-widgets/base",
            "overflow": null,
            "_model_module_version": "1.2.0",
            "_view_count": null,
            "flex_flow": null,
            "width": null,
            "min_width": null,
            "border": null,
            "align_items": null,
            "bottom": null,
            "_model_module": "@jupyter-widgets/base",
            "top": null,
            "grid_column": null,
            "overflow_y": null,
            "overflow_x": null,
            "grid_auto_flow": null,
            "grid_area": null,
            "grid_template_columns": null,
            "flex": null,
            "_model_name": "LayoutModel",
            "justify_items": null,
            "grid_row": null,
            "max_height": null,
            "align_content": null,
            "visibility": null,
            "align_self": null,
            "height": null,
            "min_height": null,
            "padding": null,
            "grid_auto_rows": null,
            "grid_gap": null,
            "max_width": null,
            "order": null,
            "_view_module_version": "1.2.0",
            "grid_template_areas": null,
            "object_position": null,
            "object_fit": null,
            "grid_auto_columns": null,
            "margin": null,
            "display": null,
            "left": null
          }
        },
        "59686392f63f4352b8a9c33b76ee0ff5": {
          "model_module": "@jupyter-widgets/controls",
          "model_name": "HBoxModel",
          "state": {
            "_view_name": "HBoxView",
            "_dom_classes": [],
            "_model_name": "HBoxModel",
            "_view_module": "@jupyter-widgets/controls",
            "_model_module_version": "1.5.0",
            "_view_count": null,
            "_view_module_version": "1.5.0",
            "box_style": "",
            "layout": "IPY_MODEL_b60728319bf04281886f37b239a93b47",
            "_model_module": "@jupyter-widgets/controls",
            "children": [
              "IPY_MODEL_65c8890b97f248438dc22386a1212ccf",
              "IPY_MODEL_07c722fe35df4adba22aba344d564969"
            ]
          }
        },
        "b60728319bf04281886f37b239a93b47": {
          "model_module": "@jupyter-widgets/base",
          "model_name": "LayoutModel",
          "state": {
            "_view_name": "LayoutView",
            "grid_template_rows": null,
            "right": null,
            "justify_content": null,
            "_view_module": "@jupyter-widgets/base",
            "overflow": null,
            "_model_module_version": "1.2.0",
            "_view_count": null,
            "flex_flow": null,
            "width": null,
            "min_width": null,
            "border": null,
            "align_items": null,
            "bottom": null,
            "_model_module": "@jupyter-widgets/base",
            "top": null,
            "grid_column": null,
            "overflow_y": null,
            "overflow_x": null,
            "grid_auto_flow": null,
            "grid_area": null,
            "grid_template_columns": null,
            "flex": null,
            "_model_name": "LayoutModel",
            "justify_items": null,
            "grid_row": null,
            "max_height": null,
            "align_content": null,
            "visibility": null,
            "align_self": null,
            "height": null,
            "min_height": null,
            "padding": null,
            "grid_auto_rows": null,
            "grid_gap": null,
            "max_width": null,
            "order": null,
            "_view_module_version": "1.2.0",
            "grid_template_areas": null,
            "object_position": null,
            "object_fit": null,
            "grid_auto_columns": null,
            "margin": null,
            "display": null,
            "left": null
          }
        },
        "65c8890b97f248438dc22386a1212ccf": {
          "model_module": "@jupyter-widgets/controls",
          "model_name": "FloatProgressModel",
          "state": {
            "_view_name": "ProgressView",
            "style": "IPY_MODEL_f990d4b3cde348dc92f4d04c7a345d17",
            "_dom_classes": [],
            "description": "Downloading: 100%",
            "_model_name": "FloatProgressModel",
            "bar_style": "success",
            "max": 456318,
            "_view_module": "@jupyter-widgets/controls",
            "_model_module_version": "1.5.0",
            "value": 456318,
            "_view_count": null,
            "_view_module_version": "1.5.0",
            "orientation": "horizontal",
            "min": 0,
            "description_tooltip": null,
            "_model_module": "@jupyter-widgets/controls",
            "layout": "IPY_MODEL_143d7e4c7cbe451280cf65994c86bf7b"
          }
        },
        "07c722fe35df4adba22aba344d564969": {
          "model_module": "@jupyter-widgets/controls",
          "model_name": "HTMLModel",
          "state": {
            "_view_name": "HTMLView",
            "style": "IPY_MODEL_9eddc9c751c64fccb695cef98e98853a",
            "_dom_classes": [],
            "description": "",
            "_model_name": "HTMLModel",
            "placeholder": "​",
            "_view_module": "@jupyter-widgets/controls",
            "_model_module_version": "1.5.0",
            "value": " 456k/456k [00:04&lt;00:00, 93.4kB/s]",
            "_view_count": null,
            "_view_module_version": "1.5.0",
            "description_tooltip": null,
            "_model_module": "@jupyter-widgets/controls",
            "layout": "IPY_MODEL_ae1d5ac60de14cb5ad482514731394e3"
          }
        },
        "f990d4b3cde348dc92f4d04c7a345d17": {
          "model_module": "@jupyter-widgets/controls",
          "model_name": "ProgressStyleModel",
          "state": {
            "_view_name": "StyleView",
            "_model_name": "ProgressStyleModel",
            "description_width": "initial",
            "_view_module": "@jupyter-widgets/base",
            "_model_module_version": "1.5.0",
            "_view_count": null,
            "_view_module_version": "1.2.0",
            "bar_color": null,
            "_model_module": "@jupyter-widgets/controls"
          }
        },
        "143d7e4c7cbe451280cf65994c86bf7b": {
          "model_module": "@jupyter-widgets/base",
          "model_name": "LayoutModel",
          "state": {
            "_view_name": "LayoutView",
            "grid_template_rows": null,
            "right": null,
            "justify_content": null,
            "_view_module": "@jupyter-widgets/base",
            "overflow": null,
            "_model_module_version": "1.2.0",
            "_view_count": null,
            "flex_flow": null,
            "width": null,
            "min_width": null,
            "border": null,
            "align_items": null,
            "bottom": null,
            "_model_module": "@jupyter-widgets/base",
            "top": null,
            "grid_column": null,
            "overflow_y": null,
            "overflow_x": null,
            "grid_auto_flow": null,
            "grid_area": null,
            "grid_template_columns": null,
            "flex": null,
            "_model_name": "LayoutModel",
            "justify_items": null,
            "grid_row": null,
            "max_height": null,
            "align_content": null,
            "visibility": null,
            "align_self": null,
            "height": null,
            "min_height": null,
            "padding": null,
            "grid_auto_rows": null,
            "grid_gap": null,
            "max_width": null,
            "order": null,
            "_view_module_version": "1.2.0",
            "grid_template_areas": null,
            "object_position": null,
            "object_fit": null,
            "grid_auto_columns": null,
            "margin": null,
            "display": null,
            "left": null
          }
        },
        "9eddc9c751c64fccb695cef98e98853a": {
          "model_module": "@jupyter-widgets/controls",
          "model_name": "DescriptionStyleModel",
          "state": {
            "_view_name": "StyleView",
            "_model_name": "DescriptionStyleModel",
            "description_width": "",
            "_view_module": "@jupyter-widgets/base",
            "_model_module_version": "1.5.0",
            "_view_count": null,
            "_view_module_version": "1.2.0",
            "_model_module": "@jupyter-widgets/controls"
          }
        },
        "ae1d5ac60de14cb5ad482514731394e3": {
          "model_module": "@jupyter-widgets/base",
          "model_name": "LayoutModel",
          "state": {
            "_view_name": "LayoutView",
            "grid_template_rows": null,
            "right": null,
            "justify_content": null,
            "_view_module": "@jupyter-widgets/base",
            "overflow": null,
            "_model_module_version": "1.2.0",
            "_view_count": null,
            "flex_flow": null,
            "width": null,
            "min_width": null,
            "border": null,
            "align_items": null,
            "bottom": null,
            "_model_module": "@jupyter-widgets/base",
            "top": null,
            "grid_column": null,
            "overflow_y": null,
            "overflow_x": null,
            "grid_auto_flow": null,
            "grid_area": null,
            "grid_template_columns": null,
            "flex": null,
            "_model_name": "LayoutModel",
            "justify_items": null,
            "grid_row": null,
            "max_height": null,
            "align_content": null,
            "visibility": null,
            "align_self": null,
            "height": null,
            "min_height": null,
            "padding": null,
            "grid_auto_rows": null,
            "grid_gap": null,
            "max_width": null,
            "order": null,
            "_view_module_version": "1.2.0",
            "grid_template_areas": null,
            "object_position": null,
            "object_fit": null,
            "grid_auto_columns": null,
            "margin": null,
            "display": null,
            "left": null
          }
        },
        "5272ce3cd5164c1eb4ab5a37931fb8b5": {
          "model_module": "@jupyter-widgets/controls",
          "model_name": "HBoxModel",
          "state": {
            "_view_name": "HBoxView",
            "_dom_classes": [],
            "_model_name": "HBoxModel",
            "_view_module": "@jupyter-widgets/controls",
            "_model_module_version": "1.5.0",
            "_view_count": null,
            "_view_module_version": "1.5.0",
            "box_style": "",
            "layout": "IPY_MODEL_2f413e7cc9234bcfbb4a31c2d9da3d1f",
            "_model_module": "@jupyter-widgets/controls",
            "children": [
              "IPY_MODEL_7a5d2bd36b604d76947c8dc483e6d54c",
              "IPY_MODEL_7e660e612c1347aa9bd2c6b0e0a8ebc4"
            ]
          }
        },
        "2f413e7cc9234bcfbb4a31c2d9da3d1f": {
          "model_module": "@jupyter-widgets/base",
          "model_name": "LayoutModel",
          "state": {
            "_view_name": "LayoutView",
            "grid_template_rows": null,
            "right": null,
            "justify_content": null,
            "_view_module": "@jupyter-widgets/base",
            "overflow": null,
            "_model_module_version": "1.2.0",
            "_view_count": null,
            "flex_flow": null,
            "width": null,
            "min_width": null,
            "border": null,
            "align_items": null,
            "bottom": null,
            "_model_module": "@jupyter-widgets/base",
            "top": null,
            "grid_column": null,
            "overflow_y": null,
            "overflow_x": null,
            "grid_auto_flow": null,
            "grid_area": null,
            "grid_template_columns": null,
            "flex": null,
            "_model_name": "LayoutModel",
            "justify_items": null,
            "grid_row": null,
            "max_height": null,
            "align_content": null,
            "visibility": null,
            "align_self": null,
            "height": null,
            "min_height": null,
            "padding": null,
            "grid_auto_rows": null,
            "grid_gap": null,
            "max_width": null,
            "order": null,
            "_view_module_version": "1.2.0",
            "grid_template_areas": null,
            "object_position": null,
            "object_fit": null,
            "grid_auto_columns": null,
            "margin": null,
            "display": null,
            "left": null
          }
        },
        "7a5d2bd36b604d76947c8dc483e6d54c": {
          "model_module": "@jupyter-widgets/controls",
          "model_name": "FloatProgressModel",
          "state": {
            "_view_name": "ProgressView",
            "style": "IPY_MODEL_3a606ba58b7845118ace412c1bf583a2",
            "_dom_classes": [],
            "description": "Downloading: 100%",
            "_model_name": "FloatProgressModel",
            "bar_style": "success",
            "max": 772,
            "_view_module": "@jupyter-widgets/controls",
            "_model_module_version": "1.5.0",
            "value": 772,
            "_view_count": null,
            "_view_module_version": "1.5.0",
            "orientation": "horizontal",
            "min": 0,
            "description_tooltip": null,
            "_model_module": "@jupyter-widgets/controls",
            "layout": "IPY_MODEL_8f874ab49a774cc2b431ffa3fb2603d3"
          }
        },
        "7e660e612c1347aa9bd2c6b0e0a8ebc4": {
          "model_module": "@jupyter-widgets/controls",
          "model_name": "HTMLModel",
          "state": {
            "_view_name": "HTMLView",
            "style": "IPY_MODEL_d648d325be6840fd81af0929e85be300",
            "_dom_classes": [],
            "description": "",
            "_model_name": "HTMLModel",
            "placeholder": "​",
            "_view_module": "@jupyter-widgets/controls",
            "_model_module_version": "1.5.0",
            "value": " 772/772 [00:01&lt;00:00, 488B/s]",
            "_view_count": null,
            "_view_module_version": "1.5.0",
            "description_tooltip": null,
            "_model_module": "@jupyter-widgets/controls",
            "layout": "IPY_MODEL_c86bac60a24443c4887bf242a48d4570"
          }
        },
        "3a606ba58b7845118ace412c1bf583a2": {
          "model_module": "@jupyter-widgets/controls",
          "model_name": "ProgressStyleModel",
          "state": {
            "_view_name": "StyleView",
            "_model_name": "ProgressStyleModel",
            "description_width": "initial",
            "_view_module": "@jupyter-widgets/base",
            "_model_module_version": "1.5.0",
            "_view_count": null,
            "_view_module_version": "1.2.0",
            "bar_color": null,
            "_model_module": "@jupyter-widgets/controls"
          }
        },
        "8f874ab49a774cc2b431ffa3fb2603d3": {
          "model_module": "@jupyter-widgets/base",
          "model_name": "LayoutModel",
          "state": {
            "_view_name": "LayoutView",
            "grid_template_rows": null,
            "right": null,
            "justify_content": null,
            "_view_module": "@jupyter-widgets/base",
            "overflow": null,
            "_model_module_version": "1.2.0",
            "_view_count": null,
            "flex_flow": null,
            "width": null,
            "min_width": null,
            "border": null,
            "align_items": null,
            "bottom": null,
            "_model_module": "@jupyter-widgets/base",
            "top": null,
            "grid_column": null,
            "overflow_y": null,
            "overflow_x": null,
            "grid_auto_flow": null,
            "grid_area": null,
            "grid_template_columns": null,
            "flex": null,
            "_model_name": "LayoutModel",
            "justify_items": null,
            "grid_row": null,
            "max_height": null,
            "align_content": null,
            "visibility": null,
            "align_self": null,
            "height": null,
            "min_height": null,
            "padding": null,
            "grid_auto_rows": null,
            "grid_gap": null,
            "max_width": null,
            "order": null,
            "_view_module_version": "1.2.0",
            "grid_template_areas": null,
            "object_position": null,
            "object_fit": null,
            "grid_auto_columns": null,
            "margin": null,
            "display": null,
            "left": null
          }
        },
        "d648d325be6840fd81af0929e85be300": {
          "model_module": "@jupyter-widgets/controls",
          "model_name": "DescriptionStyleModel",
          "state": {
            "_view_name": "StyleView",
            "_model_name": "DescriptionStyleModel",
            "description_width": "",
            "_view_module": "@jupyter-widgets/base",
            "_model_module_version": "1.5.0",
            "_view_count": null,
            "_view_module_version": "1.2.0",
            "_model_module": "@jupyter-widgets/controls"
          }
        },
        "c86bac60a24443c4887bf242a48d4570": {
          "model_module": "@jupyter-widgets/base",
          "model_name": "LayoutModel",
          "state": {
            "_view_name": "LayoutView",
            "grid_template_rows": null,
            "right": null,
            "justify_content": null,
            "_view_module": "@jupyter-widgets/base",
            "overflow": null,
            "_model_module_version": "1.2.0",
            "_view_count": null,
            "flex_flow": null,
            "width": null,
            "min_width": null,
            "border": null,
            "align_items": null,
            "bottom": null,
            "_model_module": "@jupyter-widgets/base",
            "top": null,
            "grid_column": null,
            "overflow_y": null,
            "overflow_x": null,
            "grid_auto_flow": null,
            "grid_area": null,
            "grid_template_columns": null,
            "flex": null,
            "_model_name": "LayoutModel",
            "justify_items": null,
            "grid_row": null,
            "max_height": null,
            "align_content": null,
            "visibility": null,
            "align_self": null,
            "height": null,
            "min_height": null,
            "padding": null,
            "grid_auto_rows": null,
            "grid_gap": null,
            "max_width": null,
            "order": null,
            "_view_module_version": "1.2.0",
            "grid_template_areas": null,
            "object_position": null,
            "object_fit": null,
            "grid_auto_columns": null,
            "margin": null,
            "display": null,
            "left": null
          }
        },
        "d1cfa58551bf4d3d9e290b73e100d3f5": {
          "model_module": "@jupyter-widgets/controls",
          "model_name": "HBoxModel",
          "state": {
            "_view_name": "HBoxView",
            "_dom_classes": [],
            "_model_name": "HBoxModel",
            "_view_module": "@jupyter-widgets/controls",
            "_model_module_version": "1.5.0",
            "_view_count": null,
            "_view_module_version": "1.5.0",
            "box_style": "",
            "layout": "IPY_MODEL_a7bfb313008f423fa9bb71f47bc9079b",
            "_model_module": "@jupyter-widgets/controls",
            "children": [
              "IPY_MODEL_029eb81f9b2d45da89ee43f0d9a4e04a",
              "IPY_MODEL_a540f8b21da948009f453521edd1bc26"
            ]
          }
        },
        "a7bfb313008f423fa9bb71f47bc9079b": {
          "model_module": "@jupyter-widgets/base",
          "model_name": "LayoutModel",
          "state": {
            "_view_name": "LayoutView",
            "grid_template_rows": null,
            "right": null,
            "justify_content": null,
            "_view_module": "@jupyter-widgets/base",
            "overflow": null,
            "_model_module_version": "1.2.0",
            "_view_count": null,
            "flex_flow": null,
            "width": null,
            "min_width": null,
            "border": null,
            "align_items": null,
            "bottom": null,
            "_model_module": "@jupyter-widgets/base",
            "top": null,
            "grid_column": null,
            "overflow_y": null,
            "overflow_x": null,
            "grid_auto_flow": null,
            "grid_area": null,
            "grid_template_columns": null,
            "flex": null,
            "_model_name": "LayoutModel",
            "justify_items": null,
            "grid_row": null,
            "max_height": null,
            "align_content": null,
            "visibility": null,
            "align_self": null,
            "height": null,
            "min_height": null,
            "padding": null,
            "grid_auto_rows": null,
            "grid_gap": null,
            "max_width": null,
            "order": null,
            "_view_module_version": "1.2.0",
            "grid_template_areas": null,
            "object_position": null,
            "object_fit": null,
            "grid_auto_columns": null,
            "margin": null,
            "display": null,
            "left": null
          }
        },
        "029eb81f9b2d45da89ee43f0d9a4e04a": {
          "model_module": "@jupyter-widgets/controls",
          "model_name": "FloatProgressModel",
          "state": {
            "_view_name": "ProgressView",
            "style": "IPY_MODEL_e2665dc9fcc24e8981d5afef442f8888",
            "_dom_classes": [],
            "description": "Downloading: 100%",
            "_model_name": "FloatProgressModel",
            "bar_style": "success",
            "max": 26,
            "_view_module": "@jupyter-widgets/controls",
            "_model_module_version": "1.5.0",
            "value": 26,
            "_view_count": null,
            "_view_module_version": "1.5.0",
            "orientation": "horizontal",
            "min": 0,
            "description_tooltip": null,
            "_model_module": "@jupyter-widgets/controls",
            "layout": "IPY_MODEL_cd4fd20a08ec4e78ba3361d9aa54adcf"
          }
        },
        "a540f8b21da948009f453521edd1bc26": {
          "model_module": "@jupyter-widgets/controls",
          "model_name": "HTMLModel",
          "state": {
            "_view_name": "HTMLView",
            "style": "IPY_MODEL_c69ef44e785742a5b67c2d7fc6fff07e",
            "_dom_classes": [],
            "description": "",
            "_model_name": "HTMLModel",
            "placeholder": "​",
            "_view_module": "@jupyter-widgets/controls",
            "_model_module_version": "1.5.0",
            "value": " 26.0/26.0 [00:00&lt;00:00, 30.9B/s]",
            "_view_count": null,
            "_view_module_version": "1.5.0",
            "description_tooltip": null,
            "_model_module": "@jupyter-widgets/controls",
            "layout": "IPY_MODEL_347591b1b8524b93b898c65b7ef06b87"
          }
        },
        "e2665dc9fcc24e8981d5afef442f8888": {
          "model_module": "@jupyter-widgets/controls",
          "model_name": "ProgressStyleModel",
          "state": {
            "_view_name": "StyleView",
            "_model_name": "ProgressStyleModel",
            "description_width": "initial",
            "_view_module": "@jupyter-widgets/base",
            "_model_module_version": "1.5.0",
            "_view_count": null,
            "_view_module_version": "1.2.0",
            "bar_color": null,
            "_model_module": "@jupyter-widgets/controls"
          }
        },
        "cd4fd20a08ec4e78ba3361d9aa54adcf": {
          "model_module": "@jupyter-widgets/base",
          "model_name": "LayoutModel",
          "state": {
            "_view_name": "LayoutView",
            "grid_template_rows": null,
            "right": null,
            "justify_content": null,
            "_view_module": "@jupyter-widgets/base",
            "overflow": null,
            "_model_module_version": "1.2.0",
            "_view_count": null,
            "flex_flow": null,
            "width": null,
            "min_width": null,
            "border": null,
            "align_items": null,
            "bottom": null,
            "_model_module": "@jupyter-widgets/base",
            "top": null,
            "grid_column": null,
            "overflow_y": null,
            "overflow_x": null,
            "grid_auto_flow": null,
            "grid_area": null,
            "grid_template_columns": null,
            "flex": null,
            "_model_name": "LayoutModel",
            "justify_items": null,
            "grid_row": null,
            "max_height": null,
            "align_content": null,
            "visibility": null,
            "align_self": null,
            "height": null,
            "min_height": null,
            "padding": null,
            "grid_auto_rows": null,
            "grid_gap": null,
            "max_width": null,
            "order": null,
            "_view_module_version": "1.2.0",
            "grid_template_areas": null,
            "object_position": null,
            "object_fit": null,
            "grid_auto_columns": null,
            "margin": null,
            "display": null,
            "left": null
          }
        },
        "c69ef44e785742a5b67c2d7fc6fff07e": {
          "model_module": "@jupyter-widgets/controls",
          "model_name": "DescriptionStyleModel",
          "state": {
            "_view_name": "StyleView",
            "_model_name": "DescriptionStyleModel",
            "description_width": "",
            "_view_module": "@jupyter-widgets/base",
            "_model_module_version": "1.5.0",
            "_view_count": null,
            "_view_module_version": "1.2.0",
            "_model_module": "@jupyter-widgets/controls"
          }
        },
        "347591b1b8524b93b898c65b7ef06b87": {
          "model_module": "@jupyter-widgets/base",
          "model_name": "LayoutModel",
          "state": {
            "_view_name": "LayoutView",
            "grid_template_rows": null,
            "right": null,
            "justify_content": null,
            "_view_module": "@jupyter-widgets/base",
            "overflow": null,
            "_model_module_version": "1.2.0",
            "_view_count": null,
            "flex_flow": null,
            "width": null,
            "min_width": null,
            "border": null,
            "align_items": null,
            "bottom": null,
            "_model_module": "@jupyter-widgets/base",
            "top": null,
            "grid_column": null,
            "overflow_y": null,
            "overflow_x": null,
            "grid_auto_flow": null,
            "grid_area": null,
            "grid_template_columns": null,
            "flex": null,
            "_model_name": "LayoutModel",
            "justify_items": null,
            "grid_row": null,
            "max_height": null,
            "align_content": null,
            "visibility": null,
            "align_self": null,
            "height": null,
            "min_height": null,
            "padding": null,
            "grid_auto_rows": null,
            "grid_gap": null,
            "max_width": null,
            "order": null,
            "_view_module_version": "1.2.0",
            "grid_template_areas": null,
            "object_position": null,
            "object_fit": null,
            "grid_auto_columns": null,
            "margin": null,
            "display": null,
            "left": null
          }
        },
        "ebf12371e625472b8728c52c1e5b820f": {
          "model_module": "@jupyter-widgets/controls",
          "model_name": "HBoxModel",
          "state": {
            "_view_name": "HBoxView",
            "_dom_classes": [],
            "_model_name": "HBoxModel",
            "_view_module": "@jupyter-widgets/controls",
            "_model_module_version": "1.5.0",
            "_view_count": null,
            "_view_module_version": "1.5.0",
            "box_style": "",
            "layout": "IPY_MODEL_1bda6870b89e4c5bbf7f108ddd8cae72",
            "_model_module": "@jupyter-widgets/controls",
            "children": [
              "IPY_MODEL_492db0ada51c49c7aed7afb2b9736977",
              "IPY_MODEL_f1ef70c4cb684a47b7005fa021beb7d8"
            ]
          }
        },
        "1bda6870b89e4c5bbf7f108ddd8cae72": {
          "model_module": "@jupyter-widgets/base",
          "model_name": "LayoutModel",
          "state": {
            "_view_name": "LayoutView",
            "grid_template_rows": null,
            "right": null,
            "justify_content": null,
            "_view_module": "@jupyter-widgets/base",
            "overflow": null,
            "_model_module_version": "1.2.0",
            "_view_count": null,
            "flex_flow": null,
            "width": null,
            "min_width": null,
            "border": null,
            "align_items": null,
            "bottom": null,
            "_model_module": "@jupyter-widgets/base",
            "top": null,
            "grid_column": null,
            "overflow_y": null,
            "overflow_x": null,
            "grid_auto_flow": null,
            "grid_area": null,
            "grid_template_columns": null,
            "flex": null,
            "_model_name": "LayoutModel",
            "justify_items": null,
            "grid_row": null,
            "max_height": null,
            "align_content": null,
            "visibility": null,
            "align_self": null,
            "height": null,
            "min_height": null,
            "padding": null,
            "grid_auto_rows": null,
            "grid_gap": null,
            "max_width": null,
            "order": null,
            "_view_module_version": "1.2.0",
            "grid_template_areas": null,
            "object_position": null,
            "object_fit": null,
            "grid_auto_columns": null,
            "margin": null,
            "display": null,
            "left": null
          }
        },
        "492db0ada51c49c7aed7afb2b9736977": {
          "model_module": "@jupyter-widgets/controls",
          "model_name": "FloatProgressModel",
          "state": {
            "_view_name": "ProgressView",
            "style": "IPY_MODEL_48d3989a72304711a99a544f16a67546",
            "_dom_classes": [],
            "description": "Downloading: 100%",
            "_model_name": "FloatProgressModel",
            "bar_style": "success",
            "max": 557938246,
            "_view_module": "@jupyter-widgets/controls",
            "_model_module_version": "1.5.0",
            "value": 557938246,
            "_view_count": null,
            "_view_module_version": "1.5.0",
            "orientation": "horizontal",
            "min": 0,
            "description_tooltip": null,
            "_model_module": "@jupyter-widgets/controls",
            "layout": "IPY_MODEL_7eb8d4d78dd34eba996b446178475627"
          }
        },
        "f1ef70c4cb684a47b7005fa021beb7d8": {
          "model_module": "@jupyter-widgets/controls",
          "model_name": "HTMLModel",
          "state": {
            "_view_name": "HTMLView",
            "style": "IPY_MODEL_342ecde786614bed8e708f80af34da1b",
            "_dom_classes": [],
            "description": "",
            "_model_name": "HTMLModel",
            "placeholder": "​",
            "_view_module": "@jupyter-widgets/controls",
            "_model_module_version": "1.5.0",
            "value": " 558M/558M [00:31&lt;00:00, 17.9MB/s]",
            "_view_count": null,
            "_view_module_version": "1.5.0",
            "description_tooltip": null,
            "_model_module": "@jupyter-widgets/controls",
            "layout": "IPY_MODEL_e0ac734df2264a61b0cb2dbbafe74bd0"
          }
        },
        "48d3989a72304711a99a544f16a67546": {
          "model_module": "@jupyter-widgets/controls",
          "model_name": "ProgressStyleModel",
          "state": {
            "_view_name": "StyleView",
            "_model_name": "ProgressStyleModel",
            "description_width": "initial",
            "_view_module": "@jupyter-widgets/base",
            "_model_module_version": "1.5.0",
            "_view_count": null,
            "_view_module_version": "1.2.0",
            "bar_color": null,
            "_model_module": "@jupyter-widgets/controls"
          }
        },
        "7eb8d4d78dd34eba996b446178475627": {
          "model_module": "@jupyter-widgets/base",
          "model_name": "LayoutModel",
          "state": {
            "_view_name": "LayoutView",
            "grid_template_rows": null,
            "right": null,
            "justify_content": null,
            "_view_module": "@jupyter-widgets/base",
            "overflow": null,
            "_model_module_version": "1.2.0",
            "_view_count": null,
            "flex_flow": null,
            "width": null,
            "min_width": null,
            "border": null,
            "align_items": null,
            "bottom": null,
            "_model_module": "@jupyter-widgets/base",
            "top": null,
            "grid_column": null,
            "overflow_y": null,
            "overflow_x": null,
            "grid_auto_flow": null,
            "grid_area": null,
            "grid_template_columns": null,
            "flex": null,
            "_model_name": "LayoutModel",
            "justify_items": null,
            "grid_row": null,
            "max_height": null,
            "align_content": null,
            "visibility": null,
            "align_self": null,
            "height": null,
            "min_height": null,
            "padding": null,
            "grid_auto_rows": null,
            "grid_gap": null,
            "max_width": null,
            "order": null,
            "_view_module_version": "1.2.0",
            "grid_template_areas": null,
            "object_position": null,
            "object_fit": null,
            "grid_auto_columns": null,
            "margin": null,
            "display": null,
            "left": null
          }
        },
        "342ecde786614bed8e708f80af34da1b": {
          "model_module": "@jupyter-widgets/controls",
          "model_name": "DescriptionStyleModel",
          "state": {
            "_view_name": "StyleView",
            "_model_name": "DescriptionStyleModel",
            "description_width": "",
            "_view_module": "@jupyter-widgets/base",
            "_model_module_version": "1.5.0",
            "_view_count": null,
            "_view_module_version": "1.2.0",
            "_model_module": "@jupyter-widgets/controls"
          }
        },
        "e0ac734df2264a61b0cb2dbbafe74bd0": {
          "model_module": "@jupyter-widgets/base",
          "model_name": "LayoutModel",
          "state": {
            "_view_name": "LayoutView",
            "grid_template_rows": null,
            "right": null,
            "justify_content": null,
            "_view_module": "@jupyter-widgets/base",
            "overflow": null,
            "_model_module_version": "1.2.0",
            "_view_count": null,
            "flex_flow": null,
            "width": null,
            "min_width": null,
            "border": null,
            "align_items": null,
            "bottom": null,
            "_model_module": "@jupyter-widgets/base",
            "top": null,
            "grid_column": null,
            "overflow_y": null,
            "overflow_x": null,
            "grid_auto_flow": null,
            "grid_area": null,
            "grid_template_columns": null,
            "flex": null,
            "_model_name": "LayoutModel",
            "justify_items": null,
            "grid_row": null,
            "max_height": null,
            "align_content": null,
            "visibility": null,
            "align_self": null,
            "height": null,
            "min_height": null,
            "padding": null,
            "grid_auto_rows": null,
            "grid_gap": null,
            "max_width": null,
            "order": null,
            "_view_module_version": "1.2.0",
            "grid_template_areas": null,
            "object_position": null,
            "object_fit": null,
            "grid_auto_columns": null,
            "margin": null,
            "display": null,
            "left": null
          }
        }
      }
    }
  },
  "cells": [
    {
      "cell_type": "code",
      "metadata": {
        "id": "gYUXoRY1czuf",
        "colab_type": "code",
        "colab": {}
      },
      "source": [
        "import os\n",
        "import logging\n",
        "logging.basicConfig(level=logging.ERROR)"
      ],
      "execution_count": null,
      "outputs": []
    },
    {
      "cell_type": "code",
      "metadata": {
        "id": "fOz7aNL1i0ng",
        "colab_type": "code",
        "colab": {
          "base_uri": "https://localhost:8080/",
          "height": 293
        },
        "outputId": "5e741af1-008a-4215-d417-1c5e72a5ff0e"
      },
      "source": [
        "!pip install tika"
      ],
      "execution_count": null,
      "outputs": [
        {
          "output_type": "stream",
          "text": [
            "Collecting tika\n",
            "  Downloading https://files.pythonhosted.org/packages/96/07/244fbb9c74c0de8a3745cc9f3f496077a29f6418c7cbd90d68fd799574cb/tika-1.24.tar.gz\n",
            "Requirement already satisfied: setuptools in /usr/local/lib/python3.6/dist-packages (from tika) (49.1.0)\n",
            "Requirement already satisfied: requests in /usr/local/lib/python3.6/dist-packages (from tika) (2.23.0)\n",
            "Requirement already satisfied: idna<3,>=2.5 in /usr/local/lib/python3.6/dist-packages (from requests->tika) (2.10)\n",
            "Requirement already satisfied: certifi>=2017.4.17 in /usr/local/lib/python3.6/dist-packages (from requests->tika) (2020.6.20)\n",
            "Requirement already satisfied: urllib3!=1.25.0,!=1.25.1,<1.26,>=1.21.1 in /usr/local/lib/python3.6/dist-packages (from requests->tika) (1.24.3)\n",
            "Requirement already satisfied: chardet<4,>=3.0.2 in /usr/local/lib/python3.6/dist-packages (from requests->tika) (3.0.4)\n",
            "Building wheels for collected packages: tika\n",
            "  Building wheel for tika (setup.py) ... \u001b[?25l\u001b[?25hdone\n",
            "  Created wheel for tika: filename=tika-1.24-cp36-none-any.whl size=32885 sha256=9c29cd21fe95c99cfe18e7ff4c3925b59ed0a865df0898f479a8cb85bf9ecda3\n",
            "  Stored in directory: /root/.cache/pip/wheels/73/9c/f5/0b1b738442fc2a2862bef95b908b374f8e80215550fb2a8975\n",
            "Successfully built tika\n",
            "Installing collected packages: tika\n",
            "Successfully installed tika-1.24\n"
          ],
          "name": "stdout"
        }
      ]
    },
    {
      "cell_type": "code",
      "metadata": {
        "id": "EVcb5Pmuc3WC",
        "colab_type": "code",
        "colab": {
          "base_uri": "https://localhost:8080/",
          "height": 661
        },
        "outputId": "a481d75c-e9c7-494f-eb6d-208d9d30100d"
      },
      "source": [
        "!pip install transformers"
      ],
      "execution_count": null,
      "outputs": [
        {
          "output_type": "stream",
          "text": [
            "Collecting transformers\n",
            "\u001b[?25l  Downloading https://files.pythonhosted.org/packages/27/3c/91ed8f5c4e7ef3227b4119200fc0ed4b4fd965b1f0172021c25701087825/transformers-3.0.2-py3-none-any.whl (769kB)\n",
            "\r\u001b[K     |▍                               | 10kB 18.4MB/s eta 0:00:01\r\u001b[K     |▉                               | 20kB 1.7MB/s eta 0:00:01\r\u001b[K     |█▎                              | 30kB 2.2MB/s eta 0:00:01\r\u001b[K     |█▊                              | 40kB 2.5MB/s eta 0:00:01\r\u001b[K     |██▏                             | 51kB 1.9MB/s eta 0:00:01\r\u001b[K     |██▋                             | 61kB 2.2MB/s eta 0:00:01\r\u001b[K     |███                             | 71kB 2.4MB/s eta 0:00:01\r\u001b[K     |███▍                            | 81kB 2.7MB/s eta 0:00:01\r\u001b[K     |███▉                            | 92kB 2.8MB/s eta 0:00:01\r\u001b[K     |████▎                           | 102kB 2.7MB/s eta 0:00:01\r\u001b[K     |████▊                           | 112kB 2.7MB/s eta 0:00:01\r\u001b[K     |█████▏                          | 122kB 2.7MB/s eta 0:00:01\r\u001b[K     |█████▌                          | 133kB 2.7MB/s eta 0:00:01\r\u001b[K     |██████                          | 143kB 2.7MB/s eta 0:00:01\r\u001b[K     |██████▍                         | 153kB 2.7MB/s eta 0:00:01\r\u001b[K     |██████▉                         | 163kB 2.7MB/s eta 0:00:01\r\u001b[K     |███████▎                        | 174kB 2.7MB/s eta 0:00:01\r\u001b[K     |███████▊                        | 184kB 2.7MB/s eta 0:00:01\r\u001b[K     |████████                        | 194kB 2.7MB/s eta 0:00:01\r\u001b[K     |████████▌                       | 204kB 2.7MB/s eta 0:00:01\r\u001b[K     |█████████                       | 215kB 2.7MB/s eta 0:00:01\r\u001b[K     |█████████▍                      | 225kB 2.7MB/s eta 0:00:01\r\u001b[K     |█████████▉                      | 235kB 2.7MB/s eta 0:00:01\r\u001b[K     |██████████▎                     | 245kB 2.7MB/s eta 0:00:01\r\u001b[K     |██████████▋                     | 256kB 2.7MB/s eta 0:00:01\r\u001b[K     |███████████                     | 266kB 2.7MB/s eta 0:00:01\r\u001b[K     |███████████▌                    | 276kB 2.7MB/s eta 0:00:01\r\u001b[K     |████████████                    | 286kB 2.7MB/s eta 0:00:01\r\u001b[K     |████████████▍                   | 296kB 2.7MB/s eta 0:00:01\r\u001b[K     |████████████▉                   | 307kB 2.7MB/s eta 0:00:01\r\u001b[K     |█████████████▏                  | 317kB 2.7MB/s eta 0:00:01\r\u001b[K     |█████████████▋                  | 327kB 2.7MB/s eta 0:00:01\r\u001b[K     |██████████████                  | 337kB 2.7MB/s eta 0:00:01\r\u001b[K     |██████████████▌                 | 348kB 2.7MB/s eta 0:00:01\r\u001b[K     |███████████████                 | 358kB 2.7MB/s eta 0:00:01\r\u001b[K     |███████████████▍                | 368kB 2.7MB/s eta 0:00:01\r\u001b[K     |███████████████▊                | 378kB 2.7MB/s eta 0:00:01\r\u001b[K     |████████████████▏               | 389kB 2.7MB/s eta 0:00:01\r\u001b[K     |████████████████▋               | 399kB 2.7MB/s eta 0:00:01\r\u001b[K     |█████████████████               | 409kB 2.7MB/s eta 0:00:01\r\u001b[K     |█████████████████▌              | 419kB 2.7MB/s eta 0:00:01\r\u001b[K     |██████████████████              | 430kB 2.7MB/s eta 0:00:01\r\u001b[K     |██████████████████▎             | 440kB 2.7MB/s eta 0:00:01\r\u001b[K     |██████████████████▊             | 450kB 2.7MB/s eta 0:00:01\r\u001b[K     |███████████████████▏            | 460kB 2.7MB/s eta 0:00:01\r\u001b[K     |███████████████████▋            | 471kB 2.7MB/s eta 0:00:01\r\u001b[K     |████████████████████            | 481kB 2.7MB/s eta 0:00:01\r\u001b[K     |████████████████████▌           | 491kB 2.7MB/s eta 0:00:01\r\u001b[K     |████████████████████▉           | 501kB 2.7MB/s eta 0:00:01\r\u001b[K     |█████████████████████▎          | 512kB 2.7MB/s eta 0:00:01\r\u001b[K     |█████████████████████▊          | 522kB 2.7MB/s eta 0:00:01\r\u001b[K     |██████████████████████▏         | 532kB 2.7MB/s eta 0:00:01\r\u001b[K     |██████████████████████▋         | 542kB 2.7MB/s eta 0:00:01\r\u001b[K     |███████████████████████         | 552kB 2.7MB/s eta 0:00:01\r\u001b[K     |███████████████████████▍        | 563kB 2.7MB/s eta 0:00:01\r\u001b[K     |███████████████████████▉        | 573kB 2.7MB/s eta 0:00:01\r\u001b[K     |████████████████████████▎       | 583kB 2.7MB/s eta 0:00:01\r\u001b[K     |████████████████████████▊       | 593kB 2.7MB/s eta 0:00:01\r\u001b[K     |█████████████████████████▏      | 604kB 2.7MB/s eta 0:00:01\r\u001b[K     |█████████████████████████▋      | 614kB 2.7MB/s eta 0:00:01\r\u001b[K     |██████████████████████████      | 624kB 2.7MB/s eta 0:00:01\r\u001b[K     |██████████████████████████▍     | 634kB 2.7MB/s eta 0:00:01\r\u001b[K     |██████████████████████████▉     | 645kB 2.7MB/s eta 0:00:01\r\u001b[K     |███████████████████████████▎    | 655kB 2.7MB/s eta 0:00:01\r\u001b[K     |███████████████████████████▊    | 665kB 2.7MB/s eta 0:00:01\r\u001b[K     |████████████████████████████▏   | 675kB 2.7MB/s eta 0:00:01\r\u001b[K     |████████████████████████████▌   | 686kB 2.7MB/s eta 0:00:01\r\u001b[K     |█████████████████████████████   | 696kB 2.7MB/s eta 0:00:01\r\u001b[K     |█████████████████████████████▍  | 706kB 2.7MB/s eta 0:00:01\r\u001b[K     |█████████████████████████████▉  | 716kB 2.7MB/s eta 0:00:01\r\u001b[K     |██████████████████████████████▎ | 727kB 2.7MB/s eta 0:00:01\r\u001b[K     |██████████████████████████████▊ | 737kB 2.7MB/s eta 0:00:01\r\u001b[K     |███████████████████████████████ | 747kB 2.7MB/s eta 0:00:01\r\u001b[K     |███████████████████████████████▌| 757kB 2.7MB/s eta 0:00:01\r\u001b[K     |████████████████████████████████| 768kB 2.7MB/s eta 0:00:01\r\u001b[K     |████████████████████████████████| 778kB 2.7MB/s \n",
            "\u001b[?25hRequirement already satisfied: dataclasses; python_version < \"3.7\" in /usr/local/lib/python3.6/dist-packages (from transformers) (0.7)\n",
            "Requirement already satisfied: regex!=2019.12.17 in /usr/local/lib/python3.6/dist-packages (from transformers) (2019.12.20)\n",
            "Collecting sentencepiece!=0.1.92\n",
            "\u001b[?25l  Downloading https://files.pythonhosted.org/packages/d4/a4/d0a884c4300004a78cca907a6ff9a5e9fe4f090f5d95ab341c53d28cbc58/sentencepiece-0.1.91-cp36-cp36m-manylinux1_x86_64.whl (1.1MB)\n",
            "\u001b[K     |████████████████████████████████| 1.1MB 13.8MB/s \n",
            "\u001b[?25hRequirement already satisfied: filelock in /usr/local/lib/python3.6/dist-packages (from transformers) (3.0.12)\n",
            "Collecting tokenizers==0.8.1.rc1\n",
            "\u001b[?25l  Downloading https://files.pythonhosted.org/packages/40/d0/30d5f8d221a0ed981a186c8eb986ce1c94e3a6e87f994eae9f4aa5250217/tokenizers-0.8.1rc1-cp36-cp36m-manylinux1_x86_64.whl (3.0MB)\n",
            "\u001b[K     |████████████████████████████████| 3.0MB 13.3MB/s \n",
            "\u001b[?25hCollecting sacremoses\n",
            "\u001b[?25l  Downloading https://files.pythonhosted.org/packages/7d/34/09d19aff26edcc8eb2a01bed8e98f13a1537005d31e95233fd48216eed10/sacremoses-0.0.43.tar.gz (883kB)\n",
            "\u001b[K     |████████████████████████████████| 890kB 37.4MB/s \n",
            "\u001b[?25hRequirement already satisfied: tqdm>=4.27 in /usr/local/lib/python3.6/dist-packages (from transformers) (4.41.1)\n",
            "Requirement already satisfied: requests in /usr/local/lib/python3.6/dist-packages (from transformers) (2.23.0)\n",
            "Requirement already satisfied: packaging in /usr/local/lib/python3.6/dist-packages (from transformers) (20.4)\n",
            "Requirement already satisfied: numpy in /usr/local/lib/python3.6/dist-packages (from transformers) (1.18.5)\n",
            "Requirement already satisfied: six in /usr/local/lib/python3.6/dist-packages (from sacremoses->transformers) (1.15.0)\n",
            "Requirement already satisfied: click in /usr/local/lib/python3.6/dist-packages (from sacremoses->transformers) (7.1.2)\n",
            "Requirement already satisfied: joblib in /usr/local/lib/python3.6/dist-packages (from sacremoses->transformers) (0.16.0)\n",
            "Requirement already satisfied: chardet<4,>=3.0.2 in /usr/local/lib/python3.6/dist-packages (from requests->transformers) (3.0.4)\n",
            "Requirement already satisfied: certifi>=2017.4.17 in /usr/local/lib/python3.6/dist-packages (from requests->transformers) (2020.6.20)\n",
            "Requirement already satisfied: idna<3,>=2.5 in /usr/local/lib/python3.6/dist-packages (from requests->transformers) (2.10)\n",
            "Requirement already satisfied: urllib3!=1.25.0,!=1.25.1,<1.26,>=1.21.1 in /usr/local/lib/python3.6/dist-packages (from requests->transformers) (1.24.3)\n",
            "Requirement already satisfied: pyparsing>=2.0.2 in /usr/local/lib/python3.6/dist-packages (from packaging->transformers) (2.4.7)\n",
            "Building wheels for collected packages: sacremoses\n",
            "  Building wheel for sacremoses (setup.py) ... \u001b[?25l\u001b[?25hdone\n",
            "  Created wheel for sacremoses: filename=sacremoses-0.0.43-cp36-none-any.whl size=893260 sha256=463f37273108b36693711c339e43a0cd3a7b7b8be92657bad268fc42a9e96eb3\n",
            "  Stored in directory: /root/.cache/pip/wheels/29/3c/fd/7ce5c3f0666dab31a50123635e6fb5e19ceb42ce38d4e58f45\n",
            "Successfully built sacremoses\n",
            "Installing collected packages: sentencepiece, tokenizers, sacremoses, transformers\n",
            "Successfully installed sacremoses-0.0.43 sentencepiece-0.1.91 tokenizers-0.8.1rc1 transformers-3.0.2\n"
          ],
          "name": "stdout"
        }
      ]
    },
    {
      "cell_type": "code",
      "metadata": {
        "id": "rz67BP-2c8re",
        "colab_type": "code",
        "colab": {}
      },
      "source": [
        "from tika import parser\n",
        "from torch import cuda\n",
        "device = 'cuda' if cuda.is_available() else 'cpu'"
      ],
      "execution_count": null,
      "outputs": []
    },
    {
      "cell_type": "code",
      "metadata": {
        "id": "pHg5FkC4gdeu",
        "colab_type": "code",
        "colab": {}
      },
      "source": [
        "import transformers\n",
        "from transformers import AutoTokenizer, AutoModelForSeq2SeqLM\n",
        "import torch"
      ],
      "execution_count": null,
      "outputs": []
    },
    {
      "cell_type": "code",
      "metadata": {
        "id": "ysGd8M_qc-ke",
        "colab_type": "code",
        "colab": {
          "base_uri": "https://localhost:8080/",
          "height": 1000,
          "referenced_widgets": [
            "6741695c351649fa9973a8cbdd4f1483",
            "8d04faeabec9428bac5e6e5d4081cf44",
            "c9ef086823b9473b99c6a13066840c2f",
            "03b8eb5037334d6b9114bc23a266a61d",
            "d378ed136cd04cdcbe826201cc8c82ef",
            "124d59d0bd644da4afa594ed97cd7e14",
            "93ef851b5aa6448b8cb05f9f50db02d8",
            "b3ee62dfc0304c8b97aa2bd92f5ed4b8",
            "fc2c47917f1645a8876c6feb8979545b",
            "2959a03d6f794ef28a0c680c3ac234b5",
            "5a53f5b966704722948237948e4150ae",
            "99b9529c7cff4fa29dcc90e3b2618c37",
            "fb016abd8b9f4e23b0d68913f38d9a15",
            "e8abf97215fb4660948c6391ec7bef5b",
            "2467af3f84674ff3b209ee31e90608cb",
            "7108999cb0ef48de9a194c7914fc765c",
            "59686392f63f4352b8a9c33b76ee0ff5",
            "b60728319bf04281886f37b239a93b47",
            "65c8890b97f248438dc22386a1212ccf",
            "07c722fe35df4adba22aba344d564969",
            "f990d4b3cde348dc92f4d04c7a345d17",
            "143d7e4c7cbe451280cf65994c86bf7b",
            "9eddc9c751c64fccb695cef98e98853a",
            "ae1d5ac60de14cb5ad482514731394e3",
            "5272ce3cd5164c1eb4ab5a37931fb8b5",
            "2f413e7cc9234bcfbb4a31c2d9da3d1f",
            "7a5d2bd36b604d76947c8dc483e6d54c",
            "7e660e612c1347aa9bd2c6b0e0a8ebc4",
            "3a606ba58b7845118ace412c1bf583a2",
            "8f874ab49a774cc2b431ffa3fb2603d3",
            "d648d325be6840fd81af0929e85be300",
            "c86bac60a24443c4887bf242a48d4570",
            "d1cfa58551bf4d3d9e290b73e100d3f5",
            "a7bfb313008f423fa9bb71f47bc9079b",
            "029eb81f9b2d45da89ee43f0d9a4e04a",
            "a540f8b21da948009f453521edd1bc26",
            "e2665dc9fcc24e8981d5afef442f8888",
            "cd4fd20a08ec4e78ba3361d9aa54adcf",
            "c69ef44e785742a5b67c2d7fc6fff07e",
            "347591b1b8524b93b898c65b7ef06b87",
            "ebf12371e625472b8728c52c1e5b820f",
            "1bda6870b89e4c5bbf7f108ddd8cae72",
            "492db0ada51c49c7aed7afb2b9736977",
            "f1ef70c4cb684a47b7005fa021beb7d8",
            "48d3989a72304711a99a544f16a67546",
            "7eb8d4d78dd34eba996b446178475627",
            "342ecde786614bed8e708f80af34da1b",
            "e0ac734df2264a61b0cb2dbbafe74bd0"
          ]
        },
        "outputId": "dbb7d01f-6ddf-48e5-ef1d-70ef21b6057e"
      },
      "source": [
        "tokenizer = AutoTokenizer.from_pretrained(\"yuvraj/summarizer-cnndm\")\n",
        "cnn_model = AutoModelForSeq2SeqLM.from_pretrained(\"yuvraj/summarizer-cnndm\")\n",
        "cnn_model.to(device)"
      ],
      "execution_count": null,
      "outputs": [
        {
          "output_type": "display_data",
          "data": {
            "application/vnd.jupyter.widget-view+json": {
              "model_id": "6741695c351649fa9973a8cbdd4f1483",
              "version_minor": 0,
              "version_major": 2
            },
            "text/plain": [
              "HBox(children=(FloatProgress(value=0.0, description='Downloading', max=1030.0, style=ProgressStyle(description…"
            ]
          },
          "metadata": {
            "tags": []
          }
        },
        {
          "output_type": "stream",
          "text": [
            "\n"
          ],
          "name": "stdout"
        },
        {
          "output_type": "display_data",
          "data": {
            "application/vnd.jupyter.widget-view+json": {
              "model_id": "fc2c47917f1645a8876c6feb8979545b",
              "version_minor": 0,
              "version_major": 2
            },
            "text/plain": [
              "HBox(children=(FloatProgress(value=0.0, description='Downloading', max=898822.0, style=ProgressStyle(descripti…"
            ]
          },
          "metadata": {
            "tags": []
          }
        },
        {
          "output_type": "stream",
          "text": [
            "\n"
          ],
          "name": "stdout"
        },
        {
          "output_type": "display_data",
          "data": {
            "application/vnd.jupyter.widget-view+json": {
              "model_id": "59686392f63f4352b8a9c33b76ee0ff5",
              "version_minor": 0,
              "version_major": 2
            },
            "text/plain": [
              "HBox(children=(FloatProgress(value=0.0, description='Downloading', max=456318.0, style=ProgressStyle(descripti…"
            ]
          },
          "metadata": {
            "tags": []
          }
        },
        {
          "output_type": "stream",
          "text": [
            "\n"
          ],
          "name": "stdout"
        },
        {
          "output_type": "display_data",
          "data": {
            "application/vnd.jupyter.widget-view+json": {
              "model_id": "5272ce3cd5164c1eb4ab5a37931fb8b5",
              "version_minor": 0,
              "version_major": 2
            },
            "text/plain": [
              "HBox(children=(FloatProgress(value=0.0, description='Downloading', max=772.0, style=ProgressStyle(description_…"
            ]
          },
          "metadata": {
            "tags": []
          }
        },
        {
          "output_type": "stream",
          "text": [
            "\n"
          ],
          "name": "stdout"
        },
        {
          "output_type": "display_data",
          "data": {
            "application/vnd.jupyter.widget-view+json": {
              "model_id": "d1cfa58551bf4d3d9e290b73e100d3f5",
              "version_minor": 0,
              "version_major": 2
            },
            "text/plain": [
              "HBox(children=(FloatProgress(value=0.0, description='Downloading', max=26.0, style=ProgressStyle(description_w…"
            ]
          },
          "metadata": {
            "tags": []
          }
        },
        {
          "output_type": "stream",
          "text": [
            "\n"
          ],
          "name": "stdout"
        },
        {
          "output_type": "display_data",
          "data": {
            "application/vnd.jupyter.widget-view+json": {
              "model_id": "ebf12371e625472b8728c52c1e5b820f",
              "version_minor": 0,
              "version_major": 2
            },
            "text/plain": [
              "HBox(children=(FloatProgress(value=0.0, description='Downloading', max=557938246.0, style=ProgressStyle(descri…"
            ]
          },
          "metadata": {
            "tags": []
          }
        },
        {
          "output_type": "stream",
          "text": [
            "\n"
          ],
          "name": "stdout"
        },
        {
          "output_type": "execute_result",
          "data": {
            "text/plain": [
              "BartForConditionalGeneration(\n",
              "  (model): BartModel(\n",
              "    (shared): Embedding(50265, 768, padding_idx=1)\n",
              "    (encoder): BartEncoder(\n",
              "      (embed_tokens): Embedding(50265, 768, padding_idx=1)\n",
              "      (embed_positions): LearnedPositionalEmbedding(1026, 768, padding_idx=1)\n",
              "      (layers): ModuleList(\n",
              "        (0): EncoderLayer(\n",
              "          (self_attn): SelfAttention(\n",
              "            (k_proj): Linear(in_features=768, out_features=768, bias=True)\n",
              "            (v_proj): Linear(in_features=768, out_features=768, bias=True)\n",
              "            (q_proj): Linear(in_features=768, out_features=768, bias=True)\n",
              "            (out_proj): Linear(in_features=768, out_features=768, bias=True)\n",
              "          )\n",
              "          (self_attn_layer_norm): LayerNorm((768,), eps=1e-05, elementwise_affine=True)\n",
              "          (fc1): Linear(in_features=768, out_features=3072, bias=True)\n",
              "          (fc2): Linear(in_features=3072, out_features=768, bias=True)\n",
              "          (final_layer_norm): LayerNorm((768,), eps=1e-05, elementwise_affine=True)\n",
              "        )\n",
              "        (1): EncoderLayer(\n",
              "          (self_attn): SelfAttention(\n",
              "            (k_proj): Linear(in_features=768, out_features=768, bias=True)\n",
              "            (v_proj): Linear(in_features=768, out_features=768, bias=True)\n",
              "            (q_proj): Linear(in_features=768, out_features=768, bias=True)\n",
              "            (out_proj): Linear(in_features=768, out_features=768, bias=True)\n",
              "          )\n",
              "          (self_attn_layer_norm): LayerNorm((768,), eps=1e-05, elementwise_affine=True)\n",
              "          (fc1): Linear(in_features=768, out_features=3072, bias=True)\n",
              "          (fc2): Linear(in_features=3072, out_features=768, bias=True)\n",
              "          (final_layer_norm): LayerNorm((768,), eps=1e-05, elementwise_affine=True)\n",
              "        )\n",
              "        (2): EncoderLayer(\n",
              "          (self_attn): SelfAttention(\n",
              "            (k_proj): Linear(in_features=768, out_features=768, bias=True)\n",
              "            (v_proj): Linear(in_features=768, out_features=768, bias=True)\n",
              "            (q_proj): Linear(in_features=768, out_features=768, bias=True)\n",
              "            (out_proj): Linear(in_features=768, out_features=768, bias=True)\n",
              "          )\n",
              "          (self_attn_layer_norm): LayerNorm((768,), eps=1e-05, elementwise_affine=True)\n",
              "          (fc1): Linear(in_features=768, out_features=3072, bias=True)\n",
              "          (fc2): Linear(in_features=3072, out_features=768, bias=True)\n",
              "          (final_layer_norm): LayerNorm((768,), eps=1e-05, elementwise_affine=True)\n",
              "        )\n",
              "        (3): EncoderLayer(\n",
              "          (self_attn): SelfAttention(\n",
              "            (k_proj): Linear(in_features=768, out_features=768, bias=True)\n",
              "            (v_proj): Linear(in_features=768, out_features=768, bias=True)\n",
              "            (q_proj): Linear(in_features=768, out_features=768, bias=True)\n",
              "            (out_proj): Linear(in_features=768, out_features=768, bias=True)\n",
              "          )\n",
              "          (self_attn_layer_norm): LayerNorm((768,), eps=1e-05, elementwise_affine=True)\n",
              "          (fc1): Linear(in_features=768, out_features=3072, bias=True)\n",
              "          (fc2): Linear(in_features=3072, out_features=768, bias=True)\n",
              "          (final_layer_norm): LayerNorm((768,), eps=1e-05, elementwise_affine=True)\n",
              "        )\n",
              "        (4): EncoderLayer(\n",
              "          (self_attn): SelfAttention(\n",
              "            (k_proj): Linear(in_features=768, out_features=768, bias=True)\n",
              "            (v_proj): Linear(in_features=768, out_features=768, bias=True)\n",
              "            (q_proj): Linear(in_features=768, out_features=768, bias=True)\n",
              "            (out_proj): Linear(in_features=768, out_features=768, bias=True)\n",
              "          )\n",
              "          (self_attn_layer_norm): LayerNorm((768,), eps=1e-05, elementwise_affine=True)\n",
              "          (fc1): Linear(in_features=768, out_features=3072, bias=True)\n",
              "          (fc2): Linear(in_features=3072, out_features=768, bias=True)\n",
              "          (final_layer_norm): LayerNorm((768,), eps=1e-05, elementwise_affine=True)\n",
              "        )\n",
              "        (5): EncoderLayer(\n",
              "          (self_attn): SelfAttention(\n",
              "            (k_proj): Linear(in_features=768, out_features=768, bias=True)\n",
              "            (v_proj): Linear(in_features=768, out_features=768, bias=True)\n",
              "            (q_proj): Linear(in_features=768, out_features=768, bias=True)\n",
              "            (out_proj): Linear(in_features=768, out_features=768, bias=True)\n",
              "          )\n",
              "          (self_attn_layer_norm): LayerNorm((768,), eps=1e-05, elementwise_affine=True)\n",
              "          (fc1): Linear(in_features=768, out_features=3072, bias=True)\n",
              "          (fc2): Linear(in_features=3072, out_features=768, bias=True)\n",
              "          (final_layer_norm): LayerNorm((768,), eps=1e-05, elementwise_affine=True)\n",
              "        )\n",
              "      )\n",
              "      (layernorm_embedding): LayerNorm((768,), eps=1e-05, elementwise_affine=True)\n",
              "    )\n",
              "    (decoder): BartDecoder(\n",
              "      (embed_tokens): Embedding(50265, 768, padding_idx=1)\n",
              "      (embed_positions): LearnedPositionalEmbedding(1026, 768, padding_idx=1)\n",
              "      (layers): ModuleList(\n",
              "        (0): DecoderLayer(\n",
              "          (self_attn): SelfAttention(\n",
              "            (k_proj): Linear(in_features=768, out_features=768, bias=True)\n",
              "            (v_proj): Linear(in_features=768, out_features=768, bias=True)\n",
              "            (q_proj): Linear(in_features=768, out_features=768, bias=True)\n",
              "            (out_proj): Linear(in_features=768, out_features=768, bias=True)\n",
              "          )\n",
              "          (self_attn_layer_norm): LayerNorm((768,), eps=1e-05, elementwise_affine=True)\n",
              "          (encoder_attn): SelfAttention(\n",
              "            (k_proj): Linear(in_features=768, out_features=768, bias=True)\n",
              "            (v_proj): Linear(in_features=768, out_features=768, bias=True)\n",
              "            (q_proj): Linear(in_features=768, out_features=768, bias=True)\n",
              "            (out_proj): Linear(in_features=768, out_features=768, bias=True)\n",
              "          )\n",
              "          (encoder_attn_layer_norm): LayerNorm((768,), eps=1e-05, elementwise_affine=True)\n",
              "          (fc1): Linear(in_features=768, out_features=3072, bias=True)\n",
              "          (fc2): Linear(in_features=3072, out_features=768, bias=True)\n",
              "          (final_layer_norm): LayerNorm((768,), eps=1e-05, elementwise_affine=True)\n",
              "        )\n",
              "        (1): DecoderLayer(\n",
              "          (self_attn): SelfAttention(\n",
              "            (k_proj): Linear(in_features=768, out_features=768, bias=True)\n",
              "            (v_proj): Linear(in_features=768, out_features=768, bias=True)\n",
              "            (q_proj): Linear(in_features=768, out_features=768, bias=True)\n",
              "            (out_proj): Linear(in_features=768, out_features=768, bias=True)\n",
              "          )\n",
              "          (self_attn_layer_norm): LayerNorm((768,), eps=1e-05, elementwise_affine=True)\n",
              "          (encoder_attn): SelfAttention(\n",
              "            (k_proj): Linear(in_features=768, out_features=768, bias=True)\n",
              "            (v_proj): Linear(in_features=768, out_features=768, bias=True)\n",
              "            (q_proj): Linear(in_features=768, out_features=768, bias=True)\n",
              "            (out_proj): Linear(in_features=768, out_features=768, bias=True)\n",
              "          )\n",
              "          (encoder_attn_layer_norm): LayerNorm((768,), eps=1e-05, elementwise_affine=True)\n",
              "          (fc1): Linear(in_features=768, out_features=3072, bias=True)\n",
              "          (fc2): Linear(in_features=3072, out_features=768, bias=True)\n",
              "          (final_layer_norm): LayerNorm((768,), eps=1e-05, elementwise_affine=True)\n",
              "        )\n",
              "        (2): DecoderLayer(\n",
              "          (self_attn): SelfAttention(\n",
              "            (k_proj): Linear(in_features=768, out_features=768, bias=True)\n",
              "            (v_proj): Linear(in_features=768, out_features=768, bias=True)\n",
              "            (q_proj): Linear(in_features=768, out_features=768, bias=True)\n",
              "            (out_proj): Linear(in_features=768, out_features=768, bias=True)\n",
              "          )\n",
              "          (self_attn_layer_norm): LayerNorm((768,), eps=1e-05, elementwise_affine=True)\n",
              "          (encoder_attn): SelfAttention(\n",
              "            (k_proj): Linear(in_features=768, out_features=768, bias=True)\n",
              "            (v_proj): Linear(in_features=768, out_features=768, bias=True)\n",
              "            (q_proj): Linear(in_features=768, out_features=768, bias=True)\n",
              "            (out_proj): Linear(in_features=768, out_features=768, bias=True)\n",
              "          )\n",
              "          (encoder_attn_layer_norm): LayerNorm((768,), eps=1e-05, elementwise_affine=True)\n",
              "          (fc1): Linear(in_features=768, out_features=3072, bias=True)\n",
              "          (fc2): Linear(in_features=3072, out_features=768, bias=True)\n",
              "          (final_layer_norm): LayerNorm((768,), eps=1e-05, elementwise_affine=True)\n",
              "        )\n",
              "        (3): DecoderLayer(\n",
              "          (self_attn): SelfAttention(\n",
              "            (k_proj): Linear(in_features=768, out_features=768, bias=True)\n",
              "            (v_proj): Linear(in_features=768, out_features=768, bias=True)\n",
              "            (q_proj): Linear(in_features=768, out_features=768, bias=True)\n",
              "            (out_proj): Linear(in_features=768, out_features=768, bias=True)\n",
              "          )\n",
              "          (self_attn_layer_norm): LayerNorm((768,), eps=1e-05, elementwise_affine=True)\n",
              "          (encoder_attn): SelfAttention(\n",
              "            (k_proj): Linear(in_features=768, out_features=768, bias=True)\n",
              "            (v_proj): Linear(in_features=768, out_features=768, bias=True)\n",
              "            (q_proj): Linear(in_features=768, out_features=768, bias=True)\n",
              "            (out_proj): Linear(in_features=768, out_features=768, bias=True)\n",
              "          )\n",
              "          (encoder_attn_layer_norm): LayerNorm((768,), eps=1e-05, elementwise_affine=True)\n",
              "          (fc1): Linear(in_features=768, out_features=3072, bias=True)\n",
              "          (fc2): Linear(in_features=3072, out_features=768, bias=True)\n",
              "          (final_layer_norm): LayerNorm((768,), eps=1e-05, elementwise_affine=True)\n",
              "        )\n",
              "        (4): DecoderLayer(\n",
              "          (self_attn): SelfAttention(\n",
              "            (k_proj): Linear(in_features=768, out_features=768, bias=True)\n",
              "            (v_proj): Linear(in_features=768, out_features=768, bias=True)\n",
              "            (q_proj): Linear(in_features=768, out_features=768, bias=True)\n",
              "            (out_proj): Linear(in_features=768, out_features=768, bias=True)\n",
              "          )\n",
              "          (self_attn_layer_norm): LayerNorm((768,), eps=1e-05, elementwise_affine=True)\n",
              "          (encoder_attn): SelfAttention(\n",
              "            (k_proj): Linear(in_features=768, out_features=768, bias=True)\n",
              "            (v_proj): Linear(in_features=768, out_features=768, bias=True)\n",
              "            (q_proj): Linear(in_features=768, out_features=768, bias=True)\n",
              "            (out_proj): Linear(in_features=768, out_features=768, bias=True)\n",
              "          )\n",
              "          (encoder_attn_layer_norm): LayerNorm((768,), eps=1e-05, elementwise_affine=True)\n",
              "          (fc1): Linear(in_features=768, out_features=3072, bias=True)\n",
              "          (fc2): Linear(in_features=3072, out_features=768, bias=True)\n",
              "          (final_layer_norm): LayerNorm((768,), eps=1e-05, elementwise_affine=True)\n",
              "        )\n",
              "        (5): DecoderLayer(\n",
              "          (self_attn): SelfAttention(\n",
              "            (k_proj): Linear(in_features=768, out_features=768, bias=True)\n",
              "            (v_proj): Linear(in_features=768, out_features=768, bias=True)\n",
              "            (q_proj): Linear(in_features=768, out_features=768, bias=True)\n",
              "            (out_proj): Linear(in_features=768, out_features=768, bias=True)\n",
              "          )\n",
              "          (self_attn_layer_norm): LayerNorm((768,), eps=1e-05, elementwise_affine=True)\n",
              "          (encoder_attn): SelfAttention(\n",
              "            (k_proj): Linear(in_features=768, out_features=768, bias=True)\n",
              "            (v_proj): Linear(in_features=768, out_features=768, bias=True)\n",
              "            (q_proj): Linear(in_features=768, out_features=768, bias=True)\n",
              "            (out_proj): Linear(in_features=768, out_features=768, bias=True)\n",
              "          )\n",
              "          (encoder_attn_layer_norm): LayerNorm((768,), eps=1e-05, elementwise_affine=True)\n",
              "          (fc1): Linear(in_features=768, out_features=3072, bias=True)\n",
              "          (fc2): Linear(in_features=3072, out_features=768, bias=True)\n",
              "          (final_layer_norm): LayerNorm((768,), eps=1e-05, elementwise_affine=True)\n",
              "        )\n",
              "      )\n",
              "      (layernorm_embedding): LayerNorm((768,), eps=1e-05, elementwise_affine=True)\n",
              "    )\n",
              "  )\n",
              ")"
            ]
          },
          "metadata": {
            "tags": []
          },
          "execution_count": 6
        }
      ]
    },
    {
      "cell_type": "code",
      "metadata": {
        "id": "3LnmdqVTYCZD",
        "colab_type": "code",
        "colab": {
          "resources": {
            "http://localhost:8080/nbextensions/google.colab/files.js": {
              "data": "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",
              "ok": true,
              "headers": [
                [
                  "content-type",
                  "application/javascript"
                ]
              ],
              "status": 200,
              "status_text": "OK"
            }
          },
          "base_uri": "https://localhost:8080/",
          "height": 167
        },
        "outputId": "20768362-4a01-4f4f-bcb1-50228340c307"
      },
      "source": [
        "from google.colab import files\n",
        "files.upload()"
      ],
      "execution_count": null,
      "outputs": [
        {
          "output_type": "display_data",
          "data": {
            "text/html": [
              "\n",
              "     <input type=\"file\" id=\"files-5e97ff47-45ec-4d1d-b04b-0dc95d5ebe9b\" name=\"files[]\" multiple disabled\n",
              "        style=\"border:none\" />\n",
              "     <output id=\"result-5e97ff47-45ec-4d1d-b04b-0dc95d5ebe9b\">\n",
              "      Upload widget is only available when the cell has been executed in the\n",
              "      current browser session. Please rerun this cell to enable.\n",
              "      </output>\n",
              "      <script src=\"/nbextensions/google.colab/files.js\"></script> "
            ],
            "text/plain": [
              "<IPython.core.display.HTML object>"
            ]
          },
          "metadata": {
            "tags": []
          }
        },
        {
          "output_type": "stream",
          "text": [
            "Saving article.pdf to article.pdf\n",
            "Saving article.txt to article.txt\n"
          ],
          "name": "stdout"
        },
        {
          "output_type": "execute_result",
          "data": {
            "text/plain": [
              "{'article.pdf': b'%PDF-1.5\\n%\\xc3\\xa4\\xc3\\xbc\\xc3\\xb6\\xc3\\x9f\\n2 0 obj\\n<</Length 3 0 R/Filter/FlateDecode>>\\nstream\\nx\\x9c\\x95Z\\xcb\\x8e\\xe3:\\x0e\\xdd\\xd7Wd=\\x8b\\\\\\x89\\xb2e\\t\\x18\\x0c\\x10\\xdb\\xc9\\xfe\\x02\\r\\xdc\\x1f\\x98\\x070\\x8b\\x01\\xe6n\\xe6\\xf7\\x87<\\xa4dIN9\\xddhtU\\xcaq,\\x92:<<\\xa4\\xe2\\xee\\xfe\\xf6\\xbf\\xaf\\xff\\xde\\xdc\\xcd\\xdd\\x1d\\xa5[\\xf4\\xfe\\x9e\\x17\\x7f[\\xb2\\xfe\\xfe\\xf3\\x1f_\\x7f\\xfc\\xe5\\xf6\\x1f\\xbd\\x83\\xff\\xfd\\xf9\\xaf\\xaf\\xf5\\xc7\\xd7\\x1c\\xef\\xe9\\xb6P\\xbc\\xe7\\xdb\\x8f\\xbf\\xdf~{\\xf9\\x9bw\\xb7\\x1f\\xff\\xfc\\xab\\xf3\\x8e\\\\p\\x93\\x9b]t\\x8bK\\xfc:\\xf3_\\x0f\\xb7\\xba\\xcd\\xed\\xfc3\\xf2\\xdfr\\xf5\\xc9W_\\xdey\\xef&O\\x9e?\\xe1\\'?\\xfb\\xe8g\\xdc1\\xf9\\xc5\\'\\x9f\\xfd\\x83_\\xad\\xfc\\x7f\\xf3;\\xff|\\xf2\\x1d/r\\xf6\\xee\\x83<\\x91\\x9b(\\xe0\\xa9\\x13V\\x98\\xf8y\\x1b?\\xe5\\xc5VD\\x9a\\xf8\\xaa\\xac\\xc96\\xd0L3\\xbfOx\\xfa\\xf3o?\\xfe\\xfd\\xf5\\xfc\\xf1\\xf5\\xfb[\\xa7\\xfc|\\x8f\\x83S\\xf2\\x88\\x9d\\x1fG0~w\\x99\\xcd\\xe4ey\\x99\\tW\\xa3,\\xc0W\\x08F\\x88k\\xb2\\xcc\\xea#\\xdf=\\x91\\xfc\\x8c\\x8e\\xf8\\xaf\\r\\xae\\xc3T\\x82\\xc9\\xfc\\x9cL\\x93|\\x96\\x16\\xbe3\\xe1~s\\x882\\xdf5\\xf3_\\xec\\x16=\\xf0\\xfc\\xb2\\xda\\xe8\\x16_\\xb9t\\xc9Mw\\x1a\\\\\"y\\xac,.Kz\\x07\\xe3s\\x89\\x1a\\xc9\\xc3\\xc5\\xe8\\x08g\\xcc\\xdc\\xd1\\x08\\x892=\\\\\\xe2=\\x99%\\xeab:\\\\\\xc9x\\xf2\\xec\\xe4\\xbeM?E\\xedj\\x12\\x10\\r\\x85\\x86P\\xc2\\xb0`\\xcfv\\xac\\xb6\\xd0,\\x81\\xb9v*f\\x1a\\xc1\\xe7\\xa3\\xc4\\x03\\x91\\xe5]\\xe4\\x88\\xbf\\xf85\\xc1\\xb4\\xd8F\\xfdr7\\x93\\x85\\x02\\xbbG\\xcb7&|k\\xd5\\xe2\\xc6P\\xd3\\xaen#H\\x80\\xaf\\xae\\x0e\\xeb\\xf8*\\x87PlB\\xd0\\xf9\\x9e\\xc8\\xbf\\x93\\xbcB*p\\xd0\\xdd\\xca\\xc1#|\\xf2\\xf96\\x95\\x8e\\x14H$\\t$\\xefey\\x8d\\xe7\\xcaf\\xbcH\\xbd\\xc6\\xfd\\x827<;}\\x08\\xf0\\x9c\\xf8\\xe7\\x98\\xdd\\xbb|\\x9c\\x1f\\xf0j\\x02\\xfa\\x00\\x9av\\\\\\xdd\\xb0\\x1c\\xbf\\xe2\\xd7\\t;-F\\xcf\\xf44\\x1cDzU\\xb3x\\x9f\\x81\\x89\\xc9\\x02\\xd4g\\xf2\\x8c\\xa7k\\xc6b\\x13eK\\x81Ou-\\xaa-\\xbc\\xce\\xaa\\xe9\\x13\\x9c\\x84\\x8d\\xb6K\\xa7\\xa6\\xe5>\\x9f\\xb2[\\x8cN\\xf2\\x18\\xdb\\x9f\\x92\\xb9\\x9dY\\xc8c\\x8d\\xe0\\x06\\x87\\xd5\\x0c\\x05\\xbaP]\\xb3\\x8b\\x92\\x16H\\x1fB~\\xae\\x16\\xae\\xa0)\\x06\\xe7KR\\x8d\\xec\\xd0$\\xdc\\xa5#!2q\\xf7\\x8eD\\x812b\\xd6l\\xbe\\xec\\x03C\\xa8$B1c\\xd2\\xfd\\xaa\\xbb\\x145[\\xfb\\xbdj\\xf7\\x98\\xb0\\x1f\\xf8)\\xb1\\xf6\\na\\r\\x90e\\xfd\\xb1\\x82\\xfe\\xbcv\\x80\\xa6\\x13\\xbcvD+#\\x03\\x17p#\\x08Gc\\\\\\xf2\\xc8O\\xdf\\xe7o`\\xd7C@\\x00Bu\\xc8hGv\\x8db@\\xf1\\x08\\xb3\\xcfFn\\xef\\xf2\\xe9 \\xa4\\x03n\\xf6\\x94K\\x97|\\xb8OC\\xf2?P\\x0f\\xb1\\xe5G\\xaa#\\xf9`\\xa6;(`\\x01ye\\xbd\\x02\\xc3\\xdf\\x13U2\\x88\\x90\\xc2\\xd0\\x1f \\x14\\xb8mR#\\x85\\xbe\\x00P$z\\x01\\xb5\\xbc\\xa7i\\xffS\\xce8\\x1a\\x016\\x127\\x8cY)\\xf6UM\\xfe\\xa6\\x8d\\x97D\\xe22\\x94\\xdc\\xb1\\xa0\\x93$^BTw\\x04HL)\\xb2cG1\\xd0`\\x94\\xfbK\\xbe\\xc5\\x92\\x8d\\xc0\\xc8\\x91}\\xab\\x15\\xa2U2\\x90\\x7f\\x7f\\xc8\\x9a9\\xbb\\xfb2\\xee\\x90\\x81\\xec\\xa2,\\xa0\\xc0;\\xa0]\\rYa\\xb2T\\xb2\\xb51f\\x17\\xf6\\xe1\\x7f\\xb3\\xf1W4\"y\\x1a\\x14w\\xce\\xb7\\xf9\\xc8\\xc4\\xb0\\x84d\\x80\\x970d\\x84S(f\\n\\x19\\xf5\\x8f\\xad\\t\\xcb\\x07\\x87\\x96<B\\xae\\xec\\x03\\x7f\\xd4\\x03\\x18;\\x83j\\x01+)\\xbecxH6\\x89)\\xe2:\\xdf\\xd7\\x16\\xf9\\xa20Z8V\\x87k\\x86\\x8a\\x0b\\xf3\\x1b\\x06\\x0c\\xa0\\x93\\x15\\xe4\\xd1\\xec\\x90\\x00\\x93V\\x04Z\\xa1\\x99/\\x9d\\x8a\\x031T\\x869\\xb2\\x85\\x17\\x02\\xc9\\x06@r/\\x05\\xf6{\\xa8\\xfdb!\\x9f\\xa7\\xf9\\x1ez+\\x82\\xd6%\\xa5\\x8f\\xc7\\x87R\\xcc\\x01\\n*$\\xda \\x9d\\x08\\xce\\xb2q\\xa6\\x15\\xeaG\\xd1v\\x12w=\\x01\\x06\\t!\\x99\\x12\\xf6\\xcc\\xd6U\\xad\\xd1\\'\\xb4\\x84\\x91\\x9e\\xa08\\x01\\xce\\x0c\\x84\\xa8~\\xe8\\x18\\xcf\\x19`\\x95\\xec\\xadl0\\xd0\\xd9Aq\\x979U\\x8b\\xf8`\\xf6$\\xfb-L\\xaa\\x05zdc)\\xd6\\xbau\\x83\\xe0\\x9c,0\\x93\\xa8\\xdfO\"p&\\x1a\\xc5\\xba7\\x80\"\\x92\\xba\\xd8f\\x8c\\xab\\xaf`\\xc6\\x1b\\xc5\\xbb\\xaa\\xf0\\xd2(\\xf2\\xfb\\x9c\\x89\\x14\\xca\\xa7l\\xd7\\xd3\\x9bD\\t\\xc8Y\\x02\"7\\xdc\\x9d\\xeb*\\xe8S\\xfcR\\xa5D\\xc4]\\xe1\\x83S\\xdc\\x81\\x85SNWQ\\xcc\\x0f\\xe5\\x16\\x86\\x9b#\\xfe7\\xf0%\\xc8=,\\xc8\\xb4\\x1d\\xd9\\x9e\\xcfp\\xd2|\\xe7\\x94\\x12#5\\xfa\\x9b\\xb18\\x9c\\xa2\\xcd\\x8a\\xd4\\x06\\x01Q\\x15\\x8c\\x02\\xae\\xefJD\\xb7hQ\\xfa\\x04\\xbd)\\xe7Q\\xae[\\xbb\\x13\\xb5\\x00H\\x17!;`\\xa41\\xd5\\xbcj2^\\x16\\xabp\\xdaM\\xd4\\xae\\x92\\xdf\\xbas\\xe2\\x98\\xc0T[\\x00\\x98[\\xe9\\x0c\\xe1\\xc9\\xa1s\\x80?\\x89\\x12V\\xdd\\xe4\\xcf\\x07q\\xd6T\\xd4\\x07\\x97R:u\\x8a\\x0f\\x80*\\xc3\\x08\\x94\\\\v)\\x97Gc\\x97\\xa0\\xec\\xbd\\x82\\x0eZ\\\\\\xe2m\\x99\\x96\\xdadV7\\x8a\\x03U\\xd5\\xc4\\x91\\xe8\\xa4C\\x00\\x88\\xc9\\xe8\\xe2i]C\\xd7\\xf5\\\\:\\xb2,\\xa7\\xa6e\\x85\\xb2\\xd6\\x0c)\\xbc\\xa4\\x85Z\\xf0\\x1d\\xc7B\\xcdK\\xac\\xe4~\\x99e\\xa7y\\x1a\\xe5xQ\\xf1\\x87\\xeb\\xfc\\xdcY\\x1b\\xe5\\xcb\\x06h\\xeb\\xb9\\xb6\\x13\\xd6\\xb5w=\\x84\\x05M\\xb6\\xf3\\x87\\xa2R\\xa5[37\\xecM\\xe6\\x1a\\xaf_\\x86q\\n\\xa76\\xdb$\\x01\\x1c)\\xdd@W\\x10*\\x00KuU\\x11\\xbf\\x99$/FE\\x948h/\\xc0\\xfa\\x10-\\x13\\x9e\\x18\\x00\\xf1U\\x05\\xbd\\x8c8\\x181I\\xa5\\x89\\x10\\x1b\\xad\\xca\\xde\"8\\x90\\xc9\\x9f\\xb25\\xf8Q\\x9c\\x8f\\x8c\\xd8pk1\\xb2\\xc4\\xb6i\\xa5\\xc0\\x80\\xbb/2\\xe24\\x0e\\xc1\\xe7\\xcc\\x01k\\x9d\\xb4\\x04\\xe5\\n\\xe7\\xd3\\xde\\x05~\\x87\\x9f\\rLz\\xd7;}\\xe9\\x14\\xb9\\x13\\xd8\\x9e0s\\x83Q\\xca\\xb0\\x011\\x93\\xf8e\\xd6I\\xb3\\xc8>(\\xd8W\\xed\\xa0\\x9f\\x8d\\xab\\xb3v\\xf1\\xe1\\x18^t\\xa1\\x08^iG\\x07S\\x14m\\xca\\xa3\\xb0\\x1e\\xdcU\\xb9\\x80\\xdd\\x85hA\\xfa!D\\x97N\\xb9|\\xea\\x03\\x81\\xe0fJ\\xb3\\xd6<q\\xba7F\\x12\\xa1\\xec`\\xcd4\\xec\\x9d\\xf4\\x0f(\\xe8\\x8b\\x89\\xb9\\xad\\xe6\\xd4\\xc3\\x94\\xc71\\xac\\x1a\\xba\\xcd\\xca\\xb7M\\xbf(WI!m\\xd9u\\xe5P\\xc8\\xcb\\xa9/\\x94\\xf9\\x85\\xaa{1\\xffY:tY\\x96\\xc1\\xb5wQ\\x8d\\x88\\xa4\\x96\\x83T\\xab_*\\xbd5\\xa6m\\x9b\\xedtS(\\xd0\\xbbg\\x19\\x11\\x82\\x9b\\xb3\\x8e9zB\\xf0{\\xd85p\\x9f\\xc9 \\xa4x\\x12\\xe6;\\x9cH\"\\xc6\\x9b\\x11MY~\\xb3\\x02 \\x0b.\\xca\\xbc\\xb5\\x0f\\xcc\\x1d\\xa4\\x14\\xf1\\xab\\xaa\\xdec\\xda\\xd2d\\rJz\\xd7\\x93\\x17\\xc0\\xee\\xc6\\xe0\\xc9\\xe9\\x1d\\xae0y\\xd9\\xb9K\\xa7\\x96\\xf9\\x04\\xb6\\x05\\xd2G\\x01S\\xd1/\\xe6\\xd7B\\xfc:\\xc9\\xd9r\\xdf\\x0b\\xb2\\x1e\\x9c(Eer\\x8d\\xc8}\\xc2D\\xb2)\\x98\\x16\\x9b\\x0fC\\xe5_.?a\\xa6\\xd3&]\\x89\\xfa\\x85\\x94\\x1f\\x8a\\x96\\xed@\\xde\\xe0D\\x06\\xd7\\rK\\\\M\\xfe\\x84\\xcc.\\x07\\xe52\\x1e_XD>\\xf8\\xa9\\xeb\\xe5\\xe6Lc\\xbb.\\xa6,\\x9c\\x1etV\\xad\\x10\\xee\\x0f#\\xb3\\x97i\\xaa2\\tVd\\tJY\\xdc\\xd7\\x0ev\\x9b<6Fp\\xb3\\xe1*\\x07|b\\xe3\\xa6\\xd0\\x91Za\\x1b\\x1b{\\xf9\\x88\\'J\\x98\\xc4\\xb9l#\\xd6\\'z^\\x86\\xce\\xa5K\\x94\\xc7v\\x9d\\xe1O\\x80;a.\\xfa\\xdd\\xd1\\x02&\\xa9\\xa6\\x8e\\x8a\\x9c\\xd8\\x90\\xcf\\xc6\\xc7Fn\\xb2ge\\x8c\\xd2\\xf7\\xb2{\\xa5\\xac\\x9a:\\x08^\\x02\\x129Q\\xc1\\xd1\\xb31w\\xea\\x05\\xd1\\xa5S>\\x9d:K6\\xdb\\xabq\\xda\\\\k\\xe4\\xa4\\xec\\xab\\xbc^K\\x8f+)\\x03Q)\\x11\\xb5\\x81p\\x99\\xd5\\r\\x8a\\x0c\\xfbd\\x13{\\xbc\\xc3%\\xc8\\x14\\xb5\\x04\\xd1Z/~\\xc2\\xa4\\x07\\x10\\x0f\\xe1\\x11\\xca\\x9d\\x16\\xfa0\\xc3\\x0bn\\x1c\\xa6\\xac6\\x16\\x84\\x1cS\\xb5\\x8b\\xd66\\x1eMQ\\xa3[\\t\\xb2\\xff0\\xbd\\x9d_S\\x195\\xb6Y\\xcf\\x159\\xeaNV \\rc\\xe3n\\xca\\xfa|\\x7f\\x8ar\\xe5\\x12\\xe5\\xd3\\xf1O]h\\xb5iO>\\x00c\\xdc\\xf9@\\xf7R\\xca\\xce\\xb3H{\\x1d\\x9dP<1\\xbb\\x12c\\xd7\\xd1\\x94)]\\xc7\\xf5\\xad\\xd2A)+\\xc35z\\xfd\\x1ccS\\x9aF\\xb0ui\\xd8F\\xef4\\xf7\\xb4\\x8ai\\xae\\x84\\xa0\\x9d\\xbf\\x95\\x8fT\\xea\\xe7IZKY\\xd9\\xb4\\xb0t\\xfb\\xad\\xfd\\xebbS\\xc3\\xb1w\\x95\\x89@\\x1d\\x95^\\xba\\xb4\\x9c\\x0e~\\x82\\x17\\x13L\\x8ay@\\xa0)\\xd3\\x17\"\\xbc\\xba\\x0e\\xb2\\xd8\\x95\\xce\\xf5d\\x8b\\xf7f\\xaeur;\\xc3w\\xc8\\x1a\\x8c\\x9e=&\\xb0\\x96\\xc5\\xedP\\r\\x96\\\\:\\x15\\xfd\\tv\\xd9\\x98\\xae=\\xc99\\x0e\\xec\\xd6\\xd2g\\xd6\\xf4\\x16@5\\xe3\\'\\xb9\\x82n\\x12\\xa3\\x90Z\\x0c~\\xb5FRH\\xa7s6\\xcfvE\\x0b\\xc7\\xcb\\xfa\\xd5\\xfdp\\x1b\\xa1\\xc95MP\\x1c\\xe0\\xc9!:u\\x9a\\xf8s\\xb5\\xb6\\x90Qp\\xca$\\x12\\x8f\\xe7\\x98\\xf7L\\x9f6\\xc0\\t\\xd7\\xe8\\xa1\\xd3\\x01\\x90\\x1e\\x0cP\\x1dp!\\x1fK\\xf3\\xac`]\\x0ea\\xd2\\x1d\\xc8)\\xcb*\\'\\xb4\\x93`E\\x14_c|<*\\xd0Q3C\\xe9U\\xe3wsa\\x9d~\\xd8\\xf8\\xf5\\xa7\\x1ax\\xd6\\xac\\xa7\\xce\\x13\\x9d!\\x8a\\x07\\xce1\\x9d\\x17f\\xd5\\xa9\\x83\\xc5\\xad=\\x17y\\xd6Vl\\xad\\xc7\\x0c\\xc5\\xec7*\\xe7]\\xab\\xd74\\x17Cf\\xfb\\x8d\\x1b\\xc02#\\x04Jd\\x05\\xf9\\xcc\\xa5S\\xee|@\\x94\\xa9$\\x02\"\\xacG\\xe7\\xe8;\\xcaI\\xe1Q)Wq\\x14\\x86\\x85\\n\\xb8cZ\\x9145B\\xa8;V\\x0e/\\x0eucG\\xb0#\\x9ce\\xfejX\\x19\\xda\\xbd+w|\\x0e\\xa7\\xee3\\xa9\\xf9\\xaa\\x00\\xd1\\x97\\xcf\\xa6\\x08W\\x8aC\\xb6<+]\\xbd\\xc9\\x1a\\xdc\\xb1\\x97V\\xf8\\xe8Zj\\x13\\x88qF\\x98\\xb1\\xdb\\t\\xf5\\x93J\\xa9BA:P\\x81#\\x8dcBq\\xe9R:\\x1d\\x11\\xd91@\\x19\\xf7\\x83oQRR?\\xb4\\xa0\\xa0\\x0e\\x07\\x9b\\x896\\x03\\xaf\\xad\\xeb8q\\x02\\xd3\\xe6\\x81MY\\x83\\x1e\\xd1\\xd6\\xdc\\xb3\\xe3\\xa4czT:\\xaa\\xb6\\xb6\\xfa\\x8f\\x87\\xde~q\\'\\xd0]\\xb1\\x14@\\xe6N\\xfa\\x0f\\xf3\\xba\\xd5\\x8e\\xf8\\xf2\\xd1d5\\xe4\\x92,\\xfa\\xc3\\x94\\xd5Fn\\xe5\\xdd:\\xff\\x91\\x89n\\x11\\x86\\xca\\xfd\\xe8\\xb1\\x8a\\xa2\\xbdvj~wH\\xa4\\xf8\\xae]\\x01\\xef\\xd8\\xaf\\x96\\x06\\x1f\\xe2I\\x9e\\xd73\\x12iZ>P|\\xd1\\xbbEv{hS\\x0b\\x85\\xdbL\\xec!\\xbc\\xd0^\\xe8\\x9a\\xc9\\xa8\\xc3\\xc5\\xe6\\xbb\\x08O\\x9cH\\xcf\\xd6\\x88\"O[\\xcev\\xdc\\x1b\\xd5\\xda|\\x1d*\\x9a\\xdf\\x84\\xaa\\xa9\\xbc\\xdd\\xb2v\\xb8^h_\\xc7\\'!\\x94\\xe2\\x80\\x9e\\x178\\xb0Yl\\xacg`\\xcf\\x9a\\xa1\\xed\\x1c\\xbe\\xff\\x1a\\x84\\x18K\\x87R3\\xa8\\'K\\x97\"\"\\xb7\\xcf\\x9a\\xd6\\xfb\\xf1\\xd8\\xa7|I\\x81\\x00*\\xecBW\\xe3\\xe0\\x08S\\xfe6\\xb4U^\\x19\\x16$\\xe3P\\xd8W\\x88\\x0ercI\\x9e\\xbe\\x99v\\xac\\xa4\\x80O^;\\x93\\x07\\xc6\\x02\\xb9\\x19^\\xd6\\xa3\\xe4K\\x97\\x1c\\x9d\\x0er%C\\x14h\\xcd\\xb7.\\xda\\x03\\xf8\\xae\\xb4\\xef0\\xbb\\x9c\\x92\\x14\\x07\\xed\\xeci\\xd8\\t\\x9d\\xd1F\\x03\\xe6r\\xec\\xae\\x19l\\x02\\xb1\\xd4\\xcb\\x11\\xf2\\n\\xe4+w\\xf2\\xe9\\xc4G\\x0b\\x1a\\x95\\x03\\xe6J\\x9e2\\x90\\xb3\\xe9p+0{\\xa5\\x1d\\xec\\x8b1\\xdfh,\\xd9\\xf0\\x10\\xd1Ztg\\x0c\\xe0\\xa1\\xcd\\n\\xdb7\\x98ogmW\\x1e%7d\\xd1\\xa9\\xb7\\xab\\xcf\\x0fM\\xac\\x9f%\\xf6\\xed\\xd8\\xb2\\n\\xf8T\\x87\\xfc\\xcf\\xdaz)\\xfe\\xdb\\xa2S\\xce\\x98w+\\xf9s!8[\\xb1\\xf4\\x89\\xd2\\xa3T\\xba\\xd0u/\\xbf\\x10q:\\xed\\xb1\\xec\\x0f%\\xff;\\x9b\\xbb\\xfa\\xdb\\xb3F\\xd95\\xf4R\\xc7\\xb4\\xd2\\xa6\\xbf\\xed\\xc4\\x92{\\x9dd\\xd1\\x90\\xb9C\\xf9\\xa2\\xc0\\x89$\\x9b\\xd9\\xd3\\xe6\\x97~BZ}\\xfa\\xfd\\xf6\\x7f\\xa0M\\xbf\\x8c\\nendstream\\nendobj\\n\\n3 0 obj\\n2925\\nendobj\\n\\n5 0 obj\\n<</Length 6 0 R/Filter/FlateDecode>>\\nstream\\nx\\x9c\\x85V\\xc9\\xae\\xdb0\\x0c\\xbc\\xe7+|\\xee\\xc1\\xa5(Y\\x0bP\\x14\\x88\\x1c\\xfb\\xfe\\x80\\x00\\xfd\\x81.@\\x0f\\x05\\xfa.\\xfd\\xfd\\x0eGr\\xe2$\\x0f\\t\\x8clZ(rf8\\x8a\\x8cn\\xf8w\\xf8;\\xc8 \\xa3h\\x1e\\xa2scInH\\xa5}\\xbe\\xff8|\\xfb4\\xfci+\\xf0\\xbc\\xff:\\xd4\\xf3a\\x8ac\\x1e\\x92\\xc6\\xb1\\x0c\\xe7\\xef\\xc3\\xe7\\xd5\\rN\\x86\\xf3\\xcf/R4\\x88\\x8a\\x97\"\\x19\\xcf,\\x8b\\x04\\xa92k\\x94\\xa0\\x9e#\\x05#E\\'\\xbc\\xafjsm\\xad\\xd7\\xa0\\x93\\x9b$\\xe2\\xfbbk1\\x87Q\\xbc\\x02#\\xda\\xfe#V\\x97>~\\x89\\x8a=\\xb3\\x9c\\xdc\\x8a\\xd1\\xc8\\xb5\\xd5F\\xa5\\xba\\x15cAR\\xcf#02N\\xd7$\\xe1\\xeb\\xf9\\xf7a9\\x1f\\xde>,\\xcaMc\\xbc-JO7\\xc9d\\x96R\\xed8\\x89\\x96\\xb6\\x9c\\x14%\\xf0\\xd8\\xa4\\xc2\\xf2\\xb8J\\x10\\xcb\\xd2\\xc0\\x98\\xca\\xec\\xe25i\\xa4\\xc54\\x91b\\xb5\\x19\\x14Q]/\\xddv\\x11$e\\xdaX\\x87\\x95\\x8a\\x11\\xd5\\x89#\\r<\\x1b\\x89/J\\x910\\xea\\x1d?Q+\\xb6\\x03s$e8WC\\x17i\\x18\\xc2\\x85G\"q\\x9f\\x90\\xc4\\xaa\\x13\\x9e(\\x11\\xbf\\x96]Q\\x11\\xe5\\x06\\x9b3|\\xafx35%\\xbf\\x99\\xd8g9Iaa\\xeb\\xae\\xf0J\\x9eZ,;\\xef\\xf4\\xbc\\x84X\\xf4QbH\\xbf\\xee1\\x01\\xa5G&p\"+\\x94\\x93?J\\xc3\\x19+\\x80\\xac\\xed\\xa8\\x9bt\\xbc\\xda\\xc1M|dAtbR\\xc4\\x17\\xdcz\\xc6\\xb6D\\x17\\x03\\xa3\\xf3\\xdf\\xb8\\xaf\\x1d<\\xecb\\x16\\x10\\x95\\x0f>\\x03\\x10\\xdf\\x0b_^\\x94\\x94\\xdd8\\xdd\\t\\xecHN\\x10^\\x17\\x04\\x9d\\xb5\\x12\\xbf\\xe5*4\\x84?\\xea\\x91\\x1a.\\x9b\\xccP\\x06\\xd6\\xb1\\xac\\xe0!$\\x88-jg\\xc2;c\\x95\\xbc\"\\x9e\\xec\\xa4\\xe7\\r\\xb2D \\x10\\xc9/\\x06\\x8d\\xf7[\\xb1\\xec;\\xe5\\xe9`\\\\Z\\x1e\\xe4T\\xe3\\xd3\\xa2\\x92<Hm\\xedX\\x05\\xb6\\xb5v\\x89\\xb4\\x86or\\xdb7\\xac\\xb66v&9\\xf6\\x926\\x86\\xd8[\\xe4\\x8f\\x82\\x05\\xd3\\x99\\xdc\\xf1\\xbbN\\xde\\x00\\xb2BD\\x1aT7\\xe6\\xe0g\\xec[\\xc8U\\xe6L\\x02\\x90\\x01\\x00\\'\\xff\\xc2\\x06\\xe2\\x94\\xf1\\xfe\\x91\\rl% \\xccUn\\x14J6oq\\x0b\\xdf\\xd5\\'\\x9fQ\\xb8o\\\\BD\\xca9\\x1c\\x8fB#\\xa5f%\\x18\\xba\\':\\x9fo\\x16@0\\x1e\\xe4\\xcc\\xb5\\x06Q\\xbcv*\\r\\xa5\\x10\\xa4\\xc2\\xac\\x9e\\x17\\x14\\xd2\\xbd\\xec,\\r\\xb3O\\x1eY:\\xae\\xb3h\\xb0\\xd1\\xbd\\xcbU3\\n\\xfa\\x1f^\\x9cU\\x89\\xbdG\\xc2N\\xbc&Q\\xb6\\xbd(%E\\xd3\\x85D\\x8f\\x9e\\xd2\\xee1\\xa2\\xed\\xed^F\\x8f\\xd3\\xd6\\x9f~+\\xaa\\xc5{Z\\x8c\\x8f\\xb8\\xb6n\\xd9\\xa9H\\xb3\\xf9\\x0f\\xc3\\xe8z\\xb1\\xd0+F<^kOrg\\xd4\\xe0E\\xbae\\x98\\xa9\\xcc\\x9d\\xe7\\xfd\\x9a[\\xdf\\xeb\\xd0\\x98\\xfcL\\xb4\\xf8\\x95\\xb6\\x9e\\xb5\\x1d\\x06,\\xbb\\xf1y\\x19\\x1a\\x1eD6mW\\x1c\\xf1\\x88\\xad\\x11\\xf7\\xfe\\x83\\xfb`/<\\xe2\\xbf\\xb1h\\xcd\\xab3\\r\\xdc.aO\\xbb\\xb08\\x99}\\x92x\\x17\\x05`\\x0c\\xb3\\x90\\xcd\\xd5\\x92=\\x8deDe7j\\x93\\x99y\\xa6]\\x17\\x84\\x95\\xa0\\xe0\\x13RNO\\x8br~\\x0cwB{\\xd43\\xafNvRn\\x16|\\xdb\\xa0\\x8d\\x0b\\xcf\\xd4\\xd5\\xdfph\\xde\\xb5\\xbbNM.(+n,6\\xaf|\\xc5\\x1b,`j\\x17\\xfa\\xd3RD\\x1feF\\x9a\\x11\\xa4\\xb5l\\xa7}Kp~H\\x10\\x9d\\x03O\\xab4\\xd5p\\xf9\\xfb\\x92w\\x18\\xbe\\r\\xff\\x01\\xa7\\xcf\\xfcz\\nendstream\\nendobj\\n\\n6 0 obj\\n862\\nendobj\\n\\n8 0 obj\\n<</Length 9 0 R/Filter/FlateDecode/Length1 17256>>\\nstream\\nx\\x9c\\xd5{y|SU\\xfa\\xf79w\\xcb\\xda\\xecI\\xd3\\xa647\\r]\\xa0{C\\xd9Dz\\x81&\\x96\\xbdP*\\r\\x88mhSZ\\x84\\xa64-\\x9b(\\x05D\\xa0\\xac\\x02\\xca(\\x0c\\xa0\\xa2\\x02\\xa2\\xa4\\x08CQ\\x96\\x8a\\x8e#\\x0e:\\x8e\\xcb\\xf8{\\xdd`\\xdc\\xc6\\x19\\xd6QpT\\xe8\\xed\\xfb\\x9c\\x9b\\xdb\\xd2\\xe2\\xe8\\xfb\\xf9\\xbc\\x9f\\xf7\\x9f7\\xe9\\xbd\\xf7\\xec\\xe79\\xcfv\\xbe\\xcf\\xb9icCS\\x10iQ3\\xa2\\x91P97P\\xbf\\xaef\\xea(\\x84\\xd0Y\\x84\\xb0\\xa9r~#_]\\xc7x }\\x1e!\\xea\\xc5\\xea\\xfaYs\\x9f8z\\xcf5\\x84\\x98M\\x08)\\x0e\\xcf\\x9a\\xb3\\xa8\\xbaF\\xf9\\xceJ\\x84\\xb4\\x85\\x08\\xf5\\xad\\xaf\\t\\x06\\xaa\\xde<=\"\\x13\\xa1\\x9c\\xc30\\xc6\\xc0\\x1a(\\xd8\\xde\\xb1\\x9f\\x83\\xfcE\\xc8\\xf7\\xad\\x99\\xdb\\xb8pT\\xfc\\x02\\x15B\\xb9\\x06\\xc8o\\x9a\\x13\\xaa\\x0c\\xdc\\xb8\\xe7B\\x01\\xe4w\\x93\\xfc\\xdc\\xc0\\xc2\\xfam\\xccB\\x1a\\xa1\\xbc\\x1c\\xc8\\xf3u\\x81\\xb9\\xc1\\xc0\\xc4\\xa6\\x01\\x90/FH\\xb3\\xa8>\\x14n\\x9c\\x82RE\\x84\\xee<K\\xea\\xeb\\x1b\\x82\\xf5\\x97\\xb7^\\xaf\\x80<\\x8c\\xcf.\\x862\\x0c_\\xf2\\xd1B\\x92#y\\x8afXN\\xa1T\\xa95\\xda\\x18\\x9d\\xde`4\\x99-V[\\xac=.\\xde\\x91\\xd0\\'\\xd1\\xc9\\xbb\\x92\\xdc}\\x93SR\\xd3\\xfa\\xf5O\\xcf\\xc8\\xcc\\xca\\xce\\xc9\\xcd\\xf3\\x0c\\xc8\\x1f8h\\xf0\\x90\\xa1w\\x0c\\xbbsx\\x810bT\\xa1\\xd7\\x87\\xfe?\\xfe\\xb0g\\xd9\\xb3\\xe8\\x01\\xd6\\x8b\\xac\\xa8B\\xba\\xf7\\xfa0C\\x91\\x05-@\\xa8\\x93\\xc8\\x07\\xee\\x9d\\xe5\\xd1\\xb48U\\x9c\\xfa\\xff\\x92\\ne\\xf4q\\x18\\x9d@\\xfb\\xd1n\\xf4&\\xa4V\\xcaU\\xab\\xd1\\x83\\xe8\\x19\\xd4\\xde\\xab\\xf9)t\\x06=\\x8f\\xd6\\xa1\\xe3h;Z\\x8f\\x06\\xfc\\xea\\xb0\\xc7`\\x9c%Rj+*\\xff\\xf5\\xd9\\xf1^\\x14B\\x0b\\xd1\\x1e\\x98w\\x05\\x8c\\xf7\\n\\xba\\x17\\xb7`\\x1aU\\xa0F\\xb4\\x0c\\xb5\\xc1\\xdc\\xc5L+\\xf3\\x9a8\\x0e]\\xc0\\x87\\xd0kX\\x85\\xee\\xc7\\xe9\\xd4c@\\xc3c\\xe8\\x13\\xf6\\x7f\\x98\\x0f\\x7f1\\xe0f\\xb4\\x17\\xdd\\x07\\xf7\\xa3p\\xdfN\\n\\xa8\\xef\\xd0fj8\\xaa\\xa3\\x9e\\xa1\\xbdh\\r\\xac\\xb0\\x82\\x1a\\x07\\xc5\\xaf\\xc1\\xdc\\x13\\xd0\\x1e<\\x1d\\xdd\\x0b\\x16V\\x0bT H\\xd5\\xf4\\x1a+\\x85\\x1e\\x83V\\xa1\\xfb!\\xd5\\xd4\\xb3\\x86]~\\xb3\\x15i:\\xaf\\x01\\xc5k\\xd0F\\xa0\\xa4\\x16\\xcdC\\xd3\\xd1d\\xb9\\xfa\\x10\\x05V\\x82\\xd6\\xd3NX\\xcd\\x8b\\xe8\\x88T\\xb6\\xb6\\xab/\\xb7\\x8f\\xae\\xa7\\x8eS\\xca\\x8e\\xc7\\xd1#\\xf0\\x1d\\x0f\\xdf*T\\x85\\x97\\xa1]h\\xafX#\\xee@\\xdb\\xb1\\x17{\\xd1&\\xf1\\x87\\xce\\x7f\\xa2\\xc5\\xac\\x97\\x1a\\x8f\\xb4\\x9d\\x97\\xd9\\xdf\\xdd\\xfc\\x1e\\xd5\\xa1qh&\\xf2\\xa1o\\x7f\\x9d\\x9b2}g\\x91\\xfefb\\xe7w\\xd4\\r\\xa4clH-\\xbe\\x0fR\\x93?\\xf4td\\xe8H\\x02mZ\\xd8yU\\xac\\x10K\\xa0\\x8d\\x9e\\xb1\\xb1\\xcf\\xb0\\x87\\xd8\\xd7\\xd0\"T\\xce-cj\\x90\\x85\\xf9\\xb3\\xa4q\\xef\\x8bKa\\x8d\\x9f\\x80^\\xbc\\x0c|C\\xc2]\\xd3\\xa7\\xf9\\xcbJ\\xa7\\x94L\\x9eT<q\\xc2\\xf8qc\\xc7\\x8c.\\xba\\xcb\\xe7-\\x1c5r\\x84P0\\xfc\\xceaw\\x0c\\x1d2x\\xd0\\xc0\\xfc\\xdc\\x9c\\xec\\xac\\xcc\\x8c\\xb4\\xd4\\x94\\xe4\\xbe\\xee$\\x97\\xd3n1\\x1a\\xf4\\xba\\x18\\x8dZ\\xa5Tp,CS\\x18e\\xf0\\x11\\\\\\xe1\\x8d\\xd0\\xc9\\xbc\\xd1\\x17p{\\xdd\\x81\\xa2\\xcc\\x0c\\xdek\\xaf)\\xcc\\xcc\\xf0\\xba}\\x15\\x11>\\xc0G\\xe0\\xc1\\xa4\\xb8\\x8b\\x8a\\xa4\"w \\xc2W\\xf0\\x91\\x14x\\x04z\\x14WD\\x04hY}[K!\\xdaR\\xe8n\\x89\\r\\xfc04\\x8cL\\xe1\\xe6#o\\x17\\xba\\xf96<mR\\x19\\xa4\\xd7\\x17\\xba\\xfd|\\xe4\\x92\\x94\\x1e/\\xa5\\x99\\x14)\\x13\\x03\\x19\\x97\\x0bzHT\\x11jyo\\xc47\\xbf\\xa6\\xc5[\\x014\\xe2V\\x8dz\\x94{TP\\x9d\\x99\\x81Z\\xd5\\x1aHj \\x15Is\\xd7\\xb7\\xe2\\xb4\\xe1XJPi\\xde\\xa1\\xad\\x14R\\xc6\\x90ia\\xa5\\xde@U\\xa4xR\\x99\\xb7\\xd0\\xe1r\\xf933FGt\\xeeB\\xa9\\n\\x8d\\x92\\x86\\x8cp\\xa3\"\\niH\\xbe\\x96\\x90\\x8e\\xd6\\xf2\\xad\\x19\\xed-\\xeb\\xda\\x0chfE\\xba\\xb6\\xca]\\x15\\xb8\\xa7,B\\x07\\xa0o\\x0b\\xedmiY\\x151\\xa6G\\xfa\\xb9\\x0b#\\xfd\\x16\\x7fe\\x87\\x95\\x07#\\x19\\xeeBo$\\x9d\\x8c:vr\\xf7<coM\\x89#l\\xb2\\xc1\\xcd\\xb7\\\\G\\xb0\\x1c\\xf7\\xa5\\x8b\\xbdK\\x02r\\t\\x97l\\xb8\\x8eH2B\\x8d\\x8a\\xe0\\xc9e.\\xf2q\\xf8\\x80\\xd7-->7\\xefk\\xa9h\\t\\xb4u6\\xcft\\xf3\\x06wK\\xabV\\xdbR\\xef\\x05v\\xa3\\xe22\\x18\\xa2\\xad\\xf3\\xe5\\xb5\\x8e\\x88o\\x9d?b\\xa8\\xa8\\xc1C\\xfd\\xf2\\xd2}\\x93\\xc7F\\xcc\\x93\\xa6\\x97E\\xa8d\\x1f_\\x13\\x80\\x12\\xf8+p\\xbb\\x06;\\\\\\xc6\\xee6\\xc5\\xbfV\\x8d\\x80-\\xc0\\x1c\\xe0\\xb0\\xcbE\\xd8\\xb0\\xb6M@3!\\x13i\\x9eT\\x16\\xcd\\xf3h\\xa6\\xe3\\x10\\x12\\xb2\\xd3\\xfd\\x11\\xaa\\x82\\xd4\\xb4w\\xd5XKIMsWMw\\xf7\\n7\\xc8vlIYK\\x84I\\x1e]\\xe5\\xf6\\x02\\xc7\\xd7\\x06\"\\xcd3A\\xbbf\\x13\\xc1\\xb8\\r\\x11\\xdd\\x0f\\x0e\\x97\\xbb\\xc5d\\xe4\\x87d\\xfb\\xa5\\xb6<P5\\xba\\xaa\\x96\\x8f\\xb0)\\xc0$\\xe8\\xd5\\xb3\\x03\\xe8\\r\\xe9\\xd2b\\x902\\xba\\x1f\\xa2\\x8fK\\x0e\\x98 \\xc5h\\xe2\\x87\\xb8a\\x182\\x8e\\xd7\\xed\\xad\\x90\\xff\\xe6\\xd7\\xd8a\\x00\\x1e\\x18]\\x94\\x1eU\\x84)e\\x11\\xa1\\x10\\x12B@\\x96\\x98\\xb75\\'\\x1bz\\x04*@`\\xb5\\x85\\x920#\\xd9\\xee\\xfa\\x88\\xc5=\\xb2[\\xba\\x84,omI\\x99\\xd4E\\xee\\x16\\xb1\\x8c\\x8a\\xa0\\x8aJ\\xb9W$\\xdb+\\xd9\\x15\\xefm\\xa9(\\x8c\\x92@\\xc6rO*;\\x86<\\x9d\\xe7[\\x07\\xf0\\x8e\\x97<\\xe0\\xc8\\xfd\\x85\\xa4\\xb1m\\x14hY\\x8a\\xb7\\xa5\\xac\\xaa:\\xe2\\xacpT\\x81\\xddU\\xf3e\\x0eWD\\xf0\\x83\\x84\\xfd\\xee\\xb2\\xa0\\x9f\\xa8\\x1dp\\xa8\\xdfy\\x87\\xa4\\x1c~IW\\xa6\\x94\\x8d-q\\x8f\\x9d4\\xadl\\xb0LH\\xb4\\x82\\x0c\\xc7${o\\x1b\\xc6]\\xe6\\x88\\x0e\\x03\\n\\x18Q&+\\xf92\\xcaA\\xfb\\xa1\\xa1\\x01\\nx\\x1f$\\xdc#\\x87\\xc1=\\xa2HV\\xc2e\\x00\\x86K\\xa5DqG\\x0e\\xe3\\xcb\\xb0\\x03u\\xb5\\x062\"\\xfdxo\\xb0PnG\\xf2\\xbd\\x06e\\x89:\\x8d*\\xea\\x1a\\x8d#Y\\x18gT\\x91\\xc3\\xe5wE?\\x99\\x19\\x14T\\xf3\\xf2\\xc4\\xd0CI\\x98Z\\xd4U\\x05n\\n*\\x94\\xa0\\x9f\\xa3\\x8a\\xa4\"\\xc2K;Qz\\xbe\\xcc\\x1dt\\xfb\\xdd5|D(.#k#\\xec\\x91\\xb8,3C\\xe2\\xb9,\\xab)\\xbdr=\\x98\\x05lB.\\xa8\\xee\\xca\\x10fF|\\xe9\\x8e\\x9e\\xcc\\x8d\\xdc%\\xe5\\xbb\\xb3E\\xb7U\\x8f\\xee\\xaa\\xe6[\\x94\\xee\\xb1%-dp\\xb7< \\x02\\xcaGG\\x10Qaa\\xb0\\xd1!\\xf9\\x02b\\xd0n\\xf0\\xbd\\xbc\\x01LZ2\\xe8\\x96VA \\xc6\\\\3\\x94\\x0c\\xe2\\x1e]\\xd5\\xe2.)\\x1b&\\xb5\\x06\\x7f\\xf2\\x80c1\\x99\\xcb\\x84\\xc6\\xe2\\xb1SFff\\x80k\\x1b\\xd9\\xea\\xc6\\xab\\'\\xb5\\nxu\\xc9\\xb4\\xb2c\\x06\\xc0|\\xab\\xa7\\x94\\x1d\\xa205\\xaab\\xa4\\xbf\\xb5/\\xd4\\x95\\x1d\\xe3a\\xd3\\x90J)RJ\\nI\\x86\\'\\x192\\xd2d\\xc8(\\xa5\\xf6\\x8ec\\x02B\\xcdR-#\\x15H\\xf9\\xca6\\x8c\\xa42eW\\x19F\\x95mT\\xb4\\xcc\\x10\\x9d(E\\x9aH@\\x14\\xd40\\xd1\\x1a\\xa1\\xab5\\x03e\\xcahY\\xb3T&}Z\\x11a\\x99\\xa0f\\x05\\xa5\\xa0\\x12\\xb4T\\x0c\\xe5h\\xc5\\xa4\\xe8\\x10\\x94\\xbc\\x0c\\x18U\\x85\\xd1KZ\\x1c\\x83\\x1d\\xad\\xd0k\\xb2T\\xdc\\x86\\x9b[U\\x82#\\xda\\xa2\\x19Z\\x08Q\\nW\\x97\\xde\\x9a\\xbatZ\\xd9KZ\\x04\\xdd\\xa4;L4\\x92|@]\\xec5 l\\xd8V\\xbc|\\x15Q\\x94%\\xfe\\x9a\\x96\\n?16d\\x03\\xd1\\xc0\\x1f\\x8e`\\xf7p\\x10\\x93{8\\x10\\xc2i#jwpdD\\xe3\\x1eI\\xca\\x0bHyA\\xb4\\x9c#\\xe5\\nPQl\\xc3\\xd0\\xbd\\x19d_\\x1c\\xc1D\\x03\\xa6\\x97\\xb9\\xc0$\\xf9\\xf83\\x8e\\x16\\xc3%\")?8\\x95\\x16\\xc3\\xd7\\x99@\\xdcR\\xd8\\xf5\\x97Q\\x97!\\x8aP\\xa0DA\\xcb!\\x05\\x8dh\\xa5\\x8a% <\\xfb\\xed\\xec\\xb7\\x8d&<d\\x88\\xd1c\\xf4\\xe4\\xe6x\\x8c.#\\xed2\\xba\\x96\\xd2\\xd42\\x11\\xbaR\\x97;L\\xd4\\\\\\xd1B\\x80\\x1a\\x9a\\xd8y\\x91\\xa9a\\xa7\\xa1\\x0c4FH\\xe3\\xd8$[\\x9f\\x04\\x80\\xf2\\t6\\x96\\xc9\\xccJ\\xd2\\xc6\\xd1q|\\x85\\xbfO\\x9f8\\x86V\\x95\\xfb\\x05\\xae\\x98\\xa38\\x8e6\\xa3\\x02O\\xf6\\x8ctd\\x87G\\xba\\xd1\\x84`\"\\x13\\x8e\\x95f\\x8b\\xce\\x88-\\x8c\\x9b\\xa7\\x07%bO\\xde\\xc0\\xfc\\x01YTj\\x16\\x9d?`\\xa0\\'\\xcf\\x16\\xab\\xc8\\xc2n\\xdejI\\xa4b\\x13\\x19\\xa6F\\xfc\\xfe\\'q\\xd0\\x98c\\t\\x91-\\xbb\\x9e\\x191{e\\xe1\\x93k&\\xf7\\xff\\xfe\\xcb\\x0f\\xceg\\x1c\\xb7oz@\\xfc:\\x7f\\xfa\"\\xef\\xda\\xc5\\xe5\\x85\\xa9\\xb8\\xa1\\xed\\x1d\\\\\\x9d\\xbc\\xaciI\\x83\\xafl\\xb0\\xdb\\xd8\\x7fdi\\xdd\\x98\\x17^\\xd9\\x1aq\\xd5\\x07?\\x1c66\\x977\\xb9\\xb3\\x87M\\xae\\x03X\\x08\\xc8\\r1A\\xc0J*\\x14\\x83\\x86\\tN\\x8dV\\x0b\\xb2gXV\\xa7\\xd7\\xa8K\\xfc\\x1a\\xa4T\\x14\\xfb\\x95z\\xc4\\xd0L\\xb1\\x9f\\xb6\\xa2\\x82t#\\xf2\\xd8\\x0b\\xc8Z\\xd2\\t\\xcb\\x8c\\x1e\\x8f\\xf4\\x97\\x9b\\x93\\xec\\xb2\\xba\\xf2\\x81k\\xf9\\xae\\xd4|\\x8f\\x95\\xfa\\'^r\\xb3?~V|\\x15\\x7f\\xff\\xe6\\x9b\\x1b6l\\xa0\\x137\\xbc\\xd7\\xde.\\x81]\\xf4\\x1d\\xcc`e&\\x00\\xd6\\xef\\'Xt\\x1c\\xa7P@\\xc4\\xa33\\x9b\\xa9\\xc9~\\xb3A\\xa3\\xe7`\\x9a\\x02i\\xa2\\x1eB\\xc1)\\xee$\\xcejt\\x1b\\x07\\xa4\\xa4zl\\xb1\\x9e\\xe1\\x94\\'/\\x96\\xb1\\xd6W=\\xf9\\xc6aG\\xdc\\xf3iJ6\\xaf\\xe2\\xa1\\xf2\\x9aj\\xfa1\\xf3w\\xaf\\x88\\x0cub\\xdc;\\x95-\\xf5\\xf5\\xb5\\xf9F\\t\\xfe\\xa2j\\x90[5\\xc8M\\x03\\xb3\\xa6\\t\\x16\\x03\\xa7E\\x1c\\xb2\\xc5\\xaat\\xe5~\\x15C\\x9b\\xcb\\xfdDJ\\xdd\\xcb\\xea\\x9a\\xd4\\x80\\xdcI\\xc8h@\\x9e<D\\x1b\\\\\\xbc\\xd1`\\xf2\\xe4\\x99\\x98j\\xf1??\\xfe$\\xfe\\x8c\\x99\\x8e\\xff`\\xe5\\x19\\xf1-\\xf1\\xcd\\x9d\\x8f?\\xbd\\x95\\xda\\'\\x1e\\x14\\xb7\\xe2j<\\x15O\\xc2\\x15\\xe23\\xe2~\\xca\\xdaqA\\xfcN\\xbc\\x88\\xed\\xd1u?\\x074\\xf4e\\xc6\\xa2\\x144A\\xe8\\xaf\\xe0\\x9c\\xe6\\xf88-\\x8aCf\\x8eIMsjm\\xb4\\xadO\\xb1\\x1f\\xc5\\xd7\\xc7S\\x1a:>\\xdef\\xa0\\xd5\\xc5~\\x85\\x82\\xb6\\x11\\xed\\x89*O\\xf9\\xbd3~E\\x7f8wRJ*Q >\\x1f\\x18\\xd47\\x0b\\xf7\\xd0\\x9f$\\xab\\xc5\\xe6\\xc4\\x89\\x14\\xd3\\xf7\\x9f\\xef\\xbc\\xf3\\x91k\\x97\\xf9\\x81mX73(\\xfe\\xb8a\\xdc\\x07g\"\\xef\\xc5?\\xa5Y\\xb8\\xe0z\\xc9=\\x0b\\x9e\\xde8\\x19\\xe7?qp\\xd9Z\\xe7\\xdd\\x13\\x9f\\x17&\\xc6\\x8d\\x18\\x13*\\xd9\\xf2\\xec\\xca\\xa5\\x96\\xa21\\xdb\\x86\\x15\\xd9\\x9ci\\x13\\x9a\\xa2\\xbc|\\t\\xd61\\x12t\\xc6\\x8a\\\\h\\xb0\\xd0\\'\\x81\\xd5\\xe9bl\\xa0?InK\\\\\\xb1\\xdfh1\\xc4 \\xb5\\x95v\\x16\\xfbY\\x89xB{\\x01<\\xba\\x19\\x0b\\x1aCxK\\xb9\\x93R\\xdd\\x16N\\xe1\\x1e\\x98\\x0fe\\x16\\x85g\\xa0\\x87\\xa7\\x07Hr\\xb6\\xd8\\xc0\\x12\\x98\\x91\\x7f>qm\\x1a\\xa5\\xa0^\\xe4\\x0e3\\xcc\\xf4\\xef\\xf1\\xaa\\x97\\xef_\\xf1\\xe8\\xea\\x87\\xb6\\xadZD%\\x89_\\x89\\xdf\\xb4\\xe5\\xd4h\\x07\\xeec.\\x89\\xfe\\x11\\xf7\\xbc\\xd9q\\xf6\\xfc\\x99O>\\xff\\xeb[\\x7f\\x8d\\xd2\\xb8\\x12h\\xf4\\x81\\x8eYP<\\x9a(d\\x80\\x04b8E\\x9c\\xd9\\xac\\x88\\xa1\\x1d\\tvT\\xec\\xb7\\xdb\\xd5\\x06\\x83\\xb5\\xd8o0\\xa8\\xe9b\\xff9\\xee\\nG5s\\x98\\xe3\\xd4\\x12\\xbfg\\xcc\\x90u\\x01\\r\\xb1\\x13\\x9b\\xbd\\x8d\\xdd\\x84\\xbcA\\xb1:\\xe0-\\x15\\xd5\\t\\xa3\\x15\\'q\\n\\x17\\x85G>\\xb9n\\xd6\\xf6\\xf8\\x9d\\x19\\x17\\x9e\\xbe(\\xfet\\xe1\\xc2wb\\xf2\\xc3;X\\xaa(\\x01\\xff\\xe7\\x0f\\xef\\xf8\\xc7g.y\\x08\\xa7`\\x13\\xd6`\\xa7\\xf8\\x85x\\xce\\x8e\\xdf;\\xf88.\"\\xbaq\\xb2\\xf3*\\xfd\\x13;\\x05x:Pp\\xb0*\\x15e\\xb1\\xe8m\\xb1F-\\xf0\\xd3\\xa6\\x84z`&\\xa6i\\xac\\'\\xc4\\x19=\\xb2\\x15\\xca\\x1c\\x95\\x882\\xe7{\\xcc\\xe0\\xb9\\xac.#\\xa1n\\x90\\x95hD\\xbe\\xf1\\xe4\\xfe\\xa1\\x0bqD,.\\r<\\xfc\\xf4\\xbeg\\x9fz\\x8a>\\xb0\\x01\\xc7\\x8b\\xdfl\\xe8h\\x9c8.iM\\xd6\\x9a\\xad\\xd4\\xae\\xa8n^\\x02\\x9b\\x1c\\x07\\xf17\\x8b\\x9c\\x82\\x0eB7\\x96S@\\x04J\\x97\\xfb\\x91)j\\x17\\xf2\\\\\\xc4=\\x92i.\\x9d\\xa2v\\xb3\\xde\\x1bSw\\x00\\xaf\\x9b\\x81\\xd7\\xab\\x81\\xd7I(\\x1bU\\tC3\\xf5q\\xf1&ej*\\xcf\\xc7\\xeb\\xe9\\x9c\\\\S\\xda$\\xbf\\xc9\\xa4M\\xd0\\xc7\\x85\\xe2\\xce\\xc5]\\x89\\xeb\\x8cc5t\\\\\\\\B\\x82\\xad\\xd8\\x9f`\\xd0\\xbaaeh\\x92\\x9fe\\x95Z\\xc2yP\\xf5(\\xe7a\\x81D\\xdf\\x8d\\xa6!=\\xf8/\\x0b Y^_\\xaa\\x9b\\x88 %\\xdf\\x90<(_R\\x1cE\\xaa\\xc9\\x95g\\xb3\\x02\\x0b\\x92\\xf3\\x86\\xe3;\\xb1BG\\x81.1\\xe3\\xe3]\\x85wUM\\xe7\\xb8\\x11\\xad\\xcbw\\xee\\xc6o\\\\\\x9c\\xdd8\\xbfF}<\\x0b/z\\xf3L\\xff\\x8e\\x8f+\\xb6N>9\\x7f\\x89\\xd7\\x1fR\\xd4\\x1bj\\xeb\\x17\\xcd>\\xf0\\x18\\x9e\\xc12w\\xac\\x08O)3\\xe2\\xbe\\xaf\\xb4\\x8aY\\xc5\\x93\\xb8{\\x9e\\x98\\xecg\\xa8\\x9c\\xca\\xc9\\x93\\xab\\x08\\xbf^\\x02~\\xc5\\xc1\\x9a\\xed([\\x885*\\x95*dW\\xd9\\xe3\\xe2\\x8d\\x16\\x0b8J\\x8bA\\xabW\\x81(\\x0b\\xf2n\\xf3c\\x84x\\x97q@\\xb7/K\\xf5\\x80g\\xf7\\x10K\\xb5\\x1a\\xe9\\xaa\\xda\\xf0\\x92]\\x87\\xb9\\xfd\\x98\\xa2)\\xba\\xf6\\xdf/\\xec\\xa7\\x8e\\xae~\\xe8\\xc8\\xf6\\x8e\\xf5t\\xc9\\x89\\xfel\\xc6\\x90\\x89o\\xbfr\\xba#\\x1b\\xe6^\\x0e\\xfc\\x1e\\x0cs\\xc7\\xa3\\x1a!1\\x06)8\\xcelA\\x16GB\\xbd\\x19#\\xb3\\xc1\\\\a\\xae77\\x9b\\xdb\\xcd\\x9c\\x8a6\\xb7u\\xb6\\x0b\\xbc#\\xb1\\xc8l\\xb6\\xdb\\r\\xa0\\xf46\\xe2T\\x9c\\x8a\\xa5\\x8a\\x8d\\nZ!@\\x058\\x18\\x83\\xe4`f\\xdcb{:\\xf0}\\xde-\\xdd\\x92\\xb4\\x8b\\xf8@\\xd9\\x9d\\xc8\\xe6\\t\\xfa\\x0f\\x16\\x8c\\x96c\\xea\\xda\\x1f.&\\xb4\\x1b\\x9a\\xe7\\xef\\xdc\\xb2\\xe5\\xf7s6\\x18O\\xc6,x}\\xd1\\xf5ND%b\\x1dN:\\xb8U7\\xbd\\xf6\\xf5O>\\x7f{\\xf6\\\\m\\xc5\\xef\\xfd\\x98\\x97\\xf4\\r\\xd3\\xe2\\xa3\\xd4\\x11\\x9c\\x0e\\xfb1/\\x18h\\x84a\\x9beX\\x8cvLg\\xf0\\xf6\\xe9(\\xbd\\x97\\x176\\xbb\\xa0\\xfd>\\xac\\x12\\xcf@\\xa7\\xc7:f\\x13\\xfe\\xcf\\x03\\x1e\\xcc\\x07\\x7fnCA\\xa1\\xc0h0\\xc0&bGZm\\xac\\x1d\\xe9\\x0c:J\\xafr\\xaa\\xa8\\x18Vg)\\xf7\\x1b\\x8d:\\x06q9\\x9c\\xc0\\xd1\\x08\\xf6\\xe3\\xdd\\\\\\x84;\\xcf]\\xe58-\\xcdq*\\x15(\\xb8\\xca\\x8cn\\xa9\\xdb<\\xc9\\xd7BbFtw3u\\x99\\x17&f\\x0ek\\xa6\\\\<l\\x08.\\xde,\\xb1\\x82\\xc2C\\x9f\\x8f\\x04\\xf7\\x0c\\xd9\\xf5\\xa8xH\\xfcI\\xfc\\x9a\\xb2\\xe3\\x92\\xa5{\\x93\\x7f?\\xeb\\xf9g`;\\xb8\"^Y\\xf3\\xc8\\x08q\\x1d\\x9e\\x8dK\\xa8V\\xb1u\\xc4\\xbc\\x15\\xa2\\x08+~\\nt\\xa7\\x19l-\\x06T$\\x11\\x15\\x0bi\\x1a\\x87N\\xa9d\\x90\\xd9\\xe1`l\\x80\\xd7\\x9c\\xbc\\xc6\\x1co\\x8e/\\xf7\\x9b\\xcd\\xb0\\x13\\x9b\\xca\\xc1\\x8f2\\x8er?c\\xea\\xde\\xa1d\\xaf\\x84\\x86\\xf4\\xd0,\\xa3I\\xa27\\x8a&`#\\xe6\\x8d\\xe0[\\x131\\x1e\\x90\\x92\\x8e\\x8d\\x1e\\xde,=]\\xe0V\\x9b\\xc5\\xcb\\xd7\\xc44\\xbc\\x03_\\xdd\\xb4\\xe4\\xb9\\xa3\\xe2\\xe5m\\xdb\\xce\\xfd\\x1dgL:\\x14\\xb9\\x89\\xd5\\x07\\x9f\\xc1K\\x0e\\xbf\\xc9z\\xc5c\\x8b\\xf7\\xc4\\x99\\x0e\\xe1/\\xef\\x9b.V\\x88\\xcb\\x1a\\x16\\x8aI\\x8b$?Ah\\x9f\\t\\xb4k\\xd0Ta \\xf8)D\\xab\\xd5\\nDkcXe\\xb9\\xdf\\xc9f\\xb3\\x94\\x1en\\x05l9\\xbb\\x94=\\xc8\\x9ec\\x15N\\x9aeA\\xdeL\\xb9\\x1f\\xfc\\x89\\xea\\x96?\\x91WAx\\xde\\xd3\\xbfJ\\xf0\\x0b\\x9cX\\xf4z\\x8a\\xde\\xd6\\x91F\\xed\\xe8\\xa8\\xa21\\xeb\\xdd!N{B\\xf4\\xec\\x88\\xea\\xcf\\xdd\\xe2T\\xfa~\\xd8\\x83`\\xd7\\x11\\xf4j\\x8d\\x86\\xa1\\x01\\xd9)tz5b\\x1c\\x00\\x1fzc\\x13\\x10^\\xac;\\x85\\xb8\\xeaA\\x1e\\x8e\\xa2\\x8c\\xfb\\xdbO\\xb6?\\xb7\\xe7\\xb5\\x93\\xed\\xfb)\\x93xI,\\xbcx\\x11\\xbf\\x02h\\xd2\\x88\\x8f^\\xbd(\\x8e\\x92\\xf6\\x8fY\\x12.\\xf2\"5\\xcc\\xe0\\x13R\\xb5l\\x0cG)U\\x14\\xd0\\x81u\\x00\\x87\\xb4L\\xd8\\xafd\\xf5Z\\xa76[\\x1b\\xd22\\x80\\x9a4\\x1c\\x07\\xfb<\\xecs\\xe0\\xb0fx<\\xb7\\xcc>\\xb6\\x9b\\n\\xb0xW>\\x86\\xb4U\\x85]\\xf4\\xbe\\xc3\\x1d\\r\\xd4\\xfd\\x7f:.n\\x12\\xb5\\xf8\\x1a.\\x00\\xa8T\\xb0\\x8e^|s\\xf5\\x06zT\\xc7XB\\x03|\\x98\\xb3@\\x83\\x02h(\\x11\\xfak(\\x1a\\xc0\\x19\\xc7\\x12U\\x01\\xb3e\\x18\\xbdN\\x81)\\rU\\xee\\xd7j4\\xd3\\x94x\\xac\\x12+9P\\x15\\xc2\\xe1<\\xf0\\xa43f\\x0c\\xc9\\x8e\\xee\\x14\\xd9Qv\\xe4\\xc9\\xfal\\x1a2\\x04\\xfe\\xc0\\x13\\xd1.\\xda\\x8d=*\\xac\\xc7\\x90b\\xd4-\\x1do\\xafy\\x1d\\x8b\\xff\\x0b_\\xef\\xd8\\xa1\\xf5n\\xc3\\x7fy\\x01?(.g\\xbd?\\xbf\\xc2\\x1cI\\xfd@\\xf4\\xe3k\\xd1\\xbd\\xe2\\x18\\xd8\\x9e\\x93\\x19\\n\\xd0E\\xf6}\\xd8nW\\xc5;\\x8cV+\\xf8>\\xab-\\xc6\\xaaD\\xfa\\xff\\xee\\xfb\\xb0\\xb49E\\xf7\\xfbX7\\x00]\\xd9\\x81\\x1b\\xf1\\xdc\\x99\\x0f.{\\xec\\x88\\xec\\xfc\\x86?\\xbd\\xe8\\xd03\\xcc\\xd0\\x8e\\xc9;\\x16EvS\\xe1\\x9b/D\\xfd_\\xfd\\x8c\\xd6\\xb3\\x94\\xbc\\xbfo\\x14\\xcb\\x98D\\xc0R.\\xd8s&\\t\\xe9 \\xfe4cR\\xacJ\\xe54:sr\\x1dzKr\\xb1?\\xd6b\\xd0e\\x14\\xfb\\xd5:+\\x02\\x10\\xcb39\\x0c\\xc50\\x08\\xb4#O\\x06\\xe3\\xdd\\xb7n\\x1a\\xbbE%\\xa3\\xa9<c\\xbe\\xfb\\xd6.\\x0f\\xb0s\\xc0@\\xd0 \\xd8_8\\xb3\\x0cTH\\xa3\\xe1\\x98\\x9a\\xb5\\xf7lB\\x9bq\\xde=?R\\xb9/.|\\xe3\\xe8\\xebg\\xe7=\\x97I+\\x99\\xe7\\xb9\\x0f\\\\\\x8f\\xadX\\xb3\\xd83\\'P\\xba\\xcc\\'\\x96\\xb5,\\x8b\\x1b;\\t\\xdfqz\\xd6lL\\x83\\xc29\\xb0\\xa66\\x90\\xb8Q;p\\xff\\xcd7\\xbe\\xfc\\x9a\\xfe\\xcb\\xab\\x9f\\x9d:\\xb7\\xed`q\\xf9\\xd1(\\x9f\\xb7\\x82\\xfcg\\x83\\xfcu\\x04e\\xc5h9\\xac\\xc6Z\\x9a\\xa2\\xf4\\x06\\x05\\x17&\\xc8P\\xcd\\x81>\\xe0\\xb0\\x1f6!\\x19\\x97{\\xa4\\x00\\x03G\\x95N2&\\x80\\xe4\\x1c\\xe3\\xce\\xcf\\xeb;\\x88\\xd8\\xd5\\xef\\xf1\\xd1d\\xf1\\xc2\\xc3[\\xb1b\\xc0\\xb38\\xf0\\x08\\xdd1\\xa1q\\xeb\\xf2\\xca\\x1b\\xe3\\x1e\\x91x\\xba\\x1e\\xe4Z \\xf9T7*\\x17\\x06\\xc3\\xbe\\xd2\\xc7\\xa4\\x8d\\x8d\\x05}\\xea\\x9b\\xac\\xe7\\xc3~\\xad^\\xef\\xd4\\xef\\xd2\\x1f\\xd4_\\xd1w\\xea95\\xad\\xd7\\xd3Vk|\\xd8oU\\xd0\\xaa\\xb0\\xbf^\\xd1\\xac\\xa0\\x80\\xaa\\xb8\\xeeh\\xe7\\x96\\x89\\xf7\\x06\\x7f\\xdd\\xd0\\x1a\\x98\\x0c\\xea`\\x1a$\\xb1\\x98 \\xd6\\x9e\\xf8o8f\\n\\xc4\\x1f\\xae=\\xf3\\xa7\\xf4\\x03\\x03\\xdb\\x9ex\\x81J;\\xddx\\xe2\\xeb\\x1b\\x1f\\xe3\\xcf^\\xdf\\xbdt\\xf9c\\x8f5\\x8f[5\\x81:%>+\\xaeZ\\xbb\\xdd\\x11\\xc1\\xb1?L\\x9b\\x8b:\\xdf\\xfe\\xe0?\"\\xf3\\xe4\\x99\\x17\\xd7n<\\xe8%\\'\\xd64Z\\x02k\\x9a(\\xe1\\xfeX\\x10\\xfd\\x14!\\x0b0\\xb7\\xc9$\\xa1\\xff\\x84>z;\\xd6\\xdb\\x9dv*\\xc6.\\xe8\\xe3\\x9cq\\x94\\x15p\\t\\xadR\\xe9\\xc3~\\x95\\x82\\xb6\\x86\\xfdd-\\xbd\\x17\\x12\\xff\\xf6\\xad\\xadQr\\xb9Cd$K4\\xc4\\x95g\\xa2\\xbb\\xd2\\xb0\\xacd\\x88\\x83\\x98\\x89?}\\xff\\xfd\\xb5\\xcb\\xa8\\xf3\\xa7KG\\xd7?\\xf5\\xec#[v\\xef\\xda*\\x96]\\xa0\\x9e\\x16_\\x14\\xb7\\xe3J<\\x05\\xcf\\xc0\\xd3\\xc4\\xa7\\xc5gq\\x12\\xa6;\\x91\\xf8\\x89\\xf8\\xa5\\xf8\\x13\\xd6\\xed\\xfc\\xe9\\'\\xa0]\\xc2\\xb0@\\xbb\\x03\"\\x86<4[\\x18b\\xb7f\\xaaSc\\x12\\xacI11\\x99\\x9c5\\x15\\xd6\\xe0\\x19\\x00\\xbb\\x91\\x91\\xd2\\xd3N\\x9a2\\xb0v\\xb5:\\xb9\\x7fr\\xff\\xb0?9\\x996\\x1a\\x9da\\xbfQA\\xe7\\xfcb\\x19\\xd1\\x8d\\xc3\\xd3\\xb5\\xc9u\\xfb\\xc9\\xe8\\x16\\x12\\xddA$\\xf4\\x08\\xca\\x9eO\"\\x89\\xe1\\xa0\\xe3\\x89\\xd8\\n\\xdb\\x895\\x11\\xdf\\x92\\x10o\\xee\\t\\xd6}?\\xfd\\xe3\\x8b\\xce\\x9d\\xf7\\xd7\\xaf\\x0e\\xbd\\xb5b\\xcd\\xd99-\\xf5\\xcb\\xb7\\x7f\\xbej\\xe9\\xfdkZ\\x96`\\xc6\\xbdc\\xfd\\xea\\xed\\xdb6o\\xd9\\x84\\x17\\xb7\\xfd\\xed\\xbd\\x97\\x97\\x1d\\xb12\\x8e\\x17\\xebg\\xee.\\xf3\\xef\\x0c\\xce{\\xd1\\xc6X[\\xf1\\xf5\\xd0\\xbc\\x86\\xba\\xd0b\\xb1y\\xe1\\xb2\\xb5\\r\\xab\\xd6\\xb7\\x10\\xfd\\xdf\\x8f_c\\x92\\xa8q\\xc0\\t\\x9b\\xa0F4\\xc1\\x07\\xc7\\xfc\\xf88\\x92\\x81/\\xc1\\xbc.\\xeb~z!~m\\xcd\\x1a\\xd2~\\x13\\xd8\\xcb0\\xe0W\\x02D\\xb2}\\xe2\\x01\\xf1\\xeb\\x12\\x14\\x16\\x9d\\xa5ObL\\x8c\\xd1\\xa8&\\xdc\\xc0\\xf1(\\xbe\\xa7\\xbd\\xdc\\xf2\\x8e=v\\x0bO\\xfep<h8\\xeeB\\x94d\\xf56\\xb2x\\x1dV\\xb8\\xac\\x9br\\xffrh\\xd7\\xba\\x96\\xe6\\x86\\xf51m\\x96\\xcb\\xa7?\\xbc\\xfc\\xbbm\\xef\\xecrQ\\xef7\\xcd\\xfdl\\xc3\\xd2\\xe3SC\\x0b\\x1f\\x98g\\xdc\\xff\\xa7\\xf6H\\xf8\\xeb\\x85{\\xb6\\x8f\\xde,\\xd9\\xf1N\\xa0+\\x13\\xecX\\x852\\x04+E\\xd3\\n\\r\\x07>]\\xadA\\n\\xa5\\x02\\xb6\\x11\\x8e\"\\xfbFO_i\\x92\\x806FF\\xb7\\xc1d\\x86\\x88\\x9a\\xc9\\x14S\\x8f_\\xff\\xae\\xc3Iod^\\xee(\\xeb\\xb8\\x8c\\x15T\\x00\\x83\\xd5b\\x14\\xe9\\xbcH\\x7f\\x0cc\\x1bP\\x8e`\\xd7\\x99\\x14\\x92f\\x1bMz\\x88k\\xf54\\xad.\\'~\\xc2\\xdc\\x15A\\xde\\xb2\\xc2[R\\x8e\\xfa\\xb98\\x0c\\xd3\\xd0\\x1f\\xbfw\\xf2\\xf9\\xb3\\xeeWLM\\xfe\\xbf\\x8ag\\xf0u\\xbc\\xe7\\xaf\\xff8\\xd4\\xee\\x9c\\xdf\\x8c\\xc1*\\xa4}\\x97\\xc5\\x1aX\\xcb=\\xe4\\xdd\\n\\xcch\\x04\\xcf`A(\\x99\\xb5&\\xa7\\xa4\\xa6\\xa4\\x92\\xd8\\xdfh\\x8b\\xb5\\xc5\\xa6\\xc6\\xa6\\xe6\\xd3\\xa3p\\x9c\\xb8a\\xde\\x00\\x1b-\\x9e\\xc3\\x1fb\\xbbu\\xc8,\\xc3\\xeb[\\xd8\\r\\x8c\\xc5\\x97\\xf803l\\xc3\\rW\\xa6\\xcd\\xac*\\xbf\\xb4\\xa11\\xea\\xebF\\x8aS\\x995\\xd2\\xdb\\xbe!\\x82\\xc3\\xa4\\xd2Q:\\xb5\\xc1\\xa8Q\\xab\\x8dV\\x9bN\\xa5b\\rj=b!:vD5\\x99l\\xb2\\x9e\\x1e\\x8b\\x19\\x12\\r)\\x93R\\xf3\\x89.\\x16`\\xec\\xc1\\xb6\\xd8Ap\\xd7a\\xdcwL^J\\xd6\\xc4\\xb59&\\xb1\\x7f;VNW\\xf4\\xc3\\x03O\\x8a\\x83\\xfd\\xa7\\xc4\\xa9\\x9aU\\xdc\\xfce\\xb9Lv\\xc7\\x83\\xe7\\x13\\xebh\\xd3\\x8d7.\\x9c\\x94\\xfc\\xe06\\xb0\\xbb\"\\xd9\\x0fN\\x17\\xf2\\x8c\\x89\\x89\\x1c\\xec\\xb0\\xb1\\xc0\\xd8\\xbe\\xc9\\x16\\xd0\\x9fr\\x0bF\\x16\\x83\\x85R\\xd3\\x16\\x0b\\xb8\\x0b]\\xd8\\xaf\\xd7b#\\xad\\xd5\\x82\\xd7p\\xdd2\\xb7[\\xf1\\xba\\xe4:f\\xa4\\xf7\\x84\\xd4\\xdda;E\\x8e\\x17\\x00N\\x82\\xb2QVI\\xd7\\x14D\\xf1tX\\xb6\\xab\\xa2\\xef?\\xb8(b\\xe5U\\\\Pr \\xff\\xa5\\xc7\\xf7\\xe7\\x1e\\n\\xb7\\x7f{\\xf4\\xf1\\x15c\\x1e\\x1a\\xfb\\xe4\\x83K\\xb7\\xe1\\x93\\x1f\\x88\\xd8\\x0f\\xa1\\xce=x\\x89\\xf8w\\xe7\\x01\\xf1_7\\xa6\\x97_zg\\xd3\\xeeQ\\x0b\\xc6\\xfe\\xee\\xec^\\t+\\x15\\x03Vj\\xea\\xc2J\\xc0S\\x80\\x0e\\n\\x84\\x08V\\xa2\\xff\\x1bV\\xa2 \"7\\x19\\rT\\xaa\\xc7f\\xa2\\x9b\\x9eio\\x7f}\\xef\\xde\\xd7\\xdb_{\\x8a\\xb2\\x88\\xdf\\x8aw]\\xfc7>\\x81c\\xb0\\x16\\x9f\\xf8\\xf7Uq\\x9c$;+\\xe8D\\x9b\\x84\\x07\\xa6\\tY\\x18\\x81\\xf2\\xd1\\x1c\\xab1\\xd1\\x1aZa\\x8fS*\\xe2\\x14\\x8exZ\\xa7\\xd3(\\xe2\\xe2\\xecJ\\x85\\xde\\xa4i\\xd2\\xac\\xd4P\\x1a\\xb0fr\\xd2\\xe3\\x81\\xcf\\x0c\\xa3\\x87<\\xb3\\x8d\\xbd\\xc5\\x1a\\xdbM\\x16\\t\\x9b\\xdct\\xaa\\x82v\\xd3\\x1e\\xb3\\xc9:p\\x90\\xd9c\\xb6\\xc5\\x0e\\x18NA\\x82\\xfe\\xf9\\xec\\xc6!\\xa9{\\xff|\\xf4\\xd0\\x0cW\\xaay\\xd5\\xab\\xcb\\xf9X\\xa5VK\\x07#\\xf8\\xa3\\xb7\\xd6v\\xfc\\x0b`\\xc4\\x93\\xe2\\x8f\\xc3w\\x0f\\xc4{\\xc5\\xa9\\xb5s\\x12\\xa7\\x95\\xdf\\x1dG\\x95Gq\\x0c\\x89\\xe1\\x80/\\x16\\xb0\\x9dX\\x862\\x9b-j\\x8dEc\\xb5Y\\xd4V\\x85\\xbe\\xd8\\xcf(\\x0c\\xd0\\xac@\\xc6\\t\\xbdO/\\xcc]\\x07\\x16q\\xd8\\xdd\\x1d\\xcf\\x1d;\\xa2\\xa2k\\xff\\x85\\xef=\"\\x05r\\xecYq\\xf1\\x1d-o\\x8b+:\\xb2\\xbb\\x029\\xd0-\\x12\\xbb\\x8d\\x86\\xd8\\x8d\\xecGi\\x82%\\xba\\x13\\xd9\\xe3T0\\x9f\\xca@[\\x8b\\xfd\\xe4\\xc8\\xe4\\x97\\xe7P\\xb7v\\x95^\\'$\\xa3o\\\\\\xfa\\xf6?\\x1d\\xdf^\\xbb|b\\xcd\\xe3\\xdb7m\\xda\\xb4k\\x03\\x95\\x08a\\xc79\\xdc\\x174?\\x16,\\xf0_\\xe27\\x1f}\\xf0?\\xef\\xbf\\xf7\\xc9\\xdf`\\xee\\x96\\xceo\\xa4\\xf5\\xda R\\x1f*\\xf4\\x89\\xe5\\xfa \\x9dN\\xcf\\xe9\\xdd}\\xcdV\\x1dR\\xf2\\xc5~\\x8d\\xd2@\\xc7\\x83\\x99u\\x9f\\xdbD\\x0foz\\xe2#\\x88\\xbeeD\\xe4\"\\x80(U\\x86r8?z*\\x12\\xf5\\x9a\\xf4\\xbd\\xb9O-z\\xeb$^\\xbd\\xe8\\xe9\\\\\\x8a:\\xcc\\x1d`\\xb8\\x8e\\xbf/xx\\xf3\\xbaU\\x8f\\xaeZ\\xf8bm9`\\x1f;5\\xf0\\xee\\x99\\xdb\\xf0\\xd37\\xcc\\xfb\\x06\\xea\\x1b\\xd3\\xf1\\x9c\\xcf\\xff\\xfc\\xfe7\\x1f\\xbd\\xfe\\x0e\\xe8\\xebU0\\xc2O\\xa4\\xd80VP\\xd3\\xe48\\x12\\x91\\xa0\\x10\\xc9\\xd8F\\x8a\\xa1=F|\\xf5\\x02N\\x17?\\x94c\\x92\\xfeRLr\\x87\\xc0+h\\x9aQ\"\\xa4a4\\xda\\x18\\x05`\\xe3b\\x05\\xde\\xad\\x88\\x10d\\xa2\\xba\\x85\\x8d\\x01\\xa2\\xcf\\xeb\\tI\\xa2c\\xba\\x00\\xa0\\x93\\xc3_\\x8f\\x91\\xbe\\xaf\\xe3\\x87S\\xa7(\\xf5)*\\xd4\\xf1\\x08\\xeb\\xedx\\x8b\\x1a\\xf8\\xf3+\\x92\\xce\\\\\\x94\\xcfK5\\xe8N\\xa1\\x0fV\\xab\\xa4\\xe9 \\x0c\\x92\\xe6\\xa3\\x14j\\xac\\xc0J=\\x0bA\\\\4\\xfa\\xef\\xc2\\t=\\r?\\x8a\\xbd\\xb1B\\x9a\\x8d\\xc0oz\\xb3\\xb8\\xf9\\xa1\\xc3\\x87\\xf1\\'\\xef\\x8b\\xa3\\xf1;\\xf8\\xfb\\x99b\\x88={3@\\xc5\\x88\\xd9\\x1d\\xdb`N\\xd8\\x0c\\x99\\xb10\\xa7\\x1dy\\x84x\\x1b\\xc6\\x10\\xc2\\xc4\\xc4\\xc5\\xab\\x8d\\x80m\\ts\\x00t\\xdbX=\\xb6J\\xaa\\xfa\\xcb\\x83\\xa1h\\xd8\\xe1\\x92\\x0f\\x04\\xad$l\\xd5\\xe1>\\xd8e\\xa5\\n\\x0f\\x8b?c\\xee\\xd5\\xbf\\x17=\\xd7?\\xf1hv\\xcd\\xec\\\\|\\x81>ps\\n}`C\\xdc\\xdb\\x07b\\x94\\x8f\\xb0\\xda\\xac\\x9a\\x19\\xea\\r\\xd13?\\xf0\\xcf#\\x99b\\xd0Z7A\\xa3\\x89\\x04\\xf6\\xdbaG\\xeb\\x9blu\\x14\\xfb\\x8dV\\x83V\\xaftP.\\xb0\\x1a\\xea\\xb7\\xce\\xfc\\\\I\\xa9n[\\xf7\\xd1\\x87\\xd5C\\x1c^o\\x95\\x1e).\\xfc\\xa1\\x94e\\x8ep\\x071,-o\\xfb\\x03o\\x9c~y\\xf1\\x8am\\x0f?\\xfc\\xe8\\xca\\xc5TR\\xc7[m\\xca\\x9d\"\\x04\\xc4\\xfb\\x072\\x9eJ{m9h\\xfb\\x97_\\xbc\\xfa\\xc9\\xe7\\x1f\\xbe\\xf1\\x96$\\x9fJ\\xe0H\\x15\\xd8W*\\xf2\\nI\\xb6\\xd4T\\x84TNg\\xa2\\x1e\\xa8MT\\xa5\\xf5s3f\\xe0V\\xbcMo\\x06z\\x9d\\xd1#\\x1a\\x90\\x92\\xa7g\\xbc\\xd6;\\x98\\xee}Z\\x13\\x1b\\xa5\\x98\\x9c?K\\xa8\\xc0\\xd8m\\xfc\\x949w\\x840q\\x1f\\xf7(G%\\xd5L(\\x9bj\\xa6\\xd2B\\xa5\\xf3\\xab\\xf7\\xe6\\x8e\\x189\\x9ez\\xf1\\x89\\xfb\\xdb\\xf7t<I\\xceq\\x96\\xe6T\\xcf\\xa8\\xa8\\x9a=\\xed\\xc0_\\xc1-@\\xf9\\xde\\xbd\\xe0\\x16\\x80\\xeeq\\xf2\\x99\\x80\\x02\\xa5\\x08&\\x05\\xc4\\xcb\\x14\\x84\\x9bD\\xb8$\\xfa\\xc7\\xa6\\x1e\\x00\\xa1\\xb7X\\xad\\xd4\\x1fO\\x8a^f\\x00\\xb3\\xef\\xc6Tf\\xdf\\x8e\\x1dd\\xac{a\\xac\\xb9\\xe0\\x8f5\\xe4D\\x1f\\x94S\\xad\\xc0\\x0cC#\\r\\xc7\\xb2\\x80>\\x88]\\xa8\\x19\\xcc@\\xf8JG\\xb5\\xd4\\x13;\\xa4\\xa7\\x86\\x82\\xdf\\x8d\\x1a\\x84\\n\\xbbUD?\\x89\\x8a\\xee\\x11O\\x89\\'N\\xe3]b\\xf8O8\\x03\\xf7?#\\x86\\xf1\\x1e|\\\\,\\xa42(\\x9d8\\x1d?\\xd3q\\xad\\xe3=\\xd0\\x13\\\\!>J\\x9b`n\\xf2\\x9e%G\\x88\\xa7@[\\x15\\x0c\\xcb1\\x9cR\\xc52;\\xa6+\\xd9\\xed\\xd31\\x82\\x0b\\x02\\xc4\\xf4\\xf4\\x9ex$\\xba&0\\x08r\\xdas\\xf5\\x82\\xb8R:\\xf0\\xa1\\xf5\\xc4\\xc6o<\\x1c=\\xf6\\x81\\xb5\\x9d\\x86\\xb5\\xdd)a\\xa9qB6fYNIq\\xb4ZC\\xce\\x17\\xf4x\".\\xc7\\xd0\\xa3\\x00\\x870\\xad\\xa5\\xb1`\\xedW\\x841\\xabP \\x80A4\\x1beb\\x14\\x02\\xc3~\\xdcp\\xeb\\xd8\\x81\\xccL\\x0e\\x1c\\x80\\xa3V\\xbc\\x8c\\xda\\xd3q\\xcf)\\xfa~f\\x9fh\\xda\\xd9\\xf1%\\xeb\\x95x\\xda\\x15\\x8b\\xc7\\x02\"\\xc8U*b\\x8c\\x06\\x06@\\x80\\x85\\x89Q1\\xb6X\\xb5J\\x15k\\x8fc\\xb2\\r\\x13\\r\\xe5\\x06\\xda`\\x88\\xb1\\xa9hKL\\xdf\\x18\\x1c\\xa3\\x04w\\xa6P\\x9a\\xc86G&\\x926:\\xe9\\x80\\xa0{\\xe5\\xb7mrj\\x9c\\xaa\\xc3\\xd26g\\x8b\\x1d\\x8e\\xcd\\xb0\\x05\\xc7:0\\xecq\\xef\\x8e\\x19\\x9f\\xde\\'w\\xc1\\xbb\\xef\\x9f\\x98k0\\xf2\\xe9\\x8b\\x0fz\\'\\xe6\\xbakN`\\x0b\\xe6\\xdb\\x1fxK,a\\xbd7O\\xac\\xf8\\xa8\\xe50>\\xd1!~\\xfe)\\x9eF\\x8f\\x8a\\xc6\\xc9\\xc47>.\\x9f5\\x95\\x0b\\xf9(&F\\x85aw\\xd4\\xa9L\\xe0\\xb8TL\\xacMK\\x99\\xc0KN4a\\xbd\\xa9\\xc0\\x142\\x9d2]1\\xb1Z\\xdadB,k\\x94N\\x9e\\xa2.\\xb3\\xd7qM/S1\\xdd:\\xd9\\x84\\xbd\\x10X\\x18E\\xcb\\x10(\\xf4\\x93\\xce\\x9b\\xe8\\x13\\xe2\\xe6\\xcb\\xa7\\xf0\\x17\\xff\\xbc\\xf6\\xca\\xef\\xf1\\xa6\\x1f\\xc5w\\xc5\\xab\\xd8\\xbe\\xf1q\\xaa\\xa0\\xe3U\\xd6\\xfb\\xea\\xe1G\\xcf\\xc6w<O\\xbf}N\\xec\\xdfL\\xf8\\xec\\x05zW\\x81\\xfe\\xa8\\xd1\\x00!\\x1e\\x10\\x02G\\xa9\\xd44\\xa5\\xa6\\xb4\\x1a\\x15\\xa5/\\xe5p!\\x879\\x84%\\xdc0cF\\x81\\xa7\\x97\\x02I\\x0c\\x04\\xd0\\xe7\\xc4\\x04\\x01R\\x7f\\xfeP\\x9c\\xf8\\x16\\xd6\\x1a\\x07\\xb8S\\xb1\\xe5\\x0c\\xe0\\x00!\\xbf\\xadi>uZ\\xc2D\\x13\\xf0\\xbb\\xf4\\x83T=\\xe8i\\x9c\\xa0\\x8d\\xc6\\x16/\\xfb\\xb31\\xc6({FWx\\x81\\xc1\\xbc\\xf0\\x04*\\x07\\xbf\\xbb{7\\xa1\\x8d\\x9cs\\x8f\\x05\\\\\\xd8\\x1f\\xcd\\x17F\\xa4\\xf6\\x8502\\xa3Ob\\xa2\\x82\\x8b\\xed\\xdb\\x97\\xec\\xe2\\xe9\\x19\\xa9&\\xa3\\xc9\\x08h\\x10\\xf4\\n8H\\xbb\\xfa\\xf4q\\xb9\\x00/\\xba\\xa4\\xf8XPlRP\\xe4vUAw\\x87\\xc9\\xf3n\\x9d\\xba\\x12\\xf0\\xd3\\x05\\x18{\\x9a\\xe3\\xedqY_\\x08\\x9a]\\xd2{B\\x9c\\x8e\\xf3I\\x9c\\xfc\\x8bH\\x05\\xc24f\\xec\\xcd/\\xfe\\xd6\\x89b_\\xee\\x8b\\xf5\\xab\\xb7O\\xdf\\x11\\xa8\\x9ey\\xf7\\xc6\\xc9+W,\\xd8\\xa2=b\\xf9\\xcf\\xe9\\x0f.\\xec\\\\\\xb3\\xed(nx\\xf9\\xec\\xe9\\xe3\\xc6\\x9f\\x1f\\\\4v\\xd6\\xa0\\x1dCj\\xee\\x9a\\xbd`qH\\xf7\\xc2\\xe9W\\x9e[\\x10I`\\x8c\\x87@\\x7f\\x9a\\x00;\\x16\\xc2\\xdec\\x00\\x944PH0Z\\x00\\xf0k9\\xad\\xd5f2\\x96\\xf8MH\\xaf+\\xf6\\xeb\\xf5\\xb4\\np\\x8b\\x0c\\xcd{c\\x17\\xa2\\x16l4\\xce\\xc8\\x8f\\x9e\\xfc\\xc8/\\x08\\xe9\\xc2\\xf3\\x7f\\x99\\xb8\\'\\xf3\\xb1\\xfb\\x9b[\\xc4Zj\\xec\\x9bo&\\xbc\\xf2^\\xbcq]\\xd2C\\x0b\\xe8?F\\xdf\\x14R\\xd8J\\x8f\\xa7\\xff\\x00s\\x13_\\xe2\\x12t\\n\\x8e\\xa29\\xf2\\xce\\x16!\\x8eB\\xd2\\xbb\\x82\\xbc\\x9e \\t\\x8c\\x86\\\\\\xf4\\xba\\ri\\xe7E\\xeb\\xfa~\\xe7\\xe9\\xf1\\xd4\\xd2\\x8ee\\xd4\\xd2.;(\\x970\\x82\\x99h\\x96\\x16\\x198N\\x81\\x14V\\x0bk\\x00-\\x077\\xa2\\xd4\\x97\\xfb\\x954\\xd7\\xd3I\\xf4>\\xba\\xb2\\x00\\xec\\x91\\\\D\\x1e\\xa3\\x18\\xe0\\x82\\xbd\\x1b6\\xab\\xf2\\x05\\x9f=\"\\xfe\\xe3\\x14>{\\x19\\xd3\\xedb\\xdb\\x0f\\xe2\\xa3\\xcf\\xd3\\xad\\x0f\\xbc^\\xd7!\\xb2\\xde\\x0fO\\x8b\\x1d\\x976w\\xcdM\\xce\\x12\\x95\\x101\\x01\\xe6\\xd31\\xe0\\xd8\\x91\\xc9\\xcc\\xc6H\\xf6\\xa5\\xebu\\xb2\\xdb\\xf3\\xdd#\\xb1\\x1f\\x1e\\xd1\\x06\\xe9\\x007\\xcf\\xc4\\x04\\xc5\\xb7\\xc5/\\xc4\\rx\\x10\\x1e\\x8dG\\xb5\\x7fze\\xd1S\\x1f\\xbcCE\\xc4#\\xe2v\\xd6+\\x1e\\x15\\x0fc\\xe5\\xbfo|\\x8f\\xd5\\x92~\\xff\\x00\\x8b\\xff\\x9b\\xc4\\xbbXAES\\x14`($1-\\xbb\\x0bC\\x11^Q\\x07d6I\\xbe\\x15vP\\x06K<\\x1a\"$p\\xb0\\x07)\\x80N\\x95J\\x1b\\xc3(\\x15Jp\\xa1\\x80\\xe8\\x91\\xa6\\x1c\\xd0a\\xcf\\xf0\\xb9{K\\x92_\\x14\\xc8\\x87\\xb7\\xe4U\\xf0[\\xf4 \\xf1u<\\xec\\xe6\\x19<L|\\x1d\\xfc\\xe8\\x8d\\xefw\\xec`b\\xa2\\xf1\\xde2\\t\\xd3x\\x01\\xd3\\x14\\t6\\x1bB\\x10\\x19\\x98\\r11:\\x9d\\xd9N\\xc7\\xc71\\x1a\\x8d^zw\\xa1\\xd5\\x19\\x8b\\xccJ\\xa5MO\\xeb\\xba\\xa1\\x1b\\xec\\xd5QL\\xd5uf|\\xeb\\xc5J\\x01\\xec6\\xe0<SR\\xcd\\x04\\\\\\x81\\x0b-\\x00\\x17j\\xa4\\xf7\\xd1\\xb4\\xe0\\xdc\\xb3\\xe6Y\\xd3\\x04f\\xf7\\xa5c\\xd6\\xec\\xf8\\x8cc\\x7f\\xa7\\xabV\\x8d\\xacz\\xa7T\\x1c\\x83\\xff\\x90u]|\\xff\\xe6\\x0e\\xe0al\\xfe\\xa1i\\xeb\\xf0\\xbf$\\xa8\\xd7m\\xef^\\xd4\\x07\\x95\\t\\x99qv\\xb3\\xd9j\\xb1\\x80\\xeb\\xb7\\x91\\x9f\\x108-qa\\xbf\\xc5\\xe2p\\x18\\xc2~\\x87\\x83\\xb1Z\\xeda\\xbf\\x95c\\xd4\\x10\\xcf+\\x99\\xb8\\x1e\\x01wT\\x93\\xa4\\xd7*\\xbd\\xce\\x19dDd\\x91\\x0e@\\xa5s0\\x19;+\\xdc\\x84\\x874Ak\\xcc\\xd8\\xf9_n\\xff\\xe3w\\xfc\\x1f\\x86\\\\\\\\\\xbf\\xf7\\xd9\\xb5\\xa3\\x1f,\\x88d\\xd3\\xae\\x8e\\x95}\\x9a^<{\\x03\\x1f_\\xfb^\\xf8\\xc0\\xd3\\xd6\\xbf\\xee}d\\xc9\\xce\\xacA\\xd4\\xff<\"N\\x9dv\\xa1\\xeb\\xdd\\x089\\xf3\\x8aC\\xc5\\x82.\\xd6a`5j\\xab\\x1a\\xb1(\\xde\\xa1l\\xeb\\xbc*\\xc4\\xc5\\x18\\x8b\\xec\\xb1\\xe5~\\xbb\\x9dR*A\\x075\\x1a%C\\x99\\xca\\xfd\\x94\\xb9+n\\xed\"\\x1b\\xf5\\nY\\x89\\x07J\\xe6\\xa2/\\xc4]\\xd1\\x88\\x95#Q\\xc0\\xc0A\\xc4\\xa8\\x99\\xf1_\\xff\\xf3g\\xf1\"Vb\\x15\\x9e\\x16~\\xbe\\xf8\\xdd}O\\xe2\\xd2\\xc2\\xcdY\\xe2\\'\\xf8\\xdc\\xca\\xc7q\\x18\\x8f\\xc1\\xd3\\xf1\\xdd\\xe2\\x91\\xc1\\xff\\xb8)\\xfe\\xa3\\xe3\\xf3\\xfe<.\\xde\\r\\xb4\\x12\\x04{Z:g\\xcf\\x13\\xe2h\\xd9\\xe1Sj\\x8dVE\\xd1\\xdd\\xee\\xdet\\x9b\\xbb\\x97\\x9c}\\x9e\\xec\\xedm\\xb1\\x03!\\xd2\\xa7\\xce\\xbc!*\\xce`\\xc1\\x99\\x9f\\x96\\x81\\x87\\x9f\\x81\\xedp\\xf1\\xdd\\xaf>\\xba\\x9c~\\x18\\xfc\\x88\\x14O\\xc8\\x98$U0s4\\x0bA\\x85J\\xc92\\xdb\\xa7\\xb3\\xfa\\xae\\xd0\\xa2\\xd7/\\x1a\\xa2\\x11\\x06\\x1d\\x8d2.HqF\\x14\\x89 \\xd4\\xd9)\\x9f\\xcb\\x1d6\\xa5\\x90\\x9f\\r\\x1b942\\x84\\x90Y\\xd0P\\x0ec\\n\\x15r$\\xc6\\x98\\x93qz>\\x82?\\xb0\\xc3\\xcdL+=\\x94=\\x0c\\xdc\\xb7\\x0b\\x1a\\x98\\x96S\\xb0\\xd4\\xba\\xe9\\xec\\x16T\\xd0\\x1d\\xcc\\xe0\\xfcA\\x1e+\\x8b7\\x7f\\xf9G\\xf1\\x03\\xa6\\xd5r\\xa5\\xcf7\\xd0\\xef\\t\\xf0\\xbb\\'\\xc0~\\x15\\xc4c@\\xf0\\x02\\xe6\\xabTa\\xe6\\xba\\x1f\\xa0\\x08{\\xbd\\xfb $\\xbd\\x17\"\\x8c\\xda\\x1e~\\x82r\\x8b\\x8f\\xe0\\x908U\\xd1\\xb4\\xf6\\xa7\\'\\xd7J\\xfe@\\x07\\xe3\\xe5v\\x8d\\xc7\\x00C\\x14\\n\\x82\\xc8\\xae\\xfba`\\xfc+\\xe3E\\x7f\\xcea\\x84P2$>\\x02cN]\\xcb\\x95\\xaf\\xfdqm\\xf7{\\xa0\\xfe\\x12\\xae(\\x14R\\x14\\x0c\\xb8\\x17\\x8dF\\xcbjuz\\xcd:\\x8c\\x17c\\\\\\x0b[)G\\xafP\\xe2&%\\xaeVb%be!\\x82\\x14\\xe1\\xe6\\xb9=\\xf8\\xc2\\x12\\x98\\xf6\\xe0\\x14\\xf2n\\x80.\\xec\\xf8\\xd1\\xb0\\xffs\\xca`:\\xc0\\xcc>0\\xf9\\xe6V\\xd6{c\\xc3\\xa6\\xe5t\\x05\\xb1L\\x88c!\\x16\\x89g\\xc6Hql\\xbe\\xe0\\xe8c\\x8d\\xa5\\xb5Z\\x8dU\\xe3\\xeek\\x82\\x18Vg\\xb2i\\x1c\\x08\\xa2X\\x1a6\\xad\\x82<)\\x12\\xe9\\x11\\x88D\\x97\\xd6\\xe3,\\xdfm\\x1c\\xd4u\\xc6\\x8f{\\x04\"\\x94q\\xd9\\x13\\xb9\\x94\\x82=\\xc8\\x1da\\xa8\\xfc\\x9dK\\xde:I}\\xb8z\\xeb\\xc3\\x8b\\x16\\xaf\\xd8\\xb2\\x96\\x19\\xe3/O\\\\\\xaa\\x1d\\xf8\\xd5\\x8d\\x81\\xf8\\xe8\\xde\\xfb\\x828\\x0e[\\xa9\\x81\\x1d\\xe7?\\xf8\\xd3\\xd9s\\x9f\\x9d\\xfd8\\x8a\\x17\\xc1\\xdb\\xfa\\x9f\\\\\\xf5p\\xb9~\\xd8u\\xca\\x19\\xfd}\\xf9\\x9b\\xa3\\x16?w\\xeb\\x17\\xca\\xb0\\n\\xf2\\xdb\\xf7\\xee\\x1f\\x9fK|E\\xdc\\xbe\\x8e\\xc7{\\xfc\\x8c\\x19\\xdf\\xf6\\xb3f\\xcc\\xbc\\x8d\\x96\\xa2\\x89h#\\xf9\\x15\\r\\xaaF\\xcf\\xa1\\x97\\xd0Jt\\x12]B\\xcd\\x90Z\\x8ei4\\x0fd\\xf3\\x14\\xbe\\x9b\\xbc\\xc1B\\xc7\\xa0\\xddV\\xb4\\x1e-\\x816\\xfb\\xd1&\\xb4\\x13E\\xb0\\x06\\x8dD\\xdbp1\\xe0\\xc1ch9j\\x01\\xebx\\n\\xa2\\xda\\x16\\xe8]\\tQ\\xc8\\xbd\\xb8\\x82`l(\\xf3\\xe2\\t0f\\x13`-2\\xde\\x0f\\xb0;,\\x83\\xfc<\\xa4\\x86\\x1e+\\xf1f\\xfc\\x04\\xd6A\\r\\xc4\\xa6\\xa8/Z\\x87\\xde \\xff\\xd8\\x80G\\xe2g\\xf1\\x8fT1\\xb5\\x89z\\x91N\\xa3\\xab\\xe97\\xe9o\\x19\\x1f\\xb3\\x87\\xf9\\x96\\xb5\\xb3\\xd3\\xd8g\\xd9o\\xb9i\\xdcf\\xee\\xa6b\\x9a\\xe2c\\xc5w\\xca\\xe1\\xca9\\xca=\\xcawU6\\xd5\\x83\\xaa\\x17\\xd5ju\\xa1z\\xb9\\xfao\\xea\\xcb\\x9a\\xbe\\x9a{5\\xbb5\\xd7\\xb4\\xc5\\xda\\xf9\\xda\\xc3\\xda\\xafb\\xf8\\x98%1\\x1f\\xe8\\x94\\xba$\\xdd\\x0e\\xdd\\xc7z\\xa4\\x1f\\xae_\\xa8\\xdf\\xac\\x7f\\xd3\\x10o\\x98o8k\\x10\\x8d)\\xc6a\\xc62c\\xb3q\\xaf\\xf1\\x1b\\xd3`\\x89cw!\\x0fX\\x9c\\x0b,\\x9e\\x02%\\xc8F\\xf7 D\\x1f\\xa3\\x8d\\x90\\'\\xb5\\x89\\xb8\\xae\\x9b\\xafww\\xf3\\x18#=\\xe4\\xa2i\\n\\xec$(\\xa7i\\x14\\x8f\\xe6\\xc8i\\x06\\xda<,\\xa7Y\\xa4C\\x8f\\xcai\\x0e\\xd2O\\xcbi\\x05Z\\x8cZ\\xe5\\xb4\\x12Yp\\xba\\x9cV!\\x1d.\\x90\\xd3j\\xf0\\x87\\xe3\\xe5\\xb4\\x06%P\\xed\\xdd\\xff\\x15\\x92E}*\\xa7cP>\\xad\\x96\\xd3:\\x14O\\x17\\x10\\xea\\x01: t\\x80\\xf6\\xcbi\\x8c\\x12\\xc1\\xf2\\xa2i\\n\\xe9\\x18\\xb7\\x9c\\xa6\\xd1\\x00&WN3\\xd0&(\\xa7Y\\x94\\xc0\\xac\\x90\\xd3\\x1c\\xa4w\\xc9i\\x05\\xba\\xc6\\xbc\"\\xa7\\x95(\\x8d=(\\xa7U(\\x81\\xfdHN\\xab\\xa9o\\xd8\\xef\\xe5\\xb4\\x06\\rV\\xfe/9\\xadE\\xf7\\xa8\\x8cr:\\x06\\xcdV\\xcd\\x95\\xd3:4@\\xf5Qa\\xed\\xac\\xda\\xc6\\xda\\xc5\\xc1*\\xbe*\\xd0\\x18\\xe0+C\\xf5\\x8b\\x1ajg\\xd54\\xf2i\\x95\\xfd\\xf8\\xbc\\x9c\\xdc\\x1c\\xfe\\xaePh\\xd6\\x9c ?*\\xd4P\\x1fj\\x084\\xd6\\x86\\xea\\xb2\\xd4\\xa3no\\x96\\xc7O\\x86!\\x8a\\x02\\x8d\\x19\\xfc\\xe8\\xba\\xca\\xacq\\xb53\\x83\\xd1\\xb6\\xfc\\xf8P]hrpV\\xd3\\x9c@\\xc3\\x88pe\\xb0\\xae*\\xd8\\xc0g\\xf2\\xb75\\xb8-{w\\xb0!L\\xd2yY99Y\\x9e[\\x95\\xb75\\xad\\r\\xf3\\x01\\xbe\\xb1!P\\x15\\x9c\\x1bh\\xb8\\x8f\\x0fU\\xf7&\\x82o\\x08\\xce\\xaa\\r7\\x06\\x1b\\xa0\\xb0\\xb6\\x8e/\\xcd*\\xc9\\xe2\\x8b\\x03\\x8d\\xc1\\xbaF>PW\\xc5O\\xe9\\xee8\\xb1\\xba\\xba\\xb62(\\x15V\\x06\\x1b\\x1a\\x03\\xd08\\xd4X\\x03t\\xcenj\\xa8\\rW\\xd5V\\x92\\xd9\\xc2Y\\xdd\\xe4\\xf7`EIcp~\\x90\\x1f\\x1fhl\\x0c\\x86Cu#\\x03a\\x98\\x0b(\\x1b\\x15j\\n\\xd7\\xd6\\x053\\xf8\\x055\\xb5\\x955\\xfc\\x82@\\x98\\xaf\\n\\x86kg\\xd5A\\xf5\\xccE|\\xef^<\\xd4\\x06`5uu\\xa1\\xf90\\xe8|\\xe8\\xd6\\x10\\xacn\\x08\\x86kj\\xebf\\xf1\\xe1@]\\x98\\x0f\\x07\\x1bj\\xab\\xe5!\\xf8\\xc6\\x9a@#Y\\xfb\\xdc`cCme`\\xce\\x9cE \\xb6\\xb9\\xf5\\xd0u&\\xc8iAmc\\r\\x99\\xbf\\xa1\\x16(\\x9d\\x10\\\\\\xb0?\\xab\\x8b\\x1a`P50\\x96\\xaf\\x9d[\\xdf\\x10\\x9a/\\x11\\x9a\\x19\\xael\\x08\\x06\\xeb`\\xbe@U`f\\xed\\x9c\\xdaF\\x18\\xab&\\xd0\\x10\\xa8\\x04\\xb6\\x01\\xefj+\\xc3\\x12[\\x80\\x1b|}\\xa0.\\xd3\\xdb\\xd4\\x10\\xaa\\x0f\\x02\\xb1S\\xef\\x1aw\\xab!\\x90\\x17ei84g~0,\\xb5\\xae\\x0b\\x06\\xab\\xc2D$U\\xb0\\xd49\\xd0\\t&\\x9e\\x13\\n\\xddG\\x96T\\x1dj\\x002\\xab\\x1ak2{\\xd0]\\x1d\\xaak\\x84\\xae!>PU\\x05k\\x07\\x86\\x85*\\x9b\\xe6\\x12a\\x01\\xaf\\x1b\\xbb\\x88\\x0bT6\\x84\\xa0\\xae~N\\xa0\\x11F\\x99\\x1b\\xce\\xaail\\xac\\x1f\\x9a\\x9d\\xbd`\\xc1\\x82\\xac\\x80,\\x9fJ\\x10O\\x16\\x8c\\x9c\\xfd[u\\x8d\\x8b\\xea\\x83\\xb2H\\x1a\\xc8(s\\xe7\\x8c\\x03\\x1d\\xa8#\\xf2k\\x92\\x84L\\x16Q2z\\x1c?\\xb1\\x1e\\xf8\\xe3\\x03\\xe2x\\xb9A\\x06\\xdf\\xa5\\x9e\\xb9Y\\xb9\\xf2\\x14\\xc0\\xc6\\xda\\xfa\\xc6pV\\xb8vNV\\xa8aV\\xf6D\\xdf8T\\x88j\\xc1\\xc5\\xd7\\xa2F\\xb8\\x16\\x83\\xb3\\xaaB<\\\\\\x01\\xc8\\x07 U\\x89B\\xa8\\x1e-B\\rR\\xab\\x1a(\\xe5Q\\x1a\\x94\\xf6\\x83g\\x1e\\xcaA\\xb9p\\xf1\\xe0&C\\xf0\\x9d\\x05\\xee-\\x08\\xb9Q\\x90n\\x80^\\xe4\\x1e\\x90\\xc6\\r\\xa1:\\x94\\x05\\xd0l\\xd4\\xffq\\xb4<HM\\x96\\xa9(\\x92zg@j4\\xf4\\xaf\\x84\\x11\\xc6A\\xbf\\x99P\\xdbs\\\\\\x1e\\x8d\\x97\\x9e!\\xa9\\xdf,\\xd4\\x04T\\x04\\xa0\\xc5\\x08\\x14\\x86>A\\xa8\\xa9\\x92z\\xf0(\\x13\\xae\\xdf\\x1e\\xe1\\xb7k\\xef\\x96j\\xc2\\xdd\\xe5y@Q\\x0e|\\xb3`\\x93\\xf8o=\\x7f{\\xd4Z\\x18\\x89\\x97x\\xdc(\\xd5\\x10*\\xe7J\\x94\\xdf\\x07e!\\xd8\\x92\\x7f\\x8b\\x13<\\xb4\\x0bJr\\x0bCMP\\xcaUI\\xa3\\x92\\xb1K\\xa1E\\x89\\xd4\\xaaX\\xeaI\\xb8\\xd0(\\xcdV\\'\\xb5\\x9a\\xf2_f\\x9c\\x083VC\\xffJI\\x86]-+\\xa5\\xb1\\x89.DG\\x0eA\\xbaF\\xe6\\xe7l\\xe0u\\x83DA\\x95\\xd4\\xafkma\\x98\\xf9\\x97\\xdc\\xff\\xefZQ\"Q7_\\x9as\\xbcTN\\xf2a\\xa9n$\\xe4\\xc3\\xf2\\xba\\xa2<#c4I\\x12\\xa8\\x83r\\xc2\\x8f\\x05@\\r\\x99\\xbbFJ\\x07$\\x9eVI#\\x10\\r\\xab\\x93{\\xcf\\x04\\x9d\\xe3\\x7fs.^\\xee\\x1b\\x90eS\\'In\\xbeL\\xe9|y6\\xc2\\xe5j\\xe9\\x1e\\x96\\xe6\\xad\\x839xH\\x07\\xa4U\\xf3\\x12\\xb5\\x84#\\xd5\\xb7Q\\xc1K\\\\\\x0bH2\\x88\\xca}.\\xd46Jm+\\xa1|\\x0e|\\x17\\xc9\\xd66\\x17x\\x14\\x9du\\xa6lO\\x0b$\\xeb\\xac\\xe9^?\\xe9\\x15\\xe5\\xe9\\x04x.p%I\\x92\\xee\\xcd\\x9b\\xa8\\x06U\\xcb\\x1aKf%\\xe36Hk\\xba\\xc5\\xd1LIJd=A\\x89J\\x92\\nH\\xd6?\\x13z\\xcc\\x91\\xe6\\x8d\\xd2U#\\xe9I@\\x92rP\\x96z\\xa3D}\\x17\\xd7\\xaa\\xe4U\\x92\\xb9\\xeb\\xa5\\x92L\\xe4\\x95\\xa8%6\\x1f\\x949;\\x15|\\xc5\\xb8\\xff:b\\x94{=\\xb5\\x94Hf\\x8eDo\\xb8\\xc7\\xd8u\\x12\\xb5URY\\xa8\\x9b\\xd3\\xa4\\xd5\\x1cy\\xa6\\xe8\\x8a\\xe7H>\\xe9\\xben)UK\\x9a\\x17\\xe5f\\x954Z\\xe6\\xaf\\xf0\\xbbZ\\xe2M\\xa3<kH\\xa2\\xa8\\n\\xbeQ\\xb9G5,\\x04}\\x9b$)F-+\\xaa\\xd7\\x8d\\xbf\\xe0\\\\@\\xe2oH\\xeeW/\\xf9\\xa6F\\x99\\x96\\xb9\\x92\\xa5\\xd4HzX\\x8f\\x86\\x02\\xbc\\xcc\\x06\\xea\\xc87K\\xd2\\xc6\\x9e\\xf6S)[O\\x96Ls\\xf6\\xffu?BW\\xbd\\xc4\\xc1\\x9eV\\xd2\\xd0M\\xcb\\\\\\xa0q\\x9c\\xec\\x07\\xea\\xba\\xed\\xaf\\xa9\\x87%wI\\xa2\\x04\\xbc\\xd18\\xc9s\\xd4\\xcb\\xfa\\xe3\\x939\\xc7\\xdf6\\x02\\xb1\\x9d\\xdb\\xbdg.\\xcc\\x97{\\xdb*\\xa2\\xdaX\\x0b\\xf9F\\x89\\x9e\\xb0\\xc4\\xcb,i\\r\\xb3\\xa0~\"\\xcc0.\\x8a\\xa5\\xa3\\x91\\x8f\\x1b\\\\\\xd9\\xed\\x91\\r|F\\xa4\\xe0\\x12\\x88U\\xc7\\xa3R<Y~\\xde\\x8d\\xa7 \\x0br\\xe2Rx:\\xe19\\x11y .)\\xc5\\xe3\\xe0I\\xea\\xefDw\\xe2a\\xf0\\x1c\\x06\\xed\\x87\\xc2\\xf3\\x0e\\xc8\\x93g>\\x1ep\\xa8\\xd9\\x89Fd\\xe1\\x01\\x08\\xe2:DIW\\x16\\xd4xP\\x11\\xce\\x03W\\xdb\\x0cw\\x0cW\\xb44\\x17\\xfa\\xe5@\\xa9\\x1e\\xee\\x18\\xaehi6\\x94\\xc2\\x13\\xf1p\\xaf\\x80\\x0bb:\\xb8\\xf3RJ\\x85\\xb3\\x0eaT\\xda\\x863\\x0f\\xddI\\x1e\\x19/\\xa1Ng\\xfd\\x08#.\\x84\\x01\\xc85\\x1c\\x06\\x18\\x05\\x03\\x8c\\x84\\xe7H9_\\x00\\xf9\\xe1\\xc2\\xacR\\xd4\\x81\\xaf\\x17\\xa79\\xbf\\xf3\\xa59\\xff\\xed\\xeb\\xef\\xbc\\xea\\xcbwn\\xbc\\xbc\\xeb\\xf2\\xc1\\xcbt\\xe8\\xca\\xc6+\\xd4\\xa9+x\\xf7\\x15\\xec\\xbcR~%t\\x85F\\x17\\x85\\x8b\\x94\\xfa\\x82\\xaf\\xd3\\xf9\\x8f\\xafR\\x9c\\xdf|u\\xa7\\xf3\\xeb\\xaf\\x12\\x9d\\xfa\\xafp\\x9f/\\xbf\\xf09\\xf5_`\\xe1\\x0b\\x9f\\xcd\\xf9\\xf7\\xf3>\\xe7\\xa9\\xf3\\x7f9\\x7f\\xee<-\\x9c\\xf7\\x0c\\xf4\\x9d\\xf7\\xd9\\x9d\\xc7\\xb1\\x05\\r\\xc7&\\x98\\xd7,h\\xef\\xa4K\\xcf\\xdd\\xf9Y\\xe9\\xe7w~Z\\x8aF\\x98\\xb0\\r(\"\\x97\\x15\\x96w\\x10\\xee\\x18\\x96eE\\xc5pQ\\x88\\xbcL\\xc4\\xd8(\\x94\\xd0\\x9d\\xce\\xcf\\xf0\\xa7\\xa5\\xfc\\xa7\\xc5\\x9f6\\x7f\\x1a\\xf9\\x94\\xd1\\x7f\\x8a\\xdf\\xb5z\\x9c\\xe5\\xaf\\x85^[\\xfa\\x1a}\\xea4~\\xb58\\xc5Y\\x7f\\x12\\xf3\\'sN\\xb6\\x9f\\xa4\\xebO6\\x9f\\xa4\\xf4\\xc7\\x9d\\xc7\\xa9\\xec\\xe3\\x05\\xc7C\\xc7\\x0f\\x1e?w\\x9c=\\xf6B\\x8a\\x93o\\xcbi+n\\xaboknc\\xc9\\xa9^B\\x9b\\xb9\\x9f\\xcfp\\x14\\xf3G\\x8b\\x8f6\\x1f\\x8d\\x1ce\\x9a\\x8fD\\x8eP\\xfa\\x97\\n^\\xba\\xf2\\x12\\xdd\\x86c\\x84\\xf4\\xfdE\\xce\\xe6\\xc8\\xa6\\x08\\x15\\x89\\xb4G\\xde\\x8d\\xd0\\xd9\\x07\\x0b\\x0eR\\xbb_\\x88\\xbc@\\xb5\\xbf\\xf0\\xee\\x0bT\\xf6\\x81\\x82\\x03\\xd4\\xae\\xe7q\\xfb\\xfew\\xf7S#b\\xb0\\x1e\\xe5A0Z\\n\\xc2\\xd1\\x81\\xb0u\\xb0\\x12\\x1d\\xa8\\x9a\\x1e\\x1b\\x04+.\\xdeQ\\xb1\\xa3~\\x07\\xfd\\xf8c)\\xce\\xdf\\xf9R\\x9c9\\xdb\\x84m\\x14\\xd0\\xf0\\xd2c\\xb6\\x04\\x1f\\xa1E\\xf5\\x98\\xce\\xe8{r\\xeb0\\xe7\\xee\\x11*\\xecE\\xc3@\\xc7\\xee\\x92\\x9f>\\xec\\x15\\xd2\\xaa\\x9c\\x8f::\\x9d\\xfa\\xad\\x07\\xb7\\x9e\\xdaJ\\x0b[\\xfb\\xe4\\xfa\\x84\\xad6\\x07\\xdc\\xb4z\\x9f~K\\xf6\\x96\\x82-K\\xb7\\\\\\xd9\\xc2\\xea_\\xc6Z\\x14\\xc2Z\\x81\\xa76\\xafOq>R\\xd2\\xe9<\\xb7\\t\\xe7l\\xc2\\xceM\\xd9\\x9b\\xa8\\xd0\\xa6\\xa5\\x9b(\\xb4\\xd1\\xb0\\x91\\xdfHK?\\xc9\\xdehO\\xf0\\xf1\\x1br6P\\x13\\xd7\\x97\\xaf\\x0f\\xad\\xa7s\\xd6a\\xfd:\\xe7\\xba\\xecu\\xb4\\xb0\\xce`\\xf6\\x19NA\\x98\\xce\\xc3\\x95\\x03\\x17\\xdd\\xd9\\x8e5\\x87by\\xdf1\\x92\\x10\\x8a\\r\\x16\\xdf\\xda\\xe5)\\xce5c\\x869W\\xaf\\xba\\xd3\\xb9\\xea\\xa1a\\xce\\x87\\xc7t:w\\xad\\xc4\\x86\\x87\\xf8\\x87r\\x1e\\xa2sV\\xe0\\xa5\\xcb\\xb1\\xb0\\\\\\xa5\\xf5\\x85A>!P\\xae:\\xb8\\xe2\\xb1\\xbd4\\xcec/Ux\\xe8R\\x0e$[\\x01u\\xe5p\\x1d\\xeb<\\x8f\\x15\\x87\\x9c)>)!8\\xcd\\t\\xbe{\\xa7\\x159\\xef\\xf1\\xe5:\\xa7\\xc3s\\x1a<\\xcdy\\xa6R\\x16\\xd3\\xa5L\\x1e\\r\\x9a\\xae<\\xe2\\x18\\xe6\\xd4\\xd3\\xf8\\x18\\x8e\\xc3\\xf6C\\xf9N\\xa1\\r\\x1e\\xb1i\\xbe6\\xac\\x16\\x92a\\xc0\\xc9\\xc5\\x0e\\xe7\\x95I\\x9d\\x93(aR\\xfe`\\x9f0)9\\xcd\\xf7\\x97b|n\\x1c\\x1e\\xe7\\xeb\\xe3\\x1c\\xeb+r\\x16\\xb7a\\x870\\x13\\x8f\\x01y\\x8c\\x06\\xc2\\x8a\\xe0\\xba\\x0b\\xae\\x83>|\\xcew\\xc5G5\\xfbp,\\xb6\\x96\\xda\\xf2\\xac\\xa5F\\xac/5\\xe4\\xe9K)\\xb04\\x0c\\xf6\\x95\\xe0\\xa8r:\\xf5\\x05\\xfar\\xfdR=\\xa3\\xd7g\\xeb\\'\\xeaC\\xfa\\x8d\\xfas\\xfaN\\xbd\\xa2\\x00\\xca\\xae\\xe8\\xe9\\x10\\x02\\'\\x81w\\xdb0\\x8b\\xdb\\xf0\\xa6\\xd6)%\\xe9\\xe9c\\xdb\\x14\\x9d\\x93\\xc7FT\\xc5\\xd3#xu$\\xb9\\x84\\xdc\\x85I\\xd3\"\\xdc\\xea\\x08*\\x9d6\\xbd\\xac\\x15\\xe3\\r\\xfe\\x95\\xeb\\xd7\\xa3\\x91}\\xc6F\\xf2J\\xca\"\\x15}\\xfcc#U\\x90\\x10H\\xa2\\x19\\x12\\x86>\\xad64\\xd2\\x1fn\\x0c76\\xa5G?XN\\x86Qzzc#<\\xa5\\x8cT\\x03\\x17J\\xef\\xfa`\\x92\\xc1\\xe9\\xe1\\xc6\\xc6\\xb0\\\\\\x02= \\xd7\\x98\\xde$\\xdd\\xd3\\xc3\\xe1\\xae\\x8e\\xa4-$\\x10L\\x03\\xc3\\x87\\xc1\\x9bB\\xa7\\xc6\\xf40\\x86}\\x08\\x1e\\xd0\\x8bL\\n\\xbdq#\\x92\\xba\\x85\\xe1\\xd65%\\x8cto8\\x1d\\xdd\\x1b\\x96\\xb2\\xf7B\\x17\\x18!\\x1c\\xa5\\xa5\\x9b\\xb6{\\xc3QJ\\xc3]3J\\x1f;B\\xff\\x1b\\x01\\x8f\\x8f\\xfb\\nendstream\\nendobj\\n\\n9 0 obj\\n11507\\nendobj\\n\\n10 0 obj\\n<</Type/FontDescriptor/FontName/BAAAAA+LiberationMono\\n/Flags 5\\n/FontBBox[-481 -300 741 980]/ItalicAngle 0\\n/Ascent 832\\n/Descent -300\\n/CapHeight 980\\n/StemV 80\\n/FontFile2 8 0 R\\n>>\\nendobj\\n\\n11 0 obj\\n<</Length 526/Filter/FlateDecode>>\\nstream\\nx\\x9c]\\x94\\xcd\\x8e\\x9b@\\x10\\x84\\xef<\\x05\\xc7\\xcda\\x053=\\xc0Z\\xb2\\x90\\xbc\\xfe\\x91|\\xc8\\x8f\\xe2\\xcd\\x03`\\x18;H1\\xa01>\\xf8\\xedCuM\\x12)\\x07\\xa3\\x02\\xba\\xab\\xbf)\\xcf\\x90m\\x8f\\xbb\\xe3\\xd0\\xcf\\xd9\\xb70\\xb6\\'?\\xa7\\x97~\\xe8\\x82\\xbf\\x8f\\x8f\\xd0\\xfa\\xf4\\xec\\xaf\\xfd\\x90\\x18\\x9bv};\\xc7;\\xbd\\xb6\\xb7fJ\\xb2\\xa5\\xf7\\xf4\\xbc\\xcf\\xfev\\x1c.\\xe3z\\x9dd\\xdf\\x97w\\xf79<\\xd3\\x97M7\\x9e\\xfd\\xa7$\\xfb\\x1a:\\x1f\\xfa\\xe1\\x9a\\xbe\\xfc\\xd8\\x9e\\x96\\xfb\\xd3c\\x9a~\\xf9\\x9b\\x1f\\xe64O\\xea:\\xed\\xfce\\xf1\\xf9\\xdcL_\\x9a\\x9b\\xcf\\xb4\\xeb\\xf5\\xd8-\\xaf\\xfb\\xf9\\xf9\\xba\\xb4\\xfc+\\xf8xN>\\xb5zo\\x88\\xd2\\x8e\\x9d\\xbfOM\\xebC3\\\\}\\xb2\\xce\\xf3:]\\x1f\\x0eu\\xe2\\x87\\xee\\xbfw\\xe5\\x8a-\\xe7K\\xfb\\xb3\\tK\\xa9YJ\\xf3\\xbc\\x90z\\xd1Vu\\xb9\\x82\\x16\\xd5\\x95\\x85v\\xaam\\x0e]\\xa8v\\x07\\xe8\\x925\\xda[\\xb1W\\xeb\\xdf\\xa8\\x0b\\xe8\\x15k\\x1c\\xf4\\x86\\xbd[\\xe8w\\xd6\\x18\\xe8-\\xf5\\x1ezG\\xad\\x9e{\\xce\\xd5\\xfa\\x03{\\xf1\\xdc\\xe4\\xd4\\x98e\\xc8\\xef0\\xcb\\x90\\xdf\\xbeA\\x93_0\\xd7\\x90\\xdfa\\x96!\\x7f\\xa5\\xf5\\xe4/+h\\xf2\\x8b\\xd6\\x90_\\x90\\x83!\\xbf`\\xed\\x86\\xfc\\xa2\\xfe\\xe0\\xb7\\xb9Q\\x1e\\xf2\\x8b\\xf2\\x90_\\xd4\\x93\\xfcn\\x03M\\xfe\\x12k\\xb1\\xe4\\xaf\\xe0o\\xc9/%t\\xe4\\xd7\\xe71\\x7f\\xf8X\\xf2\\x97\\x98k\\xc9_\"\\x7f\\x1b\\xf9\\xb1FK~\\x8b\\x0c-\\xf9\\x9d\\xd6\\x93\\xbf|\\x87&\\x7f\\xa9\\xb3\\x98\\x7f\\x85u\\xd9\\x98\\xff\\x0e\\x9a\\xfc\\x85z\\x92\\xbfR\\x1f\\xf2\\x0b|$\\xe6\\x0f\\x1f\\x89\\xfb\\x07\\x9cB\\xfe\\x029H\\xe4\\xd7\\x9a\\xb8\\x7f\\xe0/\\xe4\\x17\\xe4&\\x91\\x1f\\xf9H\\xe4\\xd7^\\xf2\\x17`\\x13\\xf2;\\xf0\\x08\\xf9\\xad\\xce\"\\xbfCVB~\\xa7\\xfe1\\x7f\\xfc\\xbf\\x12\\xf3\\xd7z\\xf2\\x17\\xe0q\\xe4\\x17\\xccu\\xe4\\xdf\\xc3\\xc7E~\\xac\\xd1\\x91\\xbf\\x80\\xa7\\x8b\\xfb\\x07\\xd9\\xba\\xb8\\x7f\\x8c\\x1e\\xaex\\x8ap\\xcc\\xf0\\x1d\\xf8s|\\xd3\\xf6\\x11\\xc2rt\\xf5c\\xa1g\\x16\\xa7\\xb5\\x1f\\xfc\\xdf\\xef\\xc94N\\xe8\\xd2\\xdfo\\x9a\\xce\\x0c\\xdf\\nendstream\\nendobj\\n\\n12 0 obj\\n<</Type/Font/Subtype/TrueType/BaseFont/BAAAAA+LiberationMono\\n/FirstChar 0\\n/LastChar 69\\n/Widths[600 600 600 600 600 600 600 600 600 600 600 600 600 600 600 600\\n600 600 600 600 600 600 600 600 600 600 600 600 600 600 600 600\\n600 600 600 600 600 600 600 600 600 600 600 600 600 600 600 600\\n600 600 600 600 600 600 600 600 600 600 600 600 600 600 600 600\\n600 600 600 600 600 600 ]\\n/FontDescriptor 10 0 R\\n/ToUnicode 11 0 R\\n>>\\nendobj\\n\\n13 0 obj\\n<</F1 12 0 R\\n>>\\nendobj\\n\\n14 0 obj\\n<</Font 13 0 R\\n/ProcSet[/PDF/Text]\\n>>\\nendobj\\n\\n1 0 obj\\n<</Type/Page/Parent 7 0 R/Resources 14 0 R/MediaBox[0 0 612 792]/Group<</S/Transparency/CS/DeviceRGB/I true>>/Contents 2 0 R>>\\nendobj\\n\\n4 0 obj\\n<</Type/Page/Parent 7 0 R/Resources 14 0 R/MediaBox[0 0 612 792]/Group<</S/Transparency/CS/DeviceRGB/I true>>/Contents 5 0 R>>\\nendobj\\n\\n7 0 obj\\n<</Type/Pages\\n/Resources 14 0 R\\n/MediaBox[ 0 0 612 792 ]\\n/Kids[ 1 0 R 4 0 R ]\\n/Count 2>>\\nendobj\\n\\n15 0 obj\\n<</Type/Catalog/Pages 7 0 R\\n/OpenAction[1 0 R /XYZ null null 0]\\n/Lang(en-US)\\n>>\\nendobj\\n\\n16 0 obj\\n<</Creator<FEFF005700720069007400650072>\\n/Producer<FEFF004C0069006200720065004F0066006600690063006500200036002E0034>\\n/CreationDate(D:20200727114453+02\\'00\\')>>\\nendobj\\n\\nxref\\n0 17\\n0000000000 65535 f \\n0000016919 00000 n \\n0000000019 00000 n \\n0000003015 00000 n \\n0000017062 00000 n \\n0000003036 00000 n \\n0000003969 00000 n \\n0000017205 00000 n \\n0000003989 00000 n \\n0000015581 00000 n \\n0000015603 00000 n \\n0000015797 00000 n \\n0000016393 00000 n \\n0000016831 00000 n \\n0000016864 00000 n \\n0000017310 00000 n \\n0000017407 00000 n \\ntrailer\\n<</Size 17/Root 15 0 R\\n/Info 16 0 R\\n/ID [ <5A397BC77E795DD41119C0D7F6C4AC05>\\n<5A397BC77E795DD41119C0D7F6C4AC05> ]\\n/DocChecksum /7A6583F1A3DE0431B326737DA996B080\\n>>\\nstartxref\\n17582\\n%%EOF\\n',\n",
              " 'article.txt': b'Sir Osbert Lancaster, CBE (4 August 1908 \\xe2\\x80\\x93 27 July 1986) was an English cartoonist, architectural historian, stage designer and author. He was known for his cartoons in the British press, and for his lifelong work to inform the general public about good buildings and architectural heritage.\\r\\n\\r\\nThe only child of a prosperous family, Lancaster was educated at Charterhouse School and Lincoln College, Oxford; at both he was an undistinguished scholar. From an early age he was determined to be a professional artist and designer, and studied at leading art colleges in Oxford and London. While working as a contributor to The Architectural Review in the mid-1930s, Lancaster published the first of a series of books on architecture, aiming to simultaneously amuse the general reader and demystify the subject. Several of the terms he coined as labels for architectural styles have gained common usage, including \"Pont Street Dutch\" and \"Stockbrokers\\' Tudor\", and his books have continued to be regarded as important works of reference on the subject.\\r\\n\\r\\nIn 1938 Lancaster was invited to contribute topical cartoons to The Daily Express. He introduced the single column-width cartoon popular in the French press but not until then seen in British papers. Between 1939 and his retirement in 1981 he drew about 10,000 of these \"pocket cartoons\", which made him a nationally known figure. He developed a cast of regular characters, led by his best-known creation, Maudie Littlehampton, through whom he expressed his views on the fashions, fads and political events of the day.\\r\\n\\r\\nFrom his youth, Lancaster wanted to design for the theatre, and in 1951 he was commissioned to create costumes and scenery for a new ballet, Pineapple Poll. Between then and the early 1970s he designed new productions for the Royal Ballet, Glyndebourne, D\\'Oyly Carte, the Old Vic and the West End. His productivity declined in his later years, when his health began to fail. He died at his London home in Chelsea, aged 77. His diverse career, honoured by a knighthood in 1975, was celebrated by an exhibition at the Wallace Collection marking the centenary of his birth and titled Cartoons and Coronets: The Genius of Osbert Lancaster.\\r\\n\\r\\nLancaster was born in London in 1908, the only child of Robert Lancaster (1880\\xe2\\x80\\x931917) and his wife, Clare Bracebridge, n\\xc3\\xa9e Manger.[1] His paternal grandfather, Sir William Lancaster, rose from modest beginnings to become the chief executive of the Prudential Assurance Company, Lord of the manor of East Winch, Norfolk, and a philanthropist in the field of education. Osbert\\'s mother was an artist, known for her paintings of flowers, who had exhibited regularly at the Royal Academy; his father was a publisher, who volunteered for the army on the outbreak of the First World War, was commissioned as a second lieutenant in the Norfolk Regiment, and was killed at the Battle of Arras in April 1917.\\r\\n\\r\\nElgin Crescent, Notting Hill, where Lancaster was born and raised, was an upper-middle class area. The family maintained a staff of servants, including a cook and a nurse.Such was the mixed nature of London in the early years of the 20th century that a short distance away were the deprived and dangerous Notting Dale and the Portobello Road, where, as Lancaster recalled in his 1953 memoirs, it was said to be impossible for a well-dressed man to walk and emerge intact. From an early age Lancaster was aware of the variety of classes, nationalities, and social attitudes around him.\\r\\n\\r\\nIn 1918 Lancaster was sent to St Ronan\\'s preparatory school, Worthing. The r\\xc3\\xa9gime at the school leaned heavily towards sport, in which he was neither interested nor proficient. The headmaster, Stanley Harris, was a celebrated amateur footballer and occasional first class cricketer, but he was reasonably tolerant of Lancaster\\'s disdain for games, and on the whole Lancaster enjoyed his time at the school. His education there was, he later commented, of more importance to him than anything he learned later in his school and university career.He left St Ronan\\'s in 1921, aged thirteen, and went to Charterhouse, where his father and uncles had all been sent. There he was shocked by the bullying and bad language, but in addition to its sporty, philistine \"bloods\", the school had an intellectual and aesthetic tradition.Lancaster\\'s biographer Richard Boston writes, \"The hearty Baden-Powell, for example, was offset by Ralph Vaughan Williams and Robert Graves, while talented Carthusian artists had included Thackeray, Lech, Lovat Fraser and Max Beerbohm.\" The art master, P. J. (\"Purple\") Johnson, encouraged Lancaster, insisting that a sound technique was a prerequisite for effective self-expression in drawing or painting; in that respect the boy\\'s time at the school was valuable, though otherwise the headmaster found him \"irretrievably gauche ... a sad disappointment\". Lancaster shared Beerbohm\\'s view that being an old boy of the school was more pleasurable than being a pupil there.'}"
            ]
          },
          "metadata": {
            "tags": []
          },
          "execution_count": 8
        }
      ]
    },
    {
      "cell_type": "code",
      "metadata": {
        "id": "GBFOuwUviR7v",
        "colab_type": "code",
        "colab": {}
      },
      "source": [
        "MAX_LEN = 1024\n",
        "SUMM_LEN = 150\n",
        "NUM_BEAMS = 4"
      ],
      "execution_count": null,
      "outputs": []
    },
    {
      "cell_type": "code",
      "metadata": {
        "id": "7KjlRLZTddPa",
        "colab_type": "code",
        "colab": {}
      },
      "source": [
        "def summarize(art):\n",
        "  cnn_model.eval()\n",
        "  with torch.no_grad():\n",
        "    source = tokenizer.batch_encode_plus([art], max_length=MAX_LEN, pad_to_max_length=True,return_tensors='pt', truncation='only_first')\n",
        "    source_ids = source['input_ids']\n",
        "    source_mask = source['attention_mask']\n",
        "    ids = source_ids.to(device, dtype = torch.long)\n",
        "    mask = source_mask.to(device, dtype = torch.long)\n",
        "\n",
        "    cnn_generated_ids = cnn_model.generate(\n",
        "        input_ids = ids,\n",
        "        attention_mask = mask, \n",
        "        max_length=SUMM_LEN,\n",
        "        num_beams=NUM_BEAMS,\n",
        "        repetition_penalty=2.5,\n",
        "        early_stopping=True\n",
        "        )\n",
        "    \n",
        "    cnn_pred = [tokenizer.decode(g, skip_special_tokens=True, clean_up_tokenization_spaces=True) for g in cnn_generated_ids]\n",
        "    return cnn_pred\n"
      ],
      "execution_count": null,
      "outputs": []
    },
    {
      "cell_type": "code",
      "metadata": {
        "id": "URiS4gILvRLf",
        "colab_type": "code",
        "colab": {}
      },
      "source": [
        "def chunkstring(string, length):\n",
        "  string = \" \".join(string.splitlines())\n",
        "  chunks = []\n",
        "  end_index = length-1\n",
        "  start_index = 0\n",
        "  while (True):\n",
        "    if (end_index >= len(string)):\n",
        "      chunks.append(string[start_index:])\n",
        "      break\n",
        "    while (string[end_index] != '.' and end_index > start_index):\n",
        "      end_index = end_index - 1\n",
        "    if (end_index == start_index):\n",
        "      chunks.append(string[start_index : start_index+length+1])\n",
        "      start_index = start_index+length\n",
        "    elif (string[end_index] == '.'):\n",
        "      chunks.append(string[start_index:end_index+1])\n",
        "      start_index = end_index+1\n",
        "    end_index = start_index + length - 1\n",
        "  return chunks"
      ],
      "execution_count": null,
      "outputs": []
    },
    {
      "cell_type": "code",
      "metadata": {
        "id": "tD5iGqYvm261",
        "colab_type": "code",
        "colab": {
          "base_uri": "https://localhost:8080/",
          "height": 35
        },
        "outputId": "417018e0-aef4-4eff-d712-c18a9e361b6b"
      },
      "source": [
        "!ls"
      ],
      "execution_count": null,
      "outputs": [
        {
          "output_type": "stream",
          "text": [
            "article.pdf  article.txt  sample_data\n"
          ],
          "name": "stdout"
        }
      ]
    },
    {
      "cell_type": "code",
      "metadata": {
        "id": "Jps-4Tg6UKaF",
        "colab_type": "code",
        "colab": {}
      },
      "source": [
        "doc_path = \"article.pdf\""
      ],
      "execution_count": null,
      "outputs": []
    },
    {
      "cell_type": "code",
      "metadata": {
        "id": "vIfj79hhh4c9",
        "colab_type": "code",
        "colab": {}
      },
      "source": [
        "def load_text(doc_path):\n",
        "  text = \"\"\n",
        "  doc_obj = open(doc_path, \"r\")\n",
        "  ext = os.path.splitext(doc_path)[-1].lower()\n",
        "  if (ext == \".pdf\"):\n",
        "    parsed = parser.from_file(doc_path)\n",
        "    text = parsed[\"content\"]\n",
        "  elif (ext == \".txt\"):\n",
        "    text = doc_obj.read()\n",
        "  return text"
      ],
      "execution_count": null,
      "outputs": []
    },
    {
      "cell_type": "code",
      "metadata": {
        "id": "xreEPVU9vNJv",
        "colab_type": "code",
        "colab": {}
      },
      "source": [
        "def paragraphSummary(text):\n",
        "  pSumm = []\n",
        "  article = list(filter(lambda x : x != '', text.split('\\n\\n')))\n",
        "  for art in article:\n",
        "    summary = summarize(art)\n",
        "    pSumm.append(summary[0])\n",
        "  return pSumm\n",
        "\n",
        "def fullSummary(text):\n",
        "  final_summary = \"\"\n",
        "  for chunk in chunkstring(text, 4000):\n",
        "    final_summary = final_summary + summarize(chunk)[0]\n",
        "  return final_summary"
      ],
      "execution_count": null,
      "outputs": []
    },
    {
      "cell_type": "code",
      "metadata": {
        "id": "kAQZlIpeeJAp",
        "colab_type": "code",
        "colab": {
          "base_uri": "https://localhost:8080/",
          "height": 221
        },
        "outputId": "e4f90c99-8aab-48cb-cafe-4fd52d343c56"
      },
      "source": [
        "text = load_text(doc_path)\n",
        "text = text.strip()\n",
        "# article = list(filter(lambda x : x != '', text.split('\\n\\n')))\n",
        "print(\"Paragraph wise summary:\")\n",
        "pSumm = paragraphSummary(text)\n",
        "print(pSumm)\n",
        "# for art in article:\n",
        "#   summary = summarize(art)\n",
        "#   print(summary[0],\"\\n\")\n",
        "print(\"\\n\\nOverall summmary:\")\n",
        "full_summary = fullSummary(text)\n",
        "print(full_summary)\n",
        "# final_summary = \"\"\n",
        "# for chunk in chunkstring(text, 1000):\n",
        "#   final_summary = final_summary + summarize(chunk)[0]\n",
        "# print(final_summary)"
      ],
      "execution_count": null,
      "outputs": [
        {
          "output_type": "stream",
          "text": [
            "Paragraph wise summary:\n",
            "[' Osbert Lancaster, CBE (4 August 1908 - 27 July 1986) was known for his cartoons in the British press.\\nHe also had a lifelong work to inform the general public about good buildings and architectural heritage.', ' Lancaster published a series of books on architecture in the mid-1930s.\\nLancaster was an undistinguished scholar at Charterhouse \\nHis books have continued to be regarded as important works of reference on the subject.', ' Lancaster drew 10,000 \"pocket cartoons\" between 1939 and 1981.\\nBetween 1939 and his retirement in 1981 he drew 10,000 of these \"pocket cartoons\"', ' Lancaster designed costumes and scenery for a new ballet.\\nBetween then and the early 1970s he designed new productions for the Royal Ballet.\\nIn his later years, his productivity declined when his health began to fail.', ' Lancaster was born in London in 1908.\\nHis paternal grandfather, Sir William Lancaster, rose from modest beginnings to become the chief executive of the Prudential Assurance Company.\\nHis mother was an artist who had exhibited regularly at the Royal Academy.', ' Lancaster was an upper-middle class area.\\nLancaster recalled in his 1953 memoirs that it was impossible for a well-dressed man to emerge intact.\\nLancaster recalls the mixed nature of London in the early years of the 20th century.', \" Lancaster was sent to St Ronan's preparatory school in 1921.\\nHe left the school in 1921, aged \\nLancaster enjoyed his time at the school.\", \" lancaster's biographer Richard Boston says the school had an intellectual and aesthetic \\nLancaster shared Beerbohm's view that being an old boy was more important than being a pupil there.\\nLancaster shared Beerbohm's view that being an old boy was more pleasurable than being a pupil there.\"]\n",
            "\n",
            "\n",
            "Overall summmary:\n",
            " Osbert Lancaster, CBE (4 August 1908 - 27 July 1986) died at his London home in 1975.\n",
            "Lancaster was known for his cartoons  in the British press.\n",
            "His books have continued to be regarded as important works of reference on the subject. he left St Ronan's in 1921, aged 13.\n",
            "His father and uncles had all been sent to Charterhouse.\n",
            "Lancaster's biographer Richard Boston says the school had an intellectual and aesthetic tradition.\n"
          ],
          "name": "stdout"
        }
      ]
    },
    {
      "cell_type": "code",
      "metadata": {
        "id": "lyjSeQ-U_Lp8",
        "colab_type": "code",
        "colab": {
          "base_uri": "https://localhost:8080/",
          "height": 166
        },
        "outputId": "c263ee82-b383-4d0d-e96c-dbc10cdc9719"
      },
      "source": [
        "print(full_summary)"
      ],
      "execution_count": null,
      "outputs": [
        {
          "output_type": "stream",
          "text": [
            " Osbert Lancaster, CBE (4 August 1908 - 27 July 1986) was known for his cartoons  in the British press.\n",
            "Lancaster published the first of a series of books on architecture. was invited to contribute topical cartoons to The Daily Express.\n",
            "Between 1939 and his retirement in 1981 he drew 10,000 of these \"pocket cartoons\" Lancaster died at his London home in 1975.\n",
            "His diverse career, honoured by a knighthood in 1975, was celebrated by an exhibition at the Wallace Collection. Lancaster was an upper- middle class area in the early years of the 20th century.\n",
            "The family maintained a staff of servants, including a cook and  nurse. Lancaster was a celebrated amateur footballer and occasional first class cricketer.\n",
            "Lancaster's biographer Richard Boston says the school had an intellectual and aesthetic tradition. Lancaster shared Beerbohm's view that being an old boy was more pleasurable than being a pupil there.\n",
            "Lancaster shared Beerbohm's view that being an old boy was more pleasurable than being a pupil there.\n"
          ],
          "name": "stdout"
        }
      ]
    },
    {
      "cell_type": "code",
      "metadata": {
        "id": "RfT0su8C_RZE",
        "colab_type": "code",
        "colab": {}
      },
      "source": [
        ""
      ],
      "execution_count": null,
      "outputs": []
    }
  ]
}